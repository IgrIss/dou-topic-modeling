{
 "cells": [
  {
   "cell_type": "markdown",
   "metadata": {},
   "source": [
    "# DOU.ua Topic Modeling"
   ]
  },
  {
   "cell_type": "markdown",
   "metadata": {},
   "source": [
    "(c) Yuriy Guts, 2016"
   ]
  },
  {
   "cell_type": "markdown",
   "metadata": {},
   "source": [
    "Using Latent Dirichlet Allocation (LDA), we'll find out which topics dominate in the comments for each post."
   ]
  },
  {
   "cell_type": "markdown",
   "metadata": {},
   "source": [
    "## Imports"
   ]
  },
  {
   "cell_type": "code",
   "execution_count": 1,
   "metadata": {
    "collapsed": true
   },
   "outputs": [],
   "source": [
    "from __future__ import absolute_import, division, print_function"
   ]
  },
  {
   "cell_type": "code",
   "execution_count": 2,
   "metadata": {
    "collapsed": true
   },
   "outputs": [],
   "source": [
    "import codecs\n",
    "import glob\n",
    "import logging\n",
    "import os\n",
    "import re"
   ]
  },
  {
   "cell_type": "code",
   "execution_count": 3,
   "metadata": {
    "collapsed": true
   },
   "outputs": [],
   "source": [
    "import numpy as np"
   ]
  },
  {
   "cell_type": "code",
   "execution_count": 4,
   "metadata": {
    "collapsed": true
   },
   "outputs": [],
   "source": [
    "import gensim\n",
    "from gensim import corpora, models"
   ]
  },
  {
   "cell_type": "code",
   "execution_count": 5,
   "metadata": {
    "collapsed": true
   },
   "outputs": [],
   "source": [
    "import nltk\n",
    "from nltk.corpus import stopwords"
   ]
  },
  {
   "cell_type": "code",
   "execution_count": 6,
   "metadata": {
    "collapsed": false
   },
   "outputs": [
    {
     "name": "stdout",
     "output_type": "stream",
     "text": [
      "Populating the interactive namespace from numpy and matplotlib\n"
     ]
    }
   ],
   "source": [
    "%pylab inline"
   ]
  },
  {
   "cell_type": "markdown",
   "metadata": {},
   "source": [
    "**Set up logging**"
   ]
  },
  {
   "cell_type": "code",
   "execution_count": 7,
   "metadata": {
    "collapsed": true
   },
   "outputs": [],
   "source": [
    "logging.basicConfig(format='%(levelname)s : %(message)s', level=logging.INFO)\n",
    "logging.root.level = logging.INFO  # ipython sometimes messes up the logging setup; restore"
   ]
  },
  {
   "cell_type": "markdown",
   "metadata": {},
   "source": [
    "## Prepare Corpus"
   ]
  },
  {
   "cell_type": "markdown",
   "metadata": {},
   "source": [
    "**Read crawled comments from files**"
   ]
  },
  {
   "cell_type": "code",
   "execution_count": 8,
   "metadata": {
    "collapsed": false
   },
   "outputs": [],
   "source": [
    "texts = []\n",
    "filenames = []\n",
    "data_path = os.path.join(\"data\", \"clean\")\n",
    "for comment_file in glob.glob(os.path.join(data_path, \"clean-*.txt\")):\n",
    "    filenames.append(comment_file)\n",
    "    with codecs.open(comment_file, \"r\", \"utf-8\") as f:\n",
    "        texts.append(f.read())"
   ]
  },
  {
   "cell_type": "markdown",
   "metadata": {},
   "source": [
    "**Collect stopwords for English, Russian and Ukrainian**"
   ]
  },
  {
   "cell_type": "code",
   "execution_count": 9,
   "metadata": {
    "collapsed": true
   },
   "outputs": [],
   "source": [
    "stopwords_combined = set(stopwords.words(\"russian\")).union(stopwords.words(\"english\"))"
   ]
  },
  {
   "cell_type": "code",
   "execution_count": 10,
   "metadata": {
    "collapsed": false
   },
   "outputs": [
    {
     "name": "stdout",
     "output_type": "stream",
     "text": [
      "Stopword count: 304\n"
     ]
    }
   ],
   "source": [
    "print(\"Stopword count:\", len(stopwords_combined))"
   ]
  },
  {
   "cell_type": "code",
   "execution_count": 11,
   "metadata": {
    "collapsed": false
   },
   "outputs": [],
   "source": [
    "with open(os.path.join(\"utils\", \"stopwords-ru.txt\")) as swf:\n",
    "    stopwords_combined = stopwords_combined.union(set(swf.read().split(\"\\n\")))\n",
    "with open(os.path.join(\"utils\", \"stopwords-uk.txt\")) as swf:\n",
    "    stopwords_combined = stopwords_combined.union(set(swf.read().split(\"\\n\")))"
   ]
  },
  {
   "cell_type": "markdown",
   "metadata": {},
   "source": [
    "**Split texts into words**"
   ]
  },
  {
   "cell_type": "code",
   "execution_count": 12,
   "metadata": {
    "collapsed": false
   },
   "outputs": [],
   "source": [
    "tokenizer = nltk.tokenize.RegexpTokenizer(r\"\\w+\")"
   ]
  },
  {
   "cell_type": "code",
   "execution_count": 13,
   "metadata": {
    "collapsed": true
   },
   "outputs": [],
   "source": [
    "stemmer = nltk.stem.snowball.RussianStemmer()"
   ]
  },
  {
   "cell_type": "code",
   "execution_count": 14,
   "metadata": {
    "collapsed": false
   },
   "outputs": [],
   "source": [
    "texts = [\n",
    "    [\n",
    "        stemmer.stem(word)\n",
    "        for word in tokenizer.tokenize(document)\n",
    "        if not word in stopwords_combined\n",
    "    ]\n",
    "    for document in texts\n",
    "]"
   ]
  },
  {
   "cell_type": "markdown",
   "metadata": {},
   "source": [
    "**Create the corpus**"
   ]
  },
  {
   "cell_type": "code",
   "execution_count": 15,
   "metadata": {
    "collapsed": true
   },
   "outputs": [],
   "source": [
    "dictionary = corpora.Dictionary(texts)"
   ]
  },
  {
   "cell_type": "code",
   "execution_count": 16,
   "metadata": {
    "collapsed": false
   },
   "outputs": [
    {
     "name": "stdout",
     "output_type": "stream",
     "text": [
      "The corpus contains 519 documents.\n"
     ]
    }
   ],
   "source": [
    "print(\"The corpus contains\", dictionary.num_docs, \"documents.\")"
   ]
  },
  {
   "cell_type": "code",
   "execution_count": 17,
   "metadata": {
    "collapsed": true
   },
   "outputs": [],
   "source": [
    "corpus = [dictionary.doc2bow(text) for text in texts]"
   ]
  },
  {
   "cell_type": "markdown",
   "metadata": {},
   "source": [
    "## Train LDA Model"
   ]
  },
  {
   "cell_type": "code",
   "execution_count": 18,
   "metadata": {
    "collapsed": true
   },
   "outputs": [],
   "source": [
    "# Fixing the seed to make the results reproducible.\n",
    "np.random.seed(2016)"
   ]
  },
  {
   "cell_type": "code",
   "execution_count": 19,
   "metadata": {
    "collapsed": true
   },
   "outputs": [],
   "source": [
    "# Uncomment to retrain the model instead of loading it from file.\n",
    "\n",
    "# ldamodel = models.ldamodel.LdaModel(\n",
    "#     corpus,\n",
    "#     num_topics=18,\n",
    "#     id2word=dictionary,\n",
    "#     passes=70\n",
    "# )"
   ]
  },
  {
   "cell_type": "code",
   "execution_count": 20,
   "metadata": {
    "collapsed": false
   },
   "outputs": [],
   "source": [
    "ldamodel = models.ldamodel.LdaModel.load(os.path.join(\"trained\", \"checkpoint-18topics.lda\"))"
   ]
  },
  {
   "cell_type": "code",
   "execution_count": 21,
   "metadata": {
    "collapsed": false
   },
   "outputs": [
    {
     "data": {
      "text/plain": [
       "[(0,\n",
       "  '0.003*продукт + 0.003*подкаст + 0.002*бізнес + 0.002*фізик + 0.002*коуч + 0.002*ведущ + 0.002*ирин + 0.001*продуктов + 0.001*ісм + 0.001*аутсорсингов + 0.001*сапр + 0.001*ринк'),\n",
       " (1,\n",
       "  '0.014*налог + 0.011*налогов + 0.009*доход + 0.008*един + 0.008*плат + 0.008*счет + 0.007*добр + 0.007*групп + 0.006*фоп + 0.006*отчет + 0.006*вопрос + 0.005*сумм'),\n",
       " (2,\n",
       "  '0.016*курс + 0.010*jav + 0.009*ищ + 0.008*работ + 0.007*ментор + 0.006*знан + 0.004*проект + 0.004*html + 0.004*месяц + 0.004*работа + 0.004*css + 0.004*добр'),\n",
       " (3,\n",
       "  '0.007*box + 0.005*whit + 0.003*testing + 0.002*black + 0.002*ap + 0.002*полиграф + 0.002*автоматизац + 0.001*interna + 0.001*автотест + 0.001*автоматизатор + 0.001*structures + 0.001*selenium'),\n",
       " (4,\n",
       "  '0.005*телефон + 0.004*мошенник + 0.004*карт + 0.004*монитор + 0.004*номер + 0.004*деньг + 0.004*цен + 0.003*приложен + 0.003*ноут + 0.003*куп + 0.003*дан + 0.002*нов'),\n",
       " (5,\n",
       "  '0.008*мов + 0.007*українськ + 0.006*украинск + 0.005*язык + 0.005*як + 0.005*й + 0.004*що + 0.004*всі + 0.004*хабр + 0.003*бо + 0.003*русск + 0.003*цікав'),\n",
       " (6,\n",
       "  '0.020*шаг + 0.004*уч + 0.004*хорош + 0.003*академ + 0.003*программист + 0.003*стат + 0.003*заведен + 0.003*текст + 0.002*выпускник + 0.002*вуз + 0.002*студент + 0.002*шахмат'),\n",
       " (7,\n",
       "  '0.012*компан + 0.010*проект + 0.009*работ + 0.008*работа + 0.005*рекрутер + 0.004*команд + 0.004*вопрос + 0.003*специалист + 0.003*клиент + 0.003*офис + 0.003*задач + 0.003*случа'),\n",
       " (8,\n",
       "  '0.005*рекрутер + 0.004*вуз + 0.003*дава + 0.003*сталкива + 0.003*студент + 0.003*взятк + 0.003*могилянк + 0.002*коррупц + 0.002*кандидат + 0.002*33 + 0.002*й + 0.002*артанья'),\n",
       " (9,\n",
       "  '0.005*стран + 0.005*украин + 0.003*дорог + 0.003*работа + 0.003*прав + 0.003*плат + 0.003*люд + 0.003*дума + 0.003*говор + 0.003*машин + 0.003*деньг + 0.002*зарплат'),\n",
       " (10,\n",
       "  '0.014*банк + 0.013*карт + 0.006*деньг + 0.006*приват + 0.006*счет + 0.005*комисс + 0.005*вывод + 0.004*банкомат + 0.004*перевод + 0.004*доллар + 0.004*снима + 0.003*курс'),\n",
       " (11,\n",
       "  '0.014*алгоритм + 0.004*сценар + 0.003*ват + 0.002*дерев + 0.002*хипстер + 0.002*n + 0.002*нов + 0.002*знат + 0.002*структур + 0.002*черг + 0.002*фреймворк + 0.002*байт'),\n",
       " (12,\n",
       "  '0.013*виз + 0.006*документ + 0.006*украин + 0.006*зп + 0.006*польш + 0.005*получ + 0.005*работа + 0.005*паспорт + 0.005*стран + 0.005*зарплат + 0.004*пмж + 0.004*работ'),\n",
       " (13,\n",
       "  '0.008*продукт + 0.008*бот + 0.005*компан + 0.005*аутсорс + 0.003*продуктов + 0.003*нов + 0.002*корпоратив + 0.002*коммунизм + 0.002*продаж + 0.002*работа + 0.002*дума + 0.002*бизнес'),\n",
       " (14,\n",
       "  '0.010*курс + 0.009*резюм + 0.004*ге + 0.004*прав + 0.004*работ + 0.004*люд + 0.003*вопрос + 0.003*парад + 0.003*написа + 0.002*ваш + 0.002*как + 0.002*норм'),\n",
       " (15,\n",
       "  '0.007*украин + 0.005*стран + 0.004*воен + 0.004*вопрос + 0.004*войн + 0.004*украинск + 0.003*росс + 0.003*закон + 0.003*дума + 0.003*сдела + 0.003*границ + 0.003*военкомат'),\n",
       " (16,\n",
       "  '0.007*работ + 0.006*проект + 0.006*код + 0.005*работа + 0.004*язык + 0.003*программист + 0.003*вопрос + 0.003*писа + 0.003*дан + 0.003*написа + 0.003*jav + 0.003*сдела'),\n",
       " (17,\n",
       "  '0.012*девушк + 0.005*мужчин + 0.005*парн + 0.004*друг + 0.004*женщин + 0.004*отношен + 0.004*человек + 0.003*люб + 0.003*тем + 0.003*говор + 0.003*дума + 0.003*вопрос')]"
      ]
     },
     "execution_count": 21,
     "metadata": {},
     "output_type": "execute_result"
    }
   ],
   "source": [
    "ldamodel.print_topics(num_topics=18, num_words=12)"
   ]
  },
  {
   "cell_type": "code",
   "execution_count": 22,
   "metadata": {
    "collapsed": true
   },
   "outputs": [],
   "source": [
    "#ldamodel.save(os.path.join(\"trained\", \"checkpoint-18topics.lda\"))"
   ]
  },
  {
   "cell_type": "markdown",
   "metadata": {},
   "source": [
    "**Assign topic names for better interpretation later**"
   ]
  },
  {
   "cell_type": "code",
   "execution_count": 23,
   "metadata": {
    "collapsed": true
   },
   "outputs": [],
   "source": [
    "topic_names = [\n",
    "    # 00..04\n",
    "    \"market-1\", \"taxes\", \"mentor\", \"qa\", \"fraud\",\n",
    "    # 05..09\n",
    "    \"ukrainian\", \"courses\", \"recruitment\", \"edu-corruption\", \"living-conditions\",\n",
    "    # 10..14\n",
    "    \"cashflow\", \"knowledge\", \"tractor\", \"market-2\", \"moral-rights\",\n",
    "    # 15..17\n",
    "    \"politics\", \"work\", \"relationships\"\n",
    "]"
   ]
  },
  {
   "cell_type": "markdown",
   "metadata": {},
   "source": [
    "**Print topic structure for every post from our corpus**"
   ]
  },
  {
   "cell_type": "code",
   "execution_count": 24,
   "metadata": {
    "collapsed": false
   },
   "outputs": [
    {
     "data": {
      "text/plain": [
       "'data/clean/clean-comments-100-days.txt'"
      ]
     },
     "metadata": {},
     "output_type": "display_data"
    },
    {
     "data": {
      "text/plain": [
       "[('tractor', 0.54301792209455513),\n",
       " ('work', 0.28774082146911478),\n",
       " ('fraud', 0.16413522494726809)]"
      ]
     },
     "metadata": {},
     "output_type": "display_data"
    },
    {
     "name": "stdout",
     "output_type": "stream",
     "text": [
      "\n"
     ]
    },
    {
     "data": {
      "text/plain": [
       "'data/clean/clean-comments-10213.txt'"
      ]
     },
     "metadata": {},
     "output_type": "display_data"
    },
    {
     "data": {
      "text/plain": [
       "[('tractor', 0.5745084499734423),\n",
       " ('work', 0.27105605341618899),\n",
       " ('fraud', 0.082175467398559396)]"
      ]
     },
     "metadata": {},
     "output_type": "display_data"
    },
    {
     "name": "stdout",
     "output_type": "stream",
     "text": [
      "\n"
     ]
    },
    {
     "data": {
      "text/plain": [
       "'data/clean/clean-comments-10245.txt'"
      ]
     },
     "metadata": {},
     "output_type": "display_data"
    },
    {
     "data": {
      "text/plain": [
       "[('work', 0.44606113030169259),\n",
       " ('market-2', 0.31960703972254673),\n",
       " ('tractor', 0.13749145819933575),\n",
       " ('ukrainian', 0.051547661541896279)]"
      ]
     },
     "metadata": {},
     "output_type": "display_data"
    },
    {
     "name": "stdout",
     "output_type": "stream",
     "text": [
      "\n"
     ]
    },
    {
     "data": {
      "text/plain": [
       "'data/clean/clean-comments-10268.txt'"
      ]
     },
     "metadata": {},
     "output_type": "display_data"
    },
    {
     "data": {
      "text/plain": [
       "[('work', 0.27637138039032016),\n",
       " ('cashflow', 0.24093954438622006),\n",
       " ('market-2', 0.21057259867537323),\n",
       " ('tractor', 0.18090299424497783)]"
      ]
     },
     "metadata": {},
     "output_type": "display_data"
    },
    {
     "name": "stdout",
     "output_type": "stream",
     "text": [
      "\n"
     ]
    },
    {
     "data": {
      "text/plain": [
       "'data/clean/clean-comments-10331.txt'"
      ]
     },
     "metadata": {},
     "output_type": "display_data"
    },
    {
     "data": {
      "text/plain": [
       "[('work', 0.50387837628740195),\n",
       " ('relationships', 0.21848047114910349),\n",
       " ('living-conditions', 0.15539324478604336)]"
      ]
     },
     "metadata": {},
     "output_type": "display_data"
    },
    {
     "name": "stdout",
     "output_type": "stream",
     "text": [
      "\n"
     ]
    },
    {
     "data": {
      "text/plain": [
       "'data/clean/clean-comments-10405.txt'"
      ]
     },
     "metadata": {},
     "output_type": "display_data"
    },
    {
     "data": {
      "text/plain": [
       "[('work', 0.47128094809328652),\n",
       " ('relationships', 0.16786783367658004),\n",
       " ('living-conditions', 0.11385709530767292),\n",
       " ('tractor', 0.08102281340860612),\n",
       " ('cashflow', 0.060724606762776877)]"
      ]
     },
     "metadata": {},
     "output_type": "display_data"
    },
    {
     "name": "stdout",
     "output_type": "stream",
     "text": [
      "\n"
     ]
    },
    {
     "data": {
      "text/plain": [
       "'data/clean/clean-comments-10445.txt'"
      ]
     },
     "metadata": {},
     "output_type": "display_data"
    },
    {
     "data": {
      "text/plain": [
       "[('work', 0.40295279570610215),\n",
       " ('tractor', 0.13546394297404538),\n",
       " ('market-2', 0.086028262720467194),\n",
       " ('living-conditions', 0.08144396268039307),\n",
       " ('moral-rights', 0.073591476103558803),\n",
       " ('cashflow', 0.066496083162198613),\n",
       " ('relationships', 0.055983753176772989)]"
      ]
     },
     "metadata": {},
     "output_type": "display_data"
    },
    {
     "name": "stdout",
     "output_type": "stream",
     "text": [
      "\n"
     ]
    },
    {
     "data": {
      "text/plain": [
       "'data/clean/clean-comments-10453.txt'"
      ]
     },
     "metadata": {},
     "output_type": "display_data"
    },
    {
     "data": {
      "text/plain": [
       "[('work', 0.40605349080142361),\n",
       " ('tractor', 0.078325633642601311),\n",
       " ('relationships', 0.072680180669712921),\n",
       " ('living-conditions', 0.072584687509281542),\n",
       " ('mentor', 0.06968775945764949),\n",
       " ('cashflow', 0.069618104241904982),\n",
       " ('moral-rights', 0.067530669969909696),\n",
       " ('market-2', 0.054339488976484697)]"
      ]
     },
     "metadata": {},
     "output_type": "display_data"
    },
    {
     "name": "stdout",
     "output_type": "stream",
     "text": [
      "\n"
     ]
    },
    {
     "data": {
      "text/plain": [
       "'data/clean/clean-comments-10550.txt'"
      ]
     },
     "metadata": {},
     "output_type": "display_data"
    },
    {
     "data": {
      "text/plain": [
       "[('work', 0.29947538562696957),\n",
       " ('taxes', 0.13136727704188886),\n",
       " ('living-conditions', 0.12304426842470016),\n",
       " ('mentor', 0.099845416476787963),\n",
       " ('relationships', 0.07744238491928801),\n",
       " ('tractor', 0.064197185141728924),\n",
       " ('moral-rights', 0.059195633083827311),\n",
       " ('market-2', 0.058989250091972249)]"
      ]
     },
     "metadata": {},
     "output_type": "display_data"
    },
    {
     "name": "stdout",
     "output_type": "stream",
     "text": [
      "\n"
     ]
    },
    {
     "data": {
      "text/plain": [
       "'data/clean/clean-comments-10590.txt'"
      ]
     },
     "metadata": {},
     "output_type": "display_data"
    },
    {
     "data": {
      "text/plain": [
       "[('work', 0.34629416003083863),\n",
       " ('tractor', 0.13831388813945278),\n",
       " ('living-conditions', 0.1011460412572945),\n",
       " ('taxes', 0.089864892791754469),\n",
       " ('market-2', 0.082079934309709432),\n",
       " ('moral-rights', 0.068108557330628386)]"
      ]
     },
     "metadata": {},
     "output_type": "display_data"
    },
    {
     "name": "stdout",
     "output_type": "stream",
     "text": [
      "\n"
     ]
    },
    {
     "data": {
      "text/plain": [
       "'data/clean/clean-comments-10616.txt'"
      ]
     },
     "metadata": {},
     "output_type": "display_data"
    },
    {
     "data": {
      "text/plain": [
       "[('work', 0.34972477542401131),\n",
       " ('tractor', 0.11595378479841796),\n",
       " ('living-conditions', 0.077804689243615555),\n",
       " ('relationships', 0.067181753065808106),\n",
       " ('fraud', 0.064025234297216502),\n",
       " ('market-2', 0.062315022936633817),\n",
       " ('moral-rights', 0.052541389207060751)]"
      ]
     },
     "metadata": {},
     "output_type": "display_data"
    },
    {
     "name": "stdout",
     "output_type": "stream",
     "text": [
      "\n"
     ]
    },
    {
     "data": {
      "text/plain": [
       "'data/clean/clean-comments-10642.txt'"
      ]
     },
     "metadata": {},
     "output_type": "display_data"
    },
    {
     "data": {
      "text/plain": [
       "[('work', 0.31591733935989774),\n",
       " ('living-conditions', 0.21311565708038882),\n",
       " ('tractor', 0.091373739759356268),\n",
       " ('moral-rights', 0.057181817905304883),\n",
       " ('market-2', 0.050420631769833142)]"
      ]
     },
     "metadata": {},
     "output_type": "display_data"
    },
    {
     "name": "stdout",
     "output_type": "stream",
     "text": [
      "\n"
     ]
    },
    {
     "data": {
      "text/plain": [
       "'data/clean/clean-comments-10662.txt'"
      ]
     },
     "metadata": {},
     "output_type": "display_data"
    },
    {
     "data": {
      "text/plain": [
       "[('work', 0.57260935206070041),\n",
       " ('living-conditions', 0.1479045414824478),\n",
       " ('taxes', 0.056614075627070964)]"
      ]
     },
     "metadata": {},
     "output_type": "display_data"
    },
    {
     "name": "stdout",
     "output_type": "stream",
     "text": [
      "\n"
     ]
    },
    {
     "data": {
      "text/plain": [
       "'data/clean/clean-comments-10680.txt'"
      ]
     },
     "metadata": {},
     "output_type": "display_data"
    },
    {
     "data": {
      "text/plain": [
       "[('work', 0.4134288119511062),\n",
       " ('living-conditions', 0.14941184098465729),\n",
       " ('cashflow', 0.079583417197244169),\n",
       " ('tractor', 0.062082188990076399),\n",
       " ('fraud', 0.061904581350557659),\n",
       " ('moral-rights', 0.053868147956692404),\n",
       " ('relationships', 0.052250133275065086),\n",
       " ('market-2', 0.050838315699198777)]"
      ]
     },
     "metadata": {},
     "output_type": "display_data"
    },
    {
     "name": "stdout",
     "output_type": "stream",
     "text": [
      "\n"
     ]
    },
    {
     "data": {
      "text/plain": [
       "'data/clean/clean-comments-10755.txt'"
      ]
     },
     "metadata": {},
     "output_type": "display_data"
    },
    {
     "data": {
      "text/plain": [
       "[('work', 0.37978975476463739),\n",
       " ('tractor', 0.13067795041426941),\n",
       " ('market-2', 0.10848250627517951),\n",
       " ('cashflow', 0.088978890657244736),\n",
       " ('living-conditions', 0.071217979700849185),\n",
       " ('ukrainian', 0.062207456148612381)]"
      ]
     },
     "metadata": {},
     "output_type": "display_data"
    },
    {
     "name": "stdout",
     "output_type": "stream",
     "text": [
      "\n"
     ]
    },
    {
     "data": {
      "text/plain": [
       "'data/clean/clean-comments-10775.txt'"
      ]
     },
     "metadata": {},
     "output_type": "display_data"
    },
    {
     "data": {
      "text/plain": [
       "[('work', 0.47409228365251727),\n",
       " ('tractor', 0.12808069743762354),\n",
       " ('living-conditions', 0.073492619823251254),\n",
       " ('moral-rights', 0.056378126664552199),\n",
       " ('mentor', 0.053976280935848095)]"
      ]
     },
     "metadata": {},
     "output_type": "display_data"
    },
    {
     "name": "stdout",
     "output_type": "stream",
     "text": [
      "\n"
     ]
    },
    {
     "data": {
      "text/plain": [
       "'data/clean/clean-comments-10795.txt'"
      ]
     },
     "metadata": {},
     "output_type": "display_data"
    },
    {
     "data": {
      "text/plain": [
       "[('work', 0.42170867904877801),\n",
       " ('tractor', 0.12966361486544628),\n",
       " ('relationships', 0.085887602891406192),\n",
       " ('cashflow', 0.077376660450918913),\n",
       " ('market-2', 0.06593575776772119),\n",
       " ('living-conditions', 0.053098665382291965)]"
      ]
     },
     "metadata": {},
     "output_type": "display_data"
    },
    {
     "name": "stdout",
     "output_type": "stream",
     "text": [
      "\n"
     ]
    },
    {
     "data": {
      "text/plain": [
       "'data/clean/clean-comments-10815.txt'"
      ]
     },
     "metadata": {},
     "output_type": "display_data"
    },
    {
     "data": {
      "text/plain": [
       "[('work', 0.28703186684604004),\n",
       " ('relationships', 0.13474813220345505),\n",
       " ('moral-rights', 0.1031468728948555),\n",
       " ('living-conditions', 0.084719830492472517),\n",
       " ('fraud', 0.076926624806009467),\n",
       " ('tractor', 0.068124861447864504),\n",
       " ('market-2', 0.05047387210081513)]"
      ]
     },
     "metadata": {},
     "output_type": "display_data"
    },
    {
     "name": "stdout",
     "output_type": "stream",
     "text": [
      "\n"
     ]
    },
    {
     "data": {
      "text/plain": [
       "'data/clean/clean-comments-10934.txt'"
      ]
     },
     "metadata": {},
     "output_type": "display_data"
    },
    {
     "data": {
      "text/plain": [
       "[('work', 0.41402227125033048),\n",
       " ('living-conditions', 0.12845133607654802),\n",
       " ('moral-rights', 0.10588449008232334),\n",
       " ('tractor', 0.082638986216011914),\n",
       " ('cashflow', 0.067821244226172125)]"
      ]
     },
     "metadata": {},
     "output_type": "display_data"
    },
    {
     "name": "stdout",
     "output_type": "stream",
     "text": [
      "\n"
     ]
    },
    {
     "data": {
      "text/plain": [
       "'data/clean/clean-comments-11179.txt'"
      ]
     },
     "metadata": {},
     "output_type": "display_data"
    },
    {
     "data": {
      "text/plain": [
       "[('work', 0.24687866110708423),\n",
       " ('living-conditions', 0.15720479389876912),\n",
       " ('relationships', 0.14995619936460469),\n",
       " ('cashflow', 0.10062502963292316),\n",
       " ('tractor', 0.096066071057108723),\n",
       " ('recruitment', 0.074456729341804251)]"
      ]
     },
     "metadata": {},
     "output_type": "display_data"
    },
    {
     "name": "stdout",
     "output_type": "stream",
     "text": [
      "\n"
     ]
    },
    {
     "data": {
      "text/plain": [
       "'data/clean/clean-comments-11196.txt'"
      ]
     },
     "metadata": {},
     "output_type": "display_data"
    },
    {
     "data": {
      "text/plain": [
       "[('living-conditions', 0.38436387867730837),\n",
       " ('moral-rights', 0.174599385811959),\n",
       " ('work', 0.17224775253601743),\n",
       " ('recruitment', 0.10089546843715755),\n",
       " ('tractor', 0.074171184630813292),\n",
       " ('politics', 0.059865443770591054)]"
      ]
     },
     "metadata": {},
     "output_type": "display_data"
    },
    {
     "name": "stdout",
     "output_type": "stream",
     "text": [
      "\n"
     ]
    },
    {
     "data": {
      "text/plain": [
       "'data/clean/clean-comments-11347.txt'"
      ]
     },
     "metadata": {},
     "output_type": "display_data"
    },
    {
     "data": {
      "text/plain": [
       "[('work', 0.33323026081557028),\n",
       " ('living-conditions', 0.23754582952398104),\n",
       " ('tractor', 0.12329907675667068),\n",
       " ('moral-rights', 0.070018339138885846),\n",
       " ('relationships', 0.068589364329176894)]"
      ]
     },
     "metadata": {},
     "output_type": "display_data"
    },
    {
     "name": "stdout",
     "output_type": "stream",
     "text": [
      "\n"
     ]
    },
    {
     "data": {
      "text/plain": [
       "'data/clean/clean-comments-11352.txt'"
      ]
     },
     "metadata": {},
     "output_type": "display_data"
    },
    {
     "data": {
      "text/plain": [
       "[('work', 0.44449126912435394),\n",
       " ('living-conditions', 0.083263235483144502),\n",
       " ('moral-rights', 0.076977384133155968),\n",
       " ('cashflow', 0.072114025537009505)]"
      ]
     },
     "metadata": {},
     "output_type": "display_data"
    },
    {
     "name": "stdout",
     "output_type": "stream",
     "text": [
      "\n"
     ]
    },
    {
     "data": {
      "text/plain": [
       "'data/clean/clean-comments-11471.txt'"
      ]
     },
     "metadata": {},
     "output_type": "display_data"
    },
    {
     "data": {
      "text/plain": [
       "[('work', 0.32801843628005245),\n",
       " ('politics', 0.15792193073506866),\n",
       " ('tractor', 0.14005297714778464),\n",
       " ('living-conditions', 0.094872254875563639),\n",
       " ('moral-rights', 0.057967745673008816),\n",
       " ('relationships', 0.052290244445702593)]"
      ]
     },
     "metadata": {},
     "output_type": "display_data"
    },
    {
     "name": "stdout",
     "output_type": "stream",
     "text": [
      "\n"
     ]
    },
    {
     "data": {
      "text/plain": [
       "'data/clean/clean-comments-11486.txt'"
      ]
     },
     "metadata": {},
     "output_type": "display_data"
    },
    {
     "data": {
      "text/plain": [
       "[('work', 0.2975016128132793),\n",
       " ('moral-rights', 0.16115297095451414),\n",
       " ('living-conditions', 0.14020211264396892),\n",
       " ('tractor', 0.1162411142820063),\n",
       " ('relationships', 0.052366073377010436),\n",
       " ('market-2', 0.050233441256255028)]"
      ]
     },
     "metadata": {},
     "output_type": "display_data"
    },
    {
     "name": "stdout",
     "output_type": "stream",
     "text": [
      "\n"
     ]
    },
    {
     "data": {
      "text/plain": [
       "'data/clean/clean-comments-11490.txt'"
      ]
     },
     "metadata": {},
     "output_type": "display_data"
    },
    {
     "data": {
      "text/plain": [
       "[('work', 0.30777264174428481),\n",
       " ('moral-rights', 0.18906334284767021),\n",
       " ('living-conditions', 0.13638687611618358),\n",
       " ('tractor', 0.1023919116607853),\n",
       " ('relationships', 0.056312450893082365)]"
      ]
     },
     "metadata": {},
     "output_type": "display_data"
    },
    {
     "name": "stdout",
     "output_type": "stream",
     "text": [
      "\n"
     ]
    },
    {
     "data": {
      "text/plain": [
       "'data/clean/clean-comments-11599.txt'"
      ]
     },
     "metadata": {},
     "output_type": "display_data"
    },
    {
     "data": {
      "text/plain": [
       "[('work', 0.31033425142353382),\n",
       " ('moral-rights', 0.19137504224284163),\n",
       " ('living-conditions', 0.13148024821123561),\n",
       " ('tractor', 0.079577876571665956),\n",
       " ('relationships', 0.062876909017263269),\n",
       " ('market-2', 0.053374900578590269)]"
      ]
     },
     "metadata": {},
     "output_type": "display_data"
    },
    {
     "name": "stdout",
     "output_type": "stream",
     "text": [
      "\n"
     ]
    },
    {
     "data": {
      "text/plain": [
       "'data/clean/clean-comments-11751.txt'"
      ]
     },
     "metadata": {},
     "output_type": "display_data"
    },
    {
     "data": {
      "text/plain": [
       "[('work', 0.25932319889097011),\n",
       " ('moral-rights', 0.20129171558792644),\n",
       " ('living-conditions', 0.17673379643625736),\n",
       " ('tractor', 0.079450577269283382),\n",
       " ('relationships', 0.075367994455685192),\n",
       " ('cashflow', 0.053161727244078832)]"
      ]
     },
     "metadata": {},
     "output_type": "display_data"
    },
    {
     "name": "stdout",
     "output_type": "stream",
     "text": [
      "\n"
     ]
    },
    {
     "data": {
      "text/plain": [
       "'data/clean/clean-comments-11753.txt'"
      ]
     },
     "metadata": {},
     "output_type": "display_data"
    },
    {
     "data": {
      "text/plain": [
       "[('work', 0.25910186833630144),\n",
       " ('moral-rights', 0.18749382149776342),\n",
       " ('living-conditions', 0.1445848299827977),\n",
       " ('tractor', 0.10596071680226708),\n",
       " ('cashflow', 0.06543564915432315),\n",
       " ('relationships', 0.065422747608343254)]"
      ]
     },
     "metadata": {},
     "output_type": "display_data"
    },
    {
     "name": "stdout",
     "output_type": "stream",
     "text": [
      "\n"
     ]
    },
    {
     "data": {
      "text/plain": [
       "'data/clean/clean-comments-11882.txt'"
      ]
     },
     "metadata": {},
     "output_type": "display_data"
    },
    {
     "data": {
      "text/plain": [
       "[('work', 0.30137663391608038),\n",
       " ('moral-rights', 0.18078058412219281),\n",
       " ('living-conditions', 0.1533928618703875),\n",
       " ('tractor', 0.10802534557251231),\n",
       " ('market-2', 0.050050041547428967)]"
      ]
     },
     "metadata": {},
     "output_type": "display_data"
    },
    {
     "name": "stdout",
     "output_type": "stream",
     "text": [
      "\n"
     ]
    },
    {
     "data": {
      "text/plain": [
       "'data/clean/clean-comments-11902.txt'"
      ]
     },
     "metadata": {},
     "output_type": "display_data"
    },
    {
     "data": {
      "text/plain": [
       "[('work', 0.38645192836025705),\n",
       " ('moral-rights', 0.1640954343386547),\n",
       " ('living-conditions', 0.087039338014705758),\n",
       " ('relationships', 0.074837028325777419),\n",
       " ('tractor', 0.063257975750361656),\n",
       " ('cashflow', 0.061910331939800278),\n",
       " ('taxes', 0.056569652646272957),\n",
       " ('mentor', 0.055169456424466121)]"
      ]
     },
     "metadata": {},
     "output_type": "display_data"
    },
    {
     "name": "stdout",
     "output_type": "stream",
     "text": [
      "\n"
     ]
    },
    {
     "data": {
      "text/plain": [
       "'data/clean/clean-comments-12118.txt'"
      ]
     },
     "metadata": {},
     "output_type": "display_data"
    },
    {
     "data": {
      "text/plain": [
       "[('work', 0.32500686070872942),\n",
       " ('moral-rights', 0.19053949212352728),\n",
       " ('living-conditions', 0.12889077862066581),\n",
       " ('tractor', 0.079870524411277719),\n",
       " ('market-2', 0.058946962447393093),\n",
       " ('cashflow', 0.050156707221543008)]"
      ]
     },
     "metadata": {},
     "output_type": "display_data"
    },
    {
     "name": "stdout",
     "output_type": "stream",
     "text": [
      "\n"
     ]
    },
    {
     "data": {
      "text/plain": [
       "'data/clean/clean-comments-1212.txt'"
      ]
     },
     "metadata": {},
     "output_type": "display_data"
    },
    {
     "data": {
      "text/plain": [
       "[('work', 0.28005642628959565),\n",
       " ('moral-rights', 0.2058016738667052),\n",
       " ('living-conditions', 0.12668787989414729),\n",
       " ('tractor', 0.087343334725017055),\n",
       " ('relationships', 0.065400176253363265),\n",
       " ('market-2', 0.056179994175715633)]"
      ]
     },
     "metadata": {},
     "output_type": "display_data"
    },
    {
     "name": "stdout",
     "output_type": "stream",
     "text": [
      "\n"
     ]
    },
    {
     "data": {
      "text/plain": [
       "'data/clean/clean-comments-12184.txt'"
      ]
     },
     "metadata": {},
     "output_type": "display_data"
    },
    {
     "data": {
      "text/plain": [
       "[('work', 0.35443663979376538),\n",
       " ('moral-rights', 0.22039384019649144),\n",
       " ('tractor', 0.11621470345704187),\n",
       " ('living-conditions', 0.10821686875433024)]"
      ]
     },
     "metadata": {},
     "output_type": "display_data"
    },
    {
     "name": "stdout",
     "output_type": "stream",
     "text": [
      "\n"
     ]
    },
    {
     "data": {
      "text/plain": [
       "'data/clean/clean-comments-12284.txt'"
      ]
     },
     "metadata": {},
     "output_type": "display_data"
    },
    {
     "data": {
      "text/plain": [
       "[('work', 0.26013791401771036),\n",
       " ('moral-rights', 0.18222787457632184),\n",
       " ('living-conditions', 0.15270450767156613),\n",
       " ('relationships', 0.10145902011389249),\n",
       " ('tractor', 0.098158996292274731),\n",
       " ('mentor', 0.051159323369082126)]"
      ]
     },
     "metadata": {},
     "output_type": "display_data"
    },
    {
     "name": "stdout",
     "output_type": "stream",
     "text": [
      "\n"
     ]
    },
    {
     "data": {
      "text/plain": [
       "'data/clean/clean-comments-12331.txt'"
      ]
     },
     "metadata": {},
     "output_type": "display_data"
    },
    {
     "data": {
      "text/plain": [
       "[('work', 0.31322593113933822),\n",
       " ('moral-rights', 0.20256090958113609),\n",
       " ('living-conditions', 0.097163539320146805),\n",
       " ('tractor', 0.091517527138853985),\n",
       " ('market-2', 0.075338608226497947),\n",
       " ('relationships', 0.062391639903468195)]"
      ]
     },
     "metadata": {},
     "output_type": "display_data"
    },
    {
     "name": "stdout",
     "output_type": "stream",
     "text": [
      "\n"
     ]
    },
    {
     "data": {
      "text/plain": [
       "'data/clean/clean-comments-12357.txt'"
      ]
     },
     "metadata": {},
     "output_type": "display_data"
    },
    {
     "data": {
      "text/plain": [
       "[('work', 0.25536932530658835),\n",
       " ('moral-rights', 0.13812681679555172),\n",
       " ('living-conditions', 0.11930058562294406),\n",
       " ('taxes', 0.11560546191315556),\n",
       " ('tractor', 0.1114444029128161),\n",
       " ('relationships', 0.065897154522473175)]"
      ]
     },
     "metadata": {},
     "output_type": "display_data"
    },
    {
     "name": "stdout",
     "output_type": "stream",
     "text": [
      "\n"
     ]
    },
    {
     "data": {
      "text/plain": [
       "'data/clean/clean-comments-12427.txt'"
      ]
     },
     "metadata": {},
     "output_type": "display_data"
    },
    {
     "data": {
      "text/plain": [
       "[('work', 0.29059104604562536),\n",
       " ('living-conditions', 0.12038936708288088),\n",
       " ('tractor', 0.092474972495485336),\n",
       " ('moral-rights', 0.076513036406550036),\n",
       " ('courses', 0.067567964721291743),\n",
       " ('taxes', 0.060674033967205943),\n",
       " ('relationships', 0.055055394948969869)]"
      ]
     },
     "metadata": {},
     "output_type": "display_data"
    },
    {
     "name": "stdout",
     "output_type": "stream",
     "text": [
      "\n"
     ]
    },
    {
     "data": {
      "text/plain": [
       "'data/clean/clean-comments-12449.txt'"
      ]
     },
     "metadata": {},
     "output_type": "display_data"
    },
    {
     "data": {
      "text/plain": [
       "[('work', 0.40447721822244126),\n",
       " ('tractor', 0.12856872434821062),\n",
       " ('living-conditions', 0.09977263300140235),\n",
       " ('moral-rights', 0.077969867885327115),\n",
       " ('ukrainian', 0.056489971309241764),\n",
       " ('market-2', 0.051672992806694809)]"
      ]
     },
     "metadata": {},
     "output_type": "display_data"
    },
    {
     "name": "stdout",
     "output_type": "stream",
     "text": [
      "\n"
     ]
    },
    {
     "data": {
      "text/plain": [
       "'data/clean/clean-comments-12509.txt'"
      ]
     },
     "metadata": {},
     "output_type": "display_data"
    },
    {
     "data": {
      "text/plain": [
       "[('work', 0.49727181243521629),\n",
       " ('moral-rights', 0.15855323417466605),\n",
       " ('tractor', 0.074043936822067447),\n",
       " ('living-conditions', 0.068467391891062768)]"
      ]
     },
     "metadata": {},
     "output_type": "display_data"
    },
    {
     "name": "stdout",
     "output_type": "stream",
     "text": [
      "\n"
     ]
    },
    {
     "data": {
      "text/plain": [
       "'data/clean/clean-comments-12516.txt'"
      ]
     },
     "metadata": {},
     "output_type": "display_data"
    },
    {
     "data": {
      "text/plain": [
       "[('work', 0.36782833535181819),\n",
       " ('tractor', 0.12064865588519993),\n",
       " ('market-2', 0.10148336173480574),\n",
       " ('moral-rights', 0.0871114069917448),\n",
       " ('living-conditions', 0.080325050692123853),\n",
       " ('fraud', 0.054392217804331074)]"
      ]
     },
     "metadata": {},
     "output_type": "display_data"
    },
    {
     "name": "stdout",
     "output_type": "stream",
     "text": [
      "\n"
     ]
    },
    {
     "data": {
      "text/plain": [
       "'data/clean/clean-comments-12542.txt'"
      ]
     },
     "metadata": {},
     "output_type": "display_data"
    },
    {
     "data": {
      "text/plain": [
       "[('work', 0.48005152012193136),\n",
       " ('living-conditions', 0.10275607652585937),\n",
       " ('tractor', 0.097902135679249533),\n",
       " ('moral-rights', 0.065312401541096424),\n",
       " ('cashflow', 0.058497487309468486),\n",
       " ('market-2', 0.05410478756723288)]"
      ]
     },
     "metadata": {},
     "output_type": "display_data"
    },
    {
     "name": "stdout",
     "output_type": "stream",
     "text": [
      "\n"
     ]
    },
    {
     "data": {
      "text/plain": [
       "'data/clean/clean-comments-12567.txt'"
      ]
     },
     "metadata": {},
     "output_type": "display_data"
    },
    {
     "data": {
      "text/plain": [
       "[('work', 0.38727427738256265),\n",
       " ('tractor', 0.12008016157650753),\n",
       " ('relationships', 0.09007336659702371),\n",
       " ('market-2', 0.066963956503416244),\n",
       " ('fraud', 0.064005066693499618),\n",
       " ('living-conditions', 0.063844706601550047),\n",
       " ('cashflow', 0.059634524076326925)]"
      ]
     },
     "metadata": {},
     "output_type": "display_data"
    },
    {
     "name": "stdout",
     "output_type": "stream",
     "text": [
      "\n"
     ]
    },
    {
     "data": {
      "text/plain": [
       "'data/clean/clean-comments-12624.txt'"
      ]
     },
     "metadata": {},
     "output_type": "display_data"
    },
    {
     "data": {
      "text/plain": [
       "[('work', 0.42402229764557203),\n",
       " ('tractor', 0.10537448925121236),\n",
       " ('living-conditions', 0.099250468969212247),\n",
       " ('cashflow', 0.079799737048580691),\n",
       " ('market-2', 0.063623748796926588),\n",
       " ('moral-rights', 0.061922727255307099),\n",
       " ('relationships', 0.051812515692206067)]"
      ]
     },
     "metadata": {},
     "output_type": "display_data"
    },
    {
     "name": "stdout",
     "output_type": "stream",
     "text": [
      "\n"
     ]
    },
    {
     "data": {
      "text/plain": [
       "'data/clean/clean-comments-12678.txt'"
      ]
     },
     "metadata": {},
     "output_type": "display_data"
    },
    {
     "data": {
      "text/plain": [
       "[('work', 0.2970790572987162),\n",
       " ('cashflow', 0.17576611225516442),\n",
       " ('living-conditions', 0.097787549814232683),\n",
       " ('moral-rights', 0.085499735080254741),\n",
       " ('relationships', 0.069282325004089998),\n",
       " ('market-2', 0.05706157965289109),\n",
       " ('tractor', 0.053072525728198428)]"
      ]
     },
     "metadata": {},
     "output_type": "display_data"
    },
    {
     "name": "stdout",
     "output_type": "stream",
     "text": [
      "\n"
     ]
    },
    {
     "data": {
      "text/plain": [
       "'data/clean/clean-comments-12709.txt'"
      ]
     },
     "metadata": {},
     "output_type": "display_data"
    },
    {
     "data": {
      "text/plain": [
       "[('work', 0.32167178798134632),\n",
       " ('moral-rights', 0.1241686373189604),\n",
       " ('living-conditions', 0.09291885833781599),\n",
       " ('tractor', 0.079012183672220473),\n",
       " ('cashflow', 0.056047747279298683),\n",
       " ('relationships', 0.051872146229302127)]"
      ]
     },
     "metadata": {},
     "output_type": "display_data"
    },
    {
     "name": "stdout",
     "output_type": "stream",
     "text": [
      "\n"
     ]
    },
    {
     "data": {
      "text/plain": [
       "'data/clean/clean-comments-12787.txt'"
      ]
     },
     "metadata": {},
     "output_type": "display_data"
    },
    {
     "data": {
      "text/plain": [
       "[('work', 0.28848928355200548),\n",
       " ('moral-rights', 0.18176518817961287),\n",
       " ('tractor', 0.12580741471392537),\n",
       " ('living-conditions', 0.099487827163651732),\n",
       " ('taxes', 0.084923905489745266),\n",
       " ('cashflow', 0.050547426167989906)]"
      ]
     },
     "metadata": {},
     "output_type": "display_data"
    },
    {
     "name": "stdout",
     "output_type": "stream",
     "text": [
      "\n"
     ]
    },
    {
     "data": {
      "text/plain": [
       "'data/clean/clean-comments-12916.txt'"
      ]
     },
     "metadata": {},
     "output_type": "display_data"
    },
    {
     "data": {
      "text/plain": [
       "[('work', 0.35404990555837312),\n",
       " ('living-conditions', 0.14227689196188187),\n",
       " ('moral-rights', 0.10576930732601271),\n",
       " ('tractor', 0.10062628481130634),\n",
       " ('taxes', 0.077970841595901966)]"
      ]
     },
     "metadata": {},
     "output_type": "display_data"
    },
    {
     "name": "stdout",
     "output_type": "stream",
     "text": [
      "\n"
     ]
    },
    {
     "data": {
      "text/plain": [
       "'data/clean/clean-comments-12923.txt'"
      ]
     },
     "metadata": {},
     "output_type": "display_data"
    },
    {
     "data": {
      "text/plain": [
       "[('work', 0.38256362384405096),\n",
       " ('tractor', 0.13991415057623827),\n",
       " ('market-2', 0.09458199794590004),\n",
       " ('living-conditions', 0.081121851796278815),\n",
       " ('moral-rights', 0.064586501369704952),\n",
       " ('relationships', 0.061173467851300643)]"
      ]
     },
     "metadata": {},
     "output_type": "display_data"
    },
    {
     "name": "stdout",
     "output_type": "stream",
     "text": [
      "\n"
     ]
    },
    {
     "data": {
      "text/plain": [
       "'data/clean/clean-comments-12977.txt'"
      ]
     },
     "metadata": {},
     "output_type": "display_data"
    },
    {
     "data": {
      "text/plain": [
       "[('work', 0.28698020945383579),\n",
       " ('tractor', 0.16228518107769455),\n",
       " ('living-conditions', 0.099366842278777234),\n",
       " ('taxes', 0.089490317724144453),\n",
       " ('market-2', 0.071007486486778848),\n",
       " ('moral-rights', 0.057583856966625949)]"
      ]
     },
     "metadata": {},
     "output_type": "display_data"
    },
    {
     "name": "stdout",
     "output_type": "stream",
     "text": [
      "\n"
     ]
    },
    {
     "data": {
      "text/plain": [
       "'data/clean/clean-comments-13018.txt'"
      ]
     },
     "metadata": {},
     "output_type": "display_data"
    },
    {
     "data": {
      "text/plain": [
       "[('tractor', 0.30716976783933114),\n",
       " ('work', 0.29732828505421721),\n",
       " ('cashflow', 0.14089705162492711),\n",
       " ('moral-rights', 0.13234581582609259)]"
      ]
     },
     "metadata": {},
     "output_type": "display_data"
    },
    {
     "name": "stdout",
     "output_type": "stream",
     "text": [
      "\n"
     ]
    },
    {
     "data": {
      "text/plain": [
       "'data/clean/clean-comments-13066.txt'"
      ]
     },
     "metadata": {},
     "output_type": "display_data"
    },
    {
     "data": {
      "text/plain": [
       "[('work', 0.31036572022200176),\n",
       " ('tractor', 0.20835045052501036),\n",
       " ('living-conditions', 0.13645999983126805),\n",
       " ('relationships', 0.064682177132007732),\n",
       " ('moral-rights', 0.051601634897229839)]"
      ]
     },
     "metadata": {},
     "output_type": "display_data"
    },
    {
     "name": "stdout",
     "output_type": "stream",
     "text": [
      "\n"
     ]
    },
    {
     "data": {
      "text/plain": [
       "'data/clean/clean-comments-13213.txt'"
      ]
     },
     "metadata": {},
     "output_type": "display_data"
    },
    {
     "data": {
      "text/plain": [
       "[('work', 0.40513413254701724),\n",
       " ('tractor', 0.19675653566917531),\n",
       " ('market-2', 0.095806923061884583),\n",
       " ('living-conditions', 0.065344720848081031),\n",
       " ('moral-rights', 0.06065916864437778),\n",
       " ('cashflow', 0.057803299953308671)]"
      ]
     },
     "metadata": {},
     "output_type": "display_data"
    },
    {
     "name": "stdout",
     "output_type": "stream",
     "text": [
      "\n"
     ]
    },
    {
     "data": {
      "text/plain": [
       "'data/clean/clean-comments-13218.txt'"
      ]
     },
     "metadata": {},
     "output_type": "display_data"
    },
    {
     "data": {
      "text/plain": [
       "[('work', 0.29317236536835783),\n",
       " ('cashflow', 0.13474644920035636),\n",
       " ('tractor', 0.10467244095045229),\n",
       " ('moral-rights', 0.082833617648983962),\n",
       " ('living-conditions', 0.079096916131929929),\n",
       " ('relationships', 0.06703760604875765),\n",
       " ('market-2', 0.060445507071525462)]"
      ]
     },
     "metadata": {},
     "output_type": "display_data"
    },
    {
     "name": "stdout",
     "output_type": "stream",
     "text": [
      "\n"
     ]
    },
    {
     "data": {
      "text/plain": [
       "'data/clean/clean-comments-13249.txt'"
      ]
     },
     "metadata": {},
     "output_type": "display_data"
    },
    {
     "data": {
      "text/plain": [
       "[('work', 0.32824152095585274),\n",
       " ('cashflow', 0.15647233703808833),\n",
       " ('tractor', 0.10936385669088218),\n",
       " ('living-conditions', 0.087012895884357289),\n",
       " ('mentor', 0.085299971763824395),\n",
       " ('market-2', 0.052169767357960889)]"
      ]
     },
     "metadata": {},
     "output_type": "display_data"
    },
    {
     "name": "stdout",
     "output_type": "stream",
     "text": [
      "\n"
     ]
    },
    {
     "data": {
      "text/plain": [
       "'data/clean/clean-comments-13362.txt'"
      ]
     },
     "metadata": {},
     "output_type": "display_data"
    },
    {
     "data": {
      "text/plain": [
       "[('work', 0.38449842374441057),\n",
       " ('cashflow', 0.12598391387921895),\n",
       " ('tractor', 0.12055785064472781),\n",
       " ('living-conditions', 0.081005693217531483),\n",
       " ('moral-rights', 0.07778753080696317),\n",
       " ('market-2', 0.060118592702543799)]"
      ]
     },
     "metadata": {},
     "output_type": "display_data"
    },
    {
     "name": "stdout",
     "output_type": "stream",
     "text": [
      "\n"
     ]
    },
    {
     "data": {
      "text/plain": [
       "'data/clean/clean-comments-13389.txt'"
      ]
     },
     "metadata": {},
     "output_type": "display_data"
    },
    {
     "data": {
      "text/plain": [
       "[('work', 0.29391140585955627),\n",
       " ('cashflow', 0.22109834200046252),\n",
       " ('living-conditions', 0.086481556785703559),\n",
       " ('relationships', 0.078928101776498949),\n",
       " ('tractor', 0.069397715663627679),\n",
       " ('moral-rights', 0.061718338541926217)]"
      ]
     },
     "metadata": {},
     "output_type": "display_data"
    },
    {
     "name": "stdout",
     "output_type": "stream",
     "text": [
      "\n"
     ]
    },
    {
     "data": {
      "text/plain": [
       "'data/clean/clean-comments-13423.txt'"
      ]
     },
     "metadata": {},
     "output_type": "display_data"
    },
    {
     "data": {
      "text/plain": [
       "[('work', 0.33032833188646366),\n",
       " ('tractor', 0.12826374198171439),\n",
       " ('living-conditions', 0.095158621191312714),\n",
       " ('cashflow', 0.092273388313072427),\n",
       " ('market-2', 0.080453879240514642),\n",
       " ('moral-rights', 0.06175443371611386)]"
      ]
     },
     "metadata": {},
     "output_type": "display_data"
    },
    {
     "name": "stdout",
     "output_type": "stream",
     "text": [
      "\n"
     ]
    },
    {
     "data": {
      "text/plain": [
       "'data/clean/clean-comments-13424.txt'"
      ]
     },
     "metadata": {},
     "output_type": "display_data"
    },
    {
     "data": {
      "text/plain": [
       "[('work', 0.21949303012448668),\n",
       " ('politics', 0.15330797232777787),\n",
       " ('living-conditions', 0.10735410216642263),\n",
       " ('relationships', 0.10097911954898542),\n",
       " ('tractor', 0.10091460311970872),\n",
       " ('moral-rights', 0.081251140254019402),\n",
       " ('cashflow', 0.053313731831197801)]"
      ]
     },
     "metadata": {},
     "output_type": "display_data"
    },
    {
     "name": "stdout",
     "output_type": "stream",
     "text": [
      "\n"
     ]
    },
    {
     "data": {
      "text/plain": [
       "'data/clean/clean-comments-13465.txt'"
      ]
     },
     "metadata": {},
     "output_type": "display_data"
    },
    {
     "data": {
      "text/plain": [
       "[('work', 0.29509534625558009),\n",
       " ('moral-rights', 0.14464338805721358),\n",
       " ('politics', 0.11692089270108327),\n",
       " ('tractor', 0.093784403184831902),\n",
       " ('cashflow', 0.083743445983837025),\n",
       " ('market-2', 0.066714059294599032),\n",
       " ('living-conditions', 0.060614340080130003)]"
      ]
     },
     "metadata": {},
     "output_type": "display_data"
    },
    {
     "name": "stdout",
     "output_type": "stream",
     "text": [
      "\n"
     ]
    },
    {
     "data": {
      "text/plain": [
       "'data/clean/clean-comments-13532.txt'"
      ]
     },
     "metadata": {},
     "output_type": "display_data"
    },
    {
     "data": {
      "text/plain": [
       "[('work', 0.25116856664626591),\n",
       " ('politics', 0.16671455805401547),\n",
       " ('living-conditions', 0.09804815976486056),\n",
       " ('relationships', 0.077565789904471036),\n",
       " ('fraud', 0.055869138422099451),\n",
       " ('tractor', 0.054923699243324561),\n",
       " ('cashflow', 0.053574601510253304)]"
      ]
     },
     "metadata": {},
     "output_type": "display_data"
    },
    {
     "name": "stdout",
     "output_type": "stream",
     "text": [
      "\n"
     ]
    },
    {
     "data": {
      "text/plain": [
       "'data/clean/clean-comments-13609.txt'"
      ]
     },
     "metadata": {},
     "output_type": "display_data"
    },
    {
     "data": {
      "text/plain": [
       "[('work', 0.34787440760736055),\n",
       " ('tractor', 0.19371379790944285),\n",
       " ('living-conditions', 0.11532883786581896),\n",
       " ('politics', 0.10819460771337386),\n",
       " ('cashflow', 0.08726446539517603),\n",
       " ('mentor', 0.081386102185866602)]"
      ]
     },
     "metadata": {},
     "output_type": "display_data"
    },
    {
     "name": "stdout",
     "output_type": "stream",
     "text": [
      "\n"
     ]
    },
    {
     "data": {
      "text/plain": [
       "'data/clean/clean-comments-13651.txt'"
      ]
     },
     "metadata": {},
     "output_type": "display_data"
    },
    {
     "data": {
      "text/plain": [
       "[('work', 0.25096318864774558),\n",
       " ('living-conditions', 0.14359548797878799),\n",
       " ('moral-rights', 0.12682659330252247),\n",
       " ('politics', 0.10054511253045606),\n",
       " ('tractor', 0.099708749212620573),\n",
       " ('relationships', 0.081644456085386272)]"
      ]
     },
     "metadata": {},
     "output_type": "display_data"
    },
    {
     "name": "stdout",
     "output_type": "stream",
     "text": [
      "\n"
     ]
    },
    {
     "data": {
      "text/plain": [
       "'data/clean/clean-comments-13664.txt'"
      ]
     },
     "metadata": {},
     "output_type": "display_data"
    },
    {
     "data": {
      "text/plain": [
       "[('work', 0.29444651947646694),\n",
       " ('living-conditions', 0.19303144626153981),\n",
       " ('politics', 0.16183739155015173),\n",
       " ('moral-rights', 0.094430525267203552),\n",
       " ('tractor', 0.070492487636776402),\n",
       " ('cashflow', 0.062534232285035796)]"
      ]
     },
     "metadata": {},
     "output_type": "display_data"
    },
    {
     "name": "stdout",
     "output_type": "stream",
     "text": [
      "\n"
     ]
    },
    {
     "data": {
      "text/plain": [
       "'data/clean/clean-comments-13745.txt'"
      ]
     },
     "metadata": {},
     "output_type": "display_data"
    },
    {
     "data": {
      "text/plain": [
       "[('work', 0.29568075849308201),\n",
       " ('politics', 0.15237559573043052),\n",
       " ('living-conditions', 0.1215330511608909),\n",
       " ('moral-rights', 0.085927447035330826),\n",
       " ('market-2', 0.070939392775601184),\n",
       " ('tractor', 0.064587875882709561),\n",
       " ('relationships', 0.056718210079449688)]"
      ]
     },
     "metadata": {},
     "output_type": "display_data"
    },
    {
     "name": "stdout",
     "output_type": "stream",
     "text": [
      "\n"
     ]
    },
    {
     "data": {
      "text/plain": [
       "'data/clean/clean-comments-13752.txt'"
      ]
     },
     "metadata": {},
     "output_type": "display_data"
    },
    {
     "data": {
      "text/plain": [
       "[('work', 0.29582462616017391),\n",
       " ('politics', 0.12631117266500744),\n",
       " ('moral-rights', 0.1049321075713555),\n",
       " ('living-conditions', 0.095239835884053645),\n",
       " ('tractor', 0.089094924078724172),\n",
       " ('cashflow', 0.072261016196064121),\n",
       " ('market-2', 0.053053653939689124)]"
      ]
     },
     "metadata": {},
     "output_type": "display_data"
    },
    {
     "name": "stdout",
     "output_type": "stream",
     "text": [
      "\n"
     ]
    },
    {
     "data": {
      "text/plain": [
       "'data/clean/clean-comments-1376.txt'"
      ]
     },
     "metadata": {},
     "output_type": "display_data"
    },
    {
     "data": {
      "text/plain": [
       "[('work', 0.31295004146449695),\n",
       " ('tractor', 0.14855316940700686),\n",
       " ('living-conditions', 0.10153568543954281),\n",
       " ('moral-rights', 0.085596348205185649),\n",
       " ('politics', 0.080220907695260399),\n",
       " ('market-2', 0.058307450248183332),\n",
       " ('cashflow', 0.052213542536623296),\n",
       " ('relationships', 0.050010462307726856)]"
      ]
     },
     "metadata": {},
     "output_type": "display_data"
    },
    {
     "name": "stdout",
     "output_type": "stream",
     "text": [
      "\n"
     ]
    },
    {
     "data": {
      "text/plain": [
       "'data/clean/clean-comments-13770.txt'"
      ]
     },
     "metadata": {},
     "output_type": "display_data"
    },
    {
     "data": {
      "text/plain": [
       "[('work', 0.35185614614255478),\n",
       " ('living-conditions', 0.1299483375085094),\n",
       " ('tractor', 0.083048532144010923),\n",
       " ('cashflow', 0.066945228901582318),\n",
       " ('moral-rights', 0.06504313045269236),\n",
       " ('market-2', 0.062891530352733371),\n",
       " ('fraud', 0.053366547698357435),\n",
       " ('relationships', 0.051229637929909755)]"
      ]
     },
     "metadata": {},
     "output_type": "display_data"
    },
    {
     "name": "stdout",
     "output_type": "stream",
     "text": [
      "\n"
     ]
    },
    {
     "data": {
      "text/plain": [
       "'data/clean/clean-comments-13789.txt'"
      ]
     },
     "metadata": {},
     "output_type": "display_data"
    },
    {
     "data": {
      "text/plain": [
       "[('work', 0.36059444939652291),\n",
       " ('moral-rights', 0.16951540689514794),\n",
       " ('relationships', 0.10549289681246359),\n",
       " ('market-2', 0.06953184663712797),\n",
       " ('mentor', 0.062120528004924715),\n",
       " ('living-conditions', 0.057511416814962857)]"
      ]
     },
     "metadata": {},
     "output_type": "display_data"
    },
    {
     "name": "stdout",
     "output_type": "stream",
     "text": [
      "\n"
     ]
    },
    {
     "data": {
      "text/plain": [
       "'data/clean/clean-comments-13928.txt'"
      ]
     },
     "metadata": {},
     "output_type": "display_data"
    },
    {
     "data": {
      "text/plain": [
       "[('work', 0.30665193836737059),\n",
       " ('moral-rights', 0.22411739299583025),\n",
       " ('cashflow', 0.088629031848175499),\n",
       " ('relationships', 0.086985681129766207),\n",
       " ('tractor', 0.053039115134430638),\n",
       " ('living-conditions', 0.052038589522429485)]"
      ]
     },
     "metadata": {},
     "output_type": "display_data"
    },
    {
     "name": "stdout",
     "output_type": "stream",
     "text": [
      "\n"
     ]
    },
    {
     "data": {
      "text/plain": [
       "'data/clean/clean-comments-14074.txt'"
      ]
     },
     "metadata": {},
     "output_type": "display_data"
    },
    {
     "data": {
      "text/plain": [
       "[('work', 0.32025927166894297),\n",
       " ('tractor', 0.16051655637395115),\n",
       " ('moral-rights', 0.13172352236231494),\n",
       " ('market-2', 0.080735471028000924),\n",
       " ('living-conditions', 0.070446958772267448),\n",
       " ('relationships', 0.059265155456003804),\n",
       " ('cashflow', 0.050482893075982284)]"
      ]
     },
     "metadata": {},
     "output_type": "display_data"
    },
    {
     "name": "stdout",
     "output_type": "stream",
     "text": [
      "\n"
     ]
    },
    {
     "data": {
      "text/plain": [
       "'data/clean/clean-comments-14077.txt'"
      ]
     },
     "metadata": {},
     "output_type": "display_data"
    },
    {
     "data": {
      "text/plain": [
       "[('work', 0.32822908978048038),\n",
       " ('moral-rights', 0.15706777944658123),\n",
       " ('tractor', 0.12549678471669315),\n",
       " ('living-conditions', 0.099454417346079113),\n",
       " ('market-2', 0.061490859042097022)]"
      ]
     },
     "metadata": {},
     "output_type": "display_data"
    },
    {
     "name": "stdout",
     "output_type": "stream",
     "text": [
      "\n"
     ]
    },
    {
     "data": {
      "text/plain": [
       "'data/clean/clean-comments-14102.txt'"
      ]
     },
     "metadata": {},
     "output_type": "display_data"
    },
    {
     "data": {
      "text/plain": [
       "[('work', 0.36830994857760824),\n",
       " ('moral-rights', 0.18796340090004104),\n",
       " ('living-conditions', 0.086775908986651468),\n",
       " ('relationships', 0.075803755930452479),\n",
       " ('tractor', 0.05081741323513931)]"
      ]
     },
     "metadata": {},
     "output_type": "display_data"
    },
    {
     "name": "stdout",
     "output_type": "stream",
     "text": [
      "\n"
     ]
    },
    {
     "data": {
      "text/plain": [
       "'data/clean/clean-comments-14109.txt'"
      ]
     },
     "metadata": {},
     "output_type": "display_data"
    },
    {
     "data": {
      "text/plain": [
       "[('work', 0.32295693636056755),\n",
       " ('living-conditions', 0.12579735765894587),\n",
       " ('taxes', 0.11571782539315083),\n",
       " ('cashflow', 0.10351930079407431),\n",
       " ('moral-rights', 0.095499972997877602),\n",
       " ('market-2', 0.083612259696921487),\n",
       " ('relationships', 0.082642318524965355)]"
      ]
     },
     "metadata": {},
     "output_type": "display_data"
    },
    {
     "name": "stdout",
     "output_type": "stream",
     "text": [
      "\n"
     ]
    },
    {
     "data": {
      "text/plain": [
       "'data/clean/clean-comments-14191.txt'"
      ]
     },
     "metadata": {},
     "output_type": "display_data"
    },
    {
     "data": {
      "text/plain": [
       "[('work', 0.28857925681120533),\n",
       " ('living-conditions', 0.20014555589545907),\n",
       " ('moral-rights', 0.1325250711126475),\n",
       " ('tractor', 0.08397382154301837),\n",
       " ('relationships', 0.053084294056761794)]"
      ]
     },
     "metadata": {},
     "output_type": "display_data"
    },
    {
     "name": "stdout",
     "output_type": "stream",
     "text": [
      "\n"
     ]
    },
    {
     "data": {
      "text/plain": [
       "'data/clean/clean-comments-14305.txt'"
      ]
     },
     "metadata": {},
     "output_type": "display_data"
    },
    {
     "data": {
      "text/plain": [
       "[('work', 0.27981221717709065),\n",
       " ('living-conditions', 0.23829098280416802),\n",
       " ('cashflow', 0.086524537750806749),\n",
       " ('tractor', 0.0760694042875288),\n",
       " ('moral-rights', 0.072923530017296484),\n",
       " ('relationships', 0.055635325219730886),\n",
       " ('market-2', 0.055108945467028492)]"
      ]
     },
     "metadata": {},
     "output_type": "display_data"
    },
    {
     "name": "stdout",
     "output_type": "stream",
     "text": [
      "\n"
     ]
    },
    {
     "data": {
      "text/plain": [
       "'data/clean/clean-comments-14533.txt'"
      ]
     },
     "metadata": {},
     "output_type": "display_data"
    },
    {
     "data": {
      "text/plain": [
       "[('work', 0.35536483501087279),\n",
       " ('living-conditions', 0.17723687315998926),\n",
       " ('moral-rights', 0.074178459785556539),\n",
       " ('relationships', 0.067392697682617256),\n",
       " ('market-2', 0.063256880880138061),\n",
       " ('tractor', 0.062332257710033992),\n",
       " ('cashflow', 0.051921601124500442)]"
      ]
     },
     "metadata": {},
     "output_type": "display_data"
    },
    {
     "name": "stdout",
     "output_type": "stream",
     "text": [
      "\n"
     ]
    },
    {
     "data": {
      "text/plain": [
       "'data/clean/clean-comments-14604.txt'"
      ]
     },
     "metadata": {},
     "output_type": "display_data"
    },
    {
     "data": {
      "text/plain": [
       "[('work', 0.3279587079391878),\n",
       " ('living-conditions', 0.13791546193794732),\n",
       " ('tractor', 0.11348776873411359),\n",
       " ('cashflow', 0.079699761380558024),\n",
       " ('market-2', 0.065410136913744046),\n",
       " ('moral-rights', 0.062656468448453462),\n",
       " ('relationships', 0.060043654860009718),\n",
       " ('recruitment', 0.057971324578218332)]"
      ]
     },
     "metadata": {},
     "output_type": "display_data"
    },
    {
     "name": "stdout",
     "output_type": "stream",
     "text": [
      "\n"
     ]
    },
    {
     "data": {
      "text/plain": [
       "'data/clean/clean-comments-14906.txt'"
      ]
     },
     "metadata": {},
     "output_type": "display_data"
    },
    {
     "data": {
      "text/plain": [
       "[('work', 0.29559145866466852),\n",
       " ('living-conditions', 0.2351635469289779),\n",
       " ('tractor', 0.093387376571925987),\n",
       " ('moral-rights', 0.087658209488987046),\n",
       " ('market-2', 0.061525631610278748)]"
      ]
     },
     "metadata": {},
     "output_type": "display_data"
    },
    {
     "name": "stdout",
     "output_type": "stream",
     "text": [
      "\n"
     ]
    },
    {
     "data": {
      "text/plain": [
       "'data/clean/clean-comments-14935.txt'"
      ]
     },
     "metadata": {},
     "output_type": "display_data"
    },
    {
     "data": {
      "text/plain": [
       "[('work', 0.29871835525827389),\n",
       " ('living-conditions', 0.23269119009103983),\n",
       " ('moral-rights', 0.078645021564240553),\n",
       " ('taxes', 0.07733252644696309),\n",
       " ('tractor', 0.073158077039708808)]"
      ]
     },
     "metadata": {},
     "output_type": "display_data"
    },
    {
     "name": "stdout",
     "output_type": "stream",
     "text": [
      "\n"
     ]
    },
    {
     "data": {
      "text/plain": [
       "'data/clean/clean-comments-14938.txt'"
      ]
     },
     "metadata": {},
     "output_type": "display_data"
    },
    {
     "data": {
      "text/plain": [
       "[('work', 0.41186409823995068),\n",
       " ('living-conditions', 0.25687118247731811),\n",
       " ('tractor', 0.086642253013251458),\n",
       " ('cashflow', 0.073224099901989081),\n",
       " ('market-2', 0.057432504601232205),\n",
       " ('politics', 0.055211153946755187)]"
      ]
     },
     "metadata": {},
     "output_type": "display_data"
    },
    {
     "name": "stdout",
     "output_type": "stream",
     "text": [
      "\n"
     ]
    },
    {
     "data": {
      "text/plain": [
       "'data/clean/clean-comments-14956.txt'"
      ]
     },
     "metadata": {},
     "output_type": "display_data"
    },
    {
     "data": {
      "text/plain": [
       "[('work', 0.37023046021736178),\n",
       " ('living-conditions', 0.17696034359310037),\n",
       " ('moral-rights', 0.099082253427087347),\n",
       " ('relationships', 0.091315928200788071)]"
      ]
     },
     "metadata": {},
     "output_type": "display_data"
    },
    {
     "name": "stdout",
     "output_type": "stream",
     "text": [
      "\n"
     ]
    },
    {
     "data": {
      "text/plain": [
       "'data/clean/clean-comments-14959.txt'"
      ]
     },
     "metadata": {},
     "output_type": "display_data"
    },
    {
     "data": {
      "text/plain": [
       "[('work', 0.42614435710798287),\n",
       " ('living-conditions', 0.11264111399540327),\n",
       " ('market-2', 0.089303427370351407),\n",
       " ('relationships', 0.073235220459573203),\n",
       " ('moral-rights', 0.072206929428863406),\n",
       " ('cashflow', 0.061784548533803829),\n",
       " ('fraud', 0.05371497284787851)]"
      ]
     },
     "metadata": {},
     "output_type": "display_data"
    },
    {
     "name": "stdout",
     "output_type": "stream",
     "text": [
      "\n"
     ]
    },
    {
     "data": {
      "text/plain": [
       "'data/clean/clean-comments-15012.txt'"
      ]
     },
     "metadata": {},
     "output_type": "display_data"
    },
    {
     "data": {
      "text/plain": [
       "[('work', 0.41317206077081364),\n",
       " ('tractor', 0.11576255160334606),\n",
       " ('relationships', 0.11314133674709966),\n",
       " ('moral-rights', 0.068524445466320139),\n",
       " ('living-conditions', 0.063845733654484566)]"
      ]
     },
     "metadata": {},
     "output_type": "display_data"
    },
    {
     "name": "stdout",
     "output_type": "stream",
     "text": [
      "\n"
     ]
    },
    {
     "data": {
      "text/plain": [
       "'data/clean/clean-comments-15104.txt'"
      ]
     },
     "metadata": {},
     "output_type": "display_data"
    },
    {
     "data": {
      "text/plain": [
       "[('work', 0.40526132246066188),\n",
       " ('tractor', 0.10382326632690098),\n",
       " ('living-conditions', 0.096483470165523721),\n",
       " ('moral-rights', 0.093994528865623539),\n",
       " ('market-2', 0.077642605541528645),\n",
       " ('relationships', 0.066761892181782898),\n",
       " ('cashflow', 0.052983295975576473)]"
      ]
     },
     "metadata": {},
     "output_type": "display_data"
    },
    {
     "name": "stdout",
     "output_type": "stream",
     "text": [
      "\n"
     ]
    },
    {
     "data": {
      "text/plain": [
       "'data/clean/clean-comments-15124.txt'"
      ]
     },
     "metadata": {},
     "output_type": "display_data"
    },
    {
     "data": {
      "text/plain": [
       "[('work', 0.3489726623540691),\n",
       " ('relationships', 0.20994983570867745),\n",
       " ('tractor', 0.10861767087641999),\n",
       " ('moral-rights', 0.087797863358253528),\n",
       " ('living-conditions', 0.057341727994837548),\n",
       " ('cashflow', 0.05106640374788169)]"
      ]
     },
     "metadata": {},
     "output_type": "display_data"
    },
    {
     "name": "stdout",
     "output_type": "stream",
     "text": [
      "\n"
     ]
    },
    {
     "data": {
      "text/plain": [
       "'data/clean/clean-comments-15176.txt'"
      ]
     },
     "metadata": {},
     "output_type": "display_data"
    },
    {
     "data": {
      "text/plain": [
       "[('work', 0.42266046265389723),\n",
       " ('living-conditions', 0.107975516238396),\n",
       " ('relationships', 0.10284338808536987),\n",
       " ('market-2', 0.066954906077549045),\n",
       " ('tractor', 0.060838607930356454),\n",
       " ('moral-rights', 0.05848033757696957)]"
      ]
     },
     "metadata": {},
     "output_type": "display_data"
    },
    {
     "name": "stdout",
     "output_type": "stream",
     "text": [
      "\n"
     ]
    },
    {
     "data": {
      "text/plain": [
       "'data/clean/clean-comments-15197.txt'"
      ]
     },
     "metadata": {},
     "output_type": "display_data"
    },
    {
     "data": {
      "text/plain": [
       "[('work', 0.40163513771937481),\n",
       " ('living-conditions', 0.10535737536338938),\n",
       " ('moral-rights', 0.088245322916509841),\n",
       " ('tractor', 0.081916850419559609),\n",
       " ('relationships', 0.067954697440198275),\n",
       " ('mentor', 0.06553457195701394),\n",
       " ('market-2', 0.053652159243826748)]"
      ]
     },
     "metadata": {},
     "output_type": "display_data"
    },
    {
     "name": "stdout",
     "output_type": "stream",
     "text": [
      "\n"
     ]
    },
    {
     "data": {
      "text/plain": [
       "'data/clean/clean-comments-15247.txt'"
      ]
     },
     "metadata": {},
     "output_type": "display_data"
    },
    {
     "data": {
      "text/plain": [
       "[('work', 0.3495273515751815),\n",
       " ('taxes', 0.12401102616498461),\n",
       " ('tractor', 0.092859532655326829),\n",
       " ('living-conditions', 0.07269383833975343),\n",
       " ('moral-rights', 0.070966968695272858),\n",
       " ('market-2', 0.066868043880119604),\n",
       " ('relationships', 0.05261969967904899)]"
      ]
     },
     "metadata": {},
     "output_type": "display_data"
    },
    {
     "name": "stdout",
     "output_type": "stream",
     "text": [
      "\n"
     ]
    },
    {
     "data": {
      "text/plain": [
       "'data/clean/clean-comments-15349.txt'"
      ]
     },
     "metadata": {},
     "output_type": "display_data"
    },
    {
     "data": {
      "text/plain": [
       "[('work', 0.27061077961747998),\n",
       " ('taxes', 0.25564954700664644),\n",
       " ('living-conditions', 0.10007058541385323),\n",
       " ('tractor', 0.07697286401141519),\n",
       " ('moral-rights', 0.063566941349370507),\n",
       " ('market-2', 0.058518424359869231)]"
      ]
     },
     "metadata": {},
     "output_type": "display_data"
    },
    {
     "name": "stdout",
     "output_type": "stream",
     "text": [
      "\n"
     ]
    },
    {
     "data": {
      "text/plain": [
       "'data/clean/clean-comments-15465.txt'"
      ]
     },
     "metadata": {},
     "output_type": "display_data"
    },
    {
     "data": {
      "text/plain": [
       "[('work', 0.30318062108114141),\n",
       " ('living-conditions', 0.11487099619264191),\n",
       " ('taxes', 0.11483089197804333),\n",
       " ('moral-rights', 0.10091928177029048),\n",
       " ('tractor', 0.070238254932861774),\n",
       " ('relationships', 0.053791746289598229),\n",
       " ('market-2', 0.053426650914686027)]"
      ]
     },
     "metadata": {},
     "output_type": "display_data"
    },
    {
     "name": "stdout",
     "output_type": "stream",
     "text": [
      "\n"
     ]
    },
    {
     "data": {
      "text/plain": [
       "'data/clean/clean-comments-15526.txt'"
      ]
     },
     "metadata": {},
     "output_type": "display_data"
    },
    {
     "data": {
      "text/plain": [
       "[('work', 0.34721451533715358),\n",
       " ('taxes', 0.17519109826039436),\n",
       " ('living-conditions', 0.11624485273477754),\n",
       " ('moral-rights', 0.082340845779510105),\n",
       " ('tractor', 0.068209453616049381)]"
      ]
     },
     "metadata": {},
     "output_type": "display_data"
    },
    {
     "name": "stdout",
     "output_type": "stream",
     "text": [
      "\n"
     ]
    },
    {
     "data": {
      "text/plain": [
       "'data/clean/clean-comments-15614.txt'"
      ]
     },
     "metadata": {},
     "output_type": "display_data"
    },
    {
     "data": {
      "text/plain": [
       "[('work', 0.26513423381680218),\n",
       " ('taxes', 0.14917227964953775),\n",
       " ('moral-rights', 0.10227723291073687),\n",
       " ('cashflow', 0.077006078390525562),\n",
       " ('relationships', 0.076169990325376941),\n",
       " ('living-conditions', 0.074950566449403525),\n",
       " ('tractor', 0.073279445898246851),\n",
       " ('recruitment', 0.06632200591232551)]"
      ]
     },
     "metadata": {},
     "output_type": "display_data"
    },
    {
     "name": "stdout",
     "output_type": "stream",
     "text": [
      "\n"
     ]
    },
    {
     "data": {
      "text/plain": [
       "'data/clean/clean-comments-15618.txt'"
      ]
     },
     "metadata": {},
     "output_type": "display_data"
    },
    {
     "data": {
      "text/plain": [
       "[('work', 0.31944626987548957),\n",
       " ('moral-rights', 0.14500356776212875),\n",
       " ('recruitment', 0.098338210050285854),\n",
       " ('living-conditions', 0.069692913984863547),\n",
       " ('tractor', 0.051149008702336136)]"
      ]
     },
     "metadata": {},
     "output_type": "display_data"
    },
    {
     "name": "stdout",
     "output_type": "stream",
     "text": [
      "\n"
     ]
    },
    {
     "data": {
      "text/plain": [
       "'data/clean/clean-comments-15633.txt'"
      ]
     },
     "metadata": {},
     "output_type": "display_data"
    },
    {
     "data": {
      "text/plain": [
       "[('work', 0.39437750453727632),\n",
       " ('living-conditions', 0.12553279708036155),\n",
       " ('tractor', 0.084279254261311873),\n",
       " ('moral-rights', 0.082733567408643419),\n",
       " ('cashflow', 0.055979783239038072),\n",
       " ('relationships', 0.055227576464981935),\n",
       " ('market-2', 0.051649734849437579)]"
      ]
     },
     "metadata": {},
     "output_type": "display_data"
    },
    {
     "name": "stdout",
     "output_type": "stream",
     "text": [
      "\n"
     ]
    },
    {
     "data": {
      "text/plain": [
       "'data/clean/clean-comments-15651.txt'"
      ]
     },
     "metadata": {},
     "output_type": "display_data"
    },
    {
     "data": {
      "text/plain": [
       "[('work', 0.49317371615956668),\n",
       " ('moral-rights', 0.088656034766523437),\n",
       " ('mentor', 0.079295309932436886),\n",
       " ('taxes', 0.056200197417568321),\n",
       " ('living-conditions', 0.053509223458211602)]"
      ]
     },
     "metadata": {},
     "output_type": "display_data"
    },
    {
     "name": "stdout",
     "output_type": "stream",
     "text": [
      "\n"
     ]
    },
    {
     "data": {
      "text/plain": [
       "'data/clean/clean-comments-15772.txt'"
      ]
     },
     "metadata": {},
     "output_type": "display_data"
    },
    {
     "data": {
      "text/plain": [
       "[('work', 0.33938653480965014),\n",
       " ('living-conditions', 0.10327838177900185),\n",
       " ('tractor', 0.10055429607266536),\n",
       " ('moral-rights', 0.072261257580238103),\n",
       " ('taxes', 0.064533564082292064),\n",
       " ('market-2', 0.060235412945478101),\n",
       " ('cashflow', 0.060033962231140554),\n",
       " ('relationships', 0.057799017388153337)]"
      ]
     },
     "metadata": {},
     "output_type": "display_data"
    },
    {
     "name": "stdout",
     "output_type": "stream",
     "text": [
      "\n"
     ]
    },
    {
     "data": {
      "text/plain": [
       "'data/clean/clean-comments-15798.txt'"
      ]
     },
     "metadata": {},
     "output_type": "display_data"
    },
    {
     "data": {
      "text/plain": [
       "[('work', 0.23468970400326666),\n",
       " ('taxes', 0.21002784899380342),\n",
       " ('living-conditions', 0.10607707571989328),\n",
       " ('politics', 0.065864177727750758),\n",
       " ('moral-rights', 0.061666565361105048),\n",
       " ('market-2', 0.059514636813703489),\n",
       " ('tractor', 0.055790941662986468),\n",
       " ('ukrainian', 0.053105958875868907)]"
      ]
     },
     "metadata": {},
     "output_type": "display_data"
    },
    {
     "name": "stdout",
     "output_type": "stream",
     "text": [
      "\n"
     ]
    },
    {
     "data": {
      "text/plain": [
       "'data/clean/clean-comments-15848.txt'"
      ]
     },
     "metadata": {},
     "output_type": "display_data"
    },
    {
     "data": {
      "text/plain": [
       "[('work', 0.38782933497522554),\n",
       " ('taxes', 0.11342279833239748),\n",
       " ('tractor', 0.11127383045648584),\n",
       " ('living-conditions', 0.10341470603964234),\n",
       " ('moral-rights', 0.091977635296544499)]"
      ]
     },
     "metadata": {},
     "output_type": "display_data"
    },
    {
     "name": "stdout",
     "output_type": "stream",
     "text": [
      "\n"
     ]
    },
    {
     "data": {
      "text/plain": [
       "'data/clean/clean-comments-15853.txt'"
      ]
     },
     "metadata": {},
     "output_type": "display_data"
    },
    {
     "data": {
      "text/plain": [
       "[('taxes', 0.38394583255055625),\n",
       " ('living-conditions', 0.11807385063704688),\n",
       " ('work', 0.11566302091134936),\n",
       " ('fraud', 0.06527106640901463),\n",
       " ('moral-rights', 0.06243485656209255),\n",
       " ('mentor', 0.054366380175006626)]"
      ]
     },
     "metadata": {},
     "output_type": "display_data"
    },
    {
     "name": "stdout",
     "output_type": "stream",
     "text": [
      "\n"
     ]
    },
    {
     "data": {
      "text/plain": [
       "'data/clean/clean-comments-15904.txt'"
      ]
     },
     "metadata": {},
     "output_type": "display_data"
    },
    {
     "data": {
      "text/plain": [
       "[('work', 0.28808688895714851),\n",
       " ('tractor', 0.11908321785038078),\n",
       " ('cashflow', 0.1159146864709004),\n",
       " ('moral-rights', 0.10529057521787792),\n",
       " ('living-conditions', 0.10348211748219806)]"
      ]
     },
     "metadata": {},
     "output_type": "display_data"
    },
    {
     "name": "stdout",
     "output_type": "stream",
     "text": [
      "\n"
     ]
    },
    {
     "data": {
      "text/plain": [
       "'data/clean/clean-comments-15933.txt'"
      ]
     },
     "metadata": {},
     "output_type": "display_data"
    },
    {
     "data": {
      "text/plain": [
       "[('cashflow', 0.27830123784350869),\n",
       " ('work', 0.25865732601216829),\n",
       " ('living-conditions', 0.11375772954078708),\n",
       " ('fraud', 0.055799208943446317)]"
      ]
     },
     "metadata": {},
     "output_type": "display_data"
    },
    {
     "name": "stdout",
     "output_type": "stream",
     "text": [
      "\n"
     ]
    },
    {
     "data": {
      "text/plain": [
       "'data/clean/clean-comments-15956.txt'"
      ]
     },
     "metadata": {},
     "output_type": "display_data"
    },
    {
     "data": {
      "text/plain": [
       "[('work', 0.37035769963636922),\n",
       " ('living-conditions', 0.14615761660754212),\n",
       " ('relationships', 0.12318071191126463),\n",
       " ('market-2', 0.100025603945543),\n",
       " ('tractor', 0.091703280382249688),\n",
       " ('cashflow', 0.085144746181255296)]"
      ]
     },
     "metadata": {},
     "output_type": "display_data"
    },
    {
     "name": "stdout",
     "output_type": "stream",
     "text": [
      "\n"
     ]
    },
    {
     "data": {
      "text/plain": [
       "'data/clean/clean-comments-16-year-old-frontender.txt'"
      ]
     },
     "metadata": {},
     "output_type": "display_data"
    },
    {
     "data": {
      "text/plain": [
       "[('work', 0.32081797467172074),\n",
       " ('moral-rights', 0.2142630260739109),\n",
       " ('living-conditions', 0.070434077347968527),\n",
       " ('tractor', 0.068111157398697025),\n",
       " ('market-2', 0.057204140363401816),\n",
       " ('relationships', 0.054038114320907889),\n",
       " ('mentor', 0.052739708493227122)]"
      ]
     },
     "metadata": {},
     "output_type": "display_data"
    },
    {
     "name": "stdout",
     "output_type": "stream",
     "text": [
      "\n"
     ]
    },
    {
     "data": {
      "text/plain": [
       "'data/clean/clean-comments-16012.txt'"
      ]
     },
     "metadata": {},
     "output_type": "display_data"
    },
    {
     "data": {
      "text/plain": [
       "[('work', 0.28528984969404925),\n",
       " ('moral-rights', 0.1300705186247503),\n",
       " ('living-conditions', 0.11646920875420454),\n",
       " ('cashflow', 0.08394309273356837),\n",
       " ('tractor', 0.081136643313979476)]"
      ]
     },
     "metadata": {},
     "output_type": "display_data"
    },
    {
     "name": "stdout",
     "output_type": "stream",
     "text": [
      "\n"
     ]
    },
    {
     "data": {
      "text/plain": [
       "'data/clean/clean-comments-16117.txt'"
      ]
     },
     "metadata": {},
     "output_type": "display_data"
    },
    {
     "data": {
      "text/plain": [
       "[('work', 0.37360090291136239),\n",
       " ('living-conditions', 0.12609279212024546),\n",
       " ('tractor', 0.10508965803846837),\n",
       " ('fraud', 0.079803068732530666),\n",
       " ('moral-rights', 0.071438041290979179),\n",
       " ('market-2', 0.057138182914517402)]"
      ]
     },
     "metadata": {},
     "output_type": "display_data"
    },
    {
     "name": "stdout",
     "output_type": "stream",
     "text": [
      "\n"
     ]
    },
    {
     "data": {
      "text/plain": [
       "'data/clean/clean-comments-16191.txt'"
      ]
     },
     "metadata": {},
     "output_type": "display_data"
    },
    {
     "data": {
      "text/plain": [
       "[('work', 0.271495636528225),\n",
       " ('living-conditions', 0.2029868521261739),\n",
       " ('tractor', 0.10712757777029025),\n",
       " ('moral-rights', 0.086320095366291344),\n",
       " ('relationships', 0.081443861562970135)]"
      ]
     },
     "metadata": {},
     "output_type": "display_data"
    },
    {
     "name": "stdout",
     "output_type": "stream",
     "text": [
      "\n"
     ]
    },
    {
     "data": {
      "text/plain": [
       "'data/clean/clean-comments-16205.txt'"
      ]
     },
     "metadata": {},
     "output_type": "display_data"
    },
    {
     "data": {
      "text/plain": [
       "[('work', 0.2750964605354087),\n",
       " ('living-conditions', 0.18575553308535545),\n",
       " ('tractor', 0.1025351964475144),\n",
       " ('fraud', 0.09190816933223403),\n",
       " ('recruitment', 0.090523181274280162),\n",
       " ('moral-rights', 0.089460884536872898),\n",
       " ('market-2', 0.064748192508976551)]"
      ]
     },
     "metadata": {},
     "output_type": "display_data"
    },
    {
     "name": "stdout",
     "output_type": "stream",
     "text": [
      "\n"
     ]
    },
    {
     "data": {
      "text/plain": [
       "'data/clean/clean-comments-16232.txt'"
      ]
     },
     "metadata": {},
     "output_type": "display_data"
    },
    {
     "data": {
      "text/plain": [
       "[('work', 0.26924273133465876),\n",
       " ('living-conditions', 0.2252915689140938),\n",
       " ('tractor', 0.10376517399847558),\n",
       " ('moral-rights', 0.075434793870803638),\n",
       " ('market-2', 0.060920102737513492),\n",
       " ('cashflow', 0.05832359599437309)]"
      ]
     },
     "metadata": {},
     "output_type": "display_data"
    },
    {
     "name": "stdout",
     "output_type": "stream",
     "text": [
      "\n"
     ]
    },
    {
     "data": {
      "text/plain": [
       "'data/clean/clean-comments-16269.txt'"
      ]
     },
     "metadata": {},
     "output_type": "display_data"
    },
    {
     "data": {
      "text/plain": [
       "[('work', 0.29361427200303458),\n",
       " ('living-conditions', 0.24754515221465329),\n",
       " ('recruitment', 0.06796973618306737),\n",
       " ('tractor', 0.059217247666623229),\n",
       " ('moral-rights', 0.057658381337324816)]"
      ]
     },
     "metadata": {},
     "output_type": "display_data"
    },
    {
     "name": "stdout",
     "output_type": "stream",
     "text": [
      "\n"
     ]
    },
    {
     "data": {
      "text/plain": [
       "'data/clean/clean-comments-16355.txt'"
      ]
     },
     "metadata": {},
     "output_type": "display_data"
    },
    {
     "data": {
      "text/plain": [
       "[('work', 0.28507425241289347),\n",
       " ('living-conditions', 0.28333904637496071),\n",
       " ('moral-rights', 0.1001433732569561),\n",
       " ('tractor', 0.080434984646875818)]"
      ]
     },
     "metadata": {},
     "output_type": "display_data"
    },
    {
     "name": "stdout",
     "output_type": "stream",
     "text": [
      "\n"
     ]
    },
    {
     "data": {
      "text/plain": [
       "'data/clean/clean-comments-16455.txt'"
      ]
     },
     "metadata": {},
     "output_type": "display_data"
    },
    {
     "data": {
      "text/plain": [
       "[('work', 0.32896364857099686),\n",
       " ('living-conditions', 0.22045360051711874),\n",
       " ('moral-rights', 0.080477455300157402),\n",
       " ('tractor', 0.079957460139410977),\n",
       " ('market-2', 0.060738627085438909),\n",
       " ('cashflow', 0.056548859780622712)]"
      ]
     },
     "metadata": {},
     "output_type": "display_data"
    },
    {
     "name": "stdout",
     "output_type": "stream",
     "text": [
      "\n"
     ]
    },
    {
     "data": {
      "text/plain": [
       "'data/clean/clean-comments-16490.txt'"
      ]
     },
     "metadata": {},
     "output_type": "display_data"
    },
    {
     "data": {
      "text/plain": [
       "[('work', 0.38490574897471236),\n",
       " ('living-conditions', 0.12848172112739739),\n",
       " ('tractor', 0.081608440573233146),\n",
       " ('cashflow', 0.069718793033804474),\n",
       " ('moral-rights', 0.069674357347956531),\n",
       " ('relationships', 0.06150773114090255),\n",
       " ('market-2', 0.056573385016985722)]"
      ]
     },
     "metadata": {},
     "output_type": "display_data"
    },
    {
     "name": "stdout",
     "output_type": "stream",
     "text": [
      "\n"
     ]
    },
    {
     "data": {
      "text/plain": [
       "'data/clean/clean-comments-16545.txt'"
      ]
     },
     "metadata": {},
     "output_type": "display_data"
    },
    {
     "data": {
      "text/plain": [
       "[('work', 0.31320734041271475),\n",
       " ('living-conditions', 0.21804648099168902),\n",
       " ('moral-rights', 0.09603630203416981),\n",
       " ('relationships', 0.080184863116190996),\n",
       " ('cashflow', 0.07073003055153515),\n",
       " ('tractor', 0.062568162834122462)]"
      ]
     },
     "metadata": {},
     "output_type": "display_data"
    },
    {
     "name": "stdout",
     "output_type": "stream",
     "text": [
      "\n"
     ]
    },
    {
     "data": {
      "text/plain": [
       "'data/clean/clean-comments-16549.txt'"
      ]
     },
     "metadata": {},
     "output_type": "display_data"
    },
    {
     "data": {
      "text/plain": [
       "[('work', 0.2821363067355967),\n",
       " ('living-conditions', 0.18412970709922044),\n",
       " ('tractor', 0.086559742309572973),\n",
       " ('cashflow', 0.062619582500308746),\n",
       " ('fraud', 0.059431391437584566),\n",
       " ('moral-rights', 0.054582158675387883)]"
      ]
     },
     "metadata": {},
     "output_type": "display_data"
    },
    {
     "name": "stdout",
     "output_type": "stream",
     "text": [
      "\n"
     ]
    },
    {
     "data": {
      "text/plain": [
       "'data/clean/clean-comments-16560.txt'"
      ]
     },
     "metadata": {},
     "output_type": "display_data"
    },
    {
     "data": {
      "text/plain": [
       "[('work', 0.30937297053225593),\n",
       " ('living-conditions', 0.22988859877800039),\n",
       " ('tractor', 0.086361644034262594),\n",
       " ('moral-rights', 0.080571771322159855),\n",
       " ('market-2', 0.059032019393263066),\n",
       " ('cashflow', 0.053772974403010369)]"
      ]
     },
     "metadata": {},
     "output_type": "display_data"
    },
    {
     "name": "stdout",
     "output_type": "stream",
     "text": [
      "\n"
     ]
    },
    {
     "data": {
      "text/plain": [
       "'data/clean/clean-comments-16588.txt'"
      ]
     },
     "metadata": {},
     "output_type": "display_data"
    },
    {
     "data": {
      "text/plain": [
       "[('work', 0.29221209361570255),\n",
       " ('living-conditions', 0.24419857900412612),\n",
       " ('moral-rights', 0.11613595419281224),\n",
       " ('tractor', 0.087599120688135523),\n",
       " ('cashflow', 0.055984301970124613)]"
      ]
     },
     "metadata": {},
     "output_type": "display_data"
    },
    {
     "name": "stdout",
     "output_type": "stream",
     "text": [
      "\n"
     ]
    },
    {
     "data": {
      "text/plain": [
       "'data/clean/clean-comments-16666.txt'"
      ]
     },
     "metadata": {},
     "output_type": "display_data"
    },
    {
     "data": {
      "text/plain": [
       "[('work', 0.44278058106378637),\n",
       " ('market-2', 0.10653731530631444),\n",
       " ('mentor', 0.092488809013217821),\n",
       " ('tractor', 0.08348517534260308),\n",
       " ('cashflow', 0.066622563925496245),\n",
       " ('recruitment', 0.059694893736017683),\n",
       " ('living-conditions', 0.050402581759588637)]"
      ]
     },
     "metadata": {},
     "output_type": "display_data"
    },
    {
     "name": "stdout",
     "output_type": "stream",
     "text": [
      "\n"
     ]
    },
    {
     "data": {
      "text/plain": [
       "'data/clean/clean-comments-16695.txt'"
      ]
     },
     "metadata": {},
     "output_type": "display_data"
    },
    {
     "data": {
      "text/plain": [
       "[('work', 0.28033360649386052),\n",
       " ('living-conditions', 0.27661890863297767),\n",
       " ('moral-rights', 0.10011102023570213),\n",
       " ('tractor', 0.067168126980995904),\n",
       " ('cashflow', 0.050159134274787402)]"
      ]
     },
     "metadata": {},
     "output_type": "display_data"
    },
    {
     "name": "stdout",
     "output_type": "stream",
     "text": [
      "\n"
     ]
    },
    {
     "data": {
      "text/plain": [
       "'data/clean/clean-comments-16713.txt'"
      ]
     },
     "metadata": {},
     "output_type": "display_data"
    },
    {
     "data": {
      "text/plain": [
       "[('work', 0.295463806205436),\n",
       " ('living-conditions', 0.16879673108712781),\n",
       " ('moral-rights', 0.11352534013102551),\n",
       " ('cashflow', 0.071931873264702031),\n",
       " ('tractor', 0.071189050612147517),\n",
       " ('relationships', 0.060722933268549072),\n",
       " ('politics', 0.058920096146310212),\n",
       " ('recruitment', 0.05396053194824206)]"
      ]
     },
     "metadata": {},
     "output_type": "display_data"
    },
    {
     "name": "stdout",
     "output_type": "stream",
     "text": [
      "\n"
     ]
    },
    {
     "data": {
      "text/plain": [
       "'data/clean/clean-comments-16734.txt'"
      ]
     },
     "metadata": {},
     "output_type": "display_data"
    },
    {
     "data": {
      "text/plain": [
       "[('work', 0.39147014356900744),\n",
       " ('living-conditions', 0.14469394018027204),\n",
       " ('tractor', 0.12749910805729009),\n",
       " ('moral-rights', 0.060035183613928268),\n",
       " ('market-2', 0.059583399224424835)]"
      ]
     },
     "metadata": {},
     "output_type": "display_data"
    },
    {
     "name": "stdout",
     "output_type": "stream",
     "text": [
      "\n"
     ]
    },
    {
     "data": {
      "text/plain": [
       "'data/clean/clean-comments-16736.txt'"
      ]
     },
     "metadata": {},
     "output_type": "display_data"
    },
    {
     "data": {
      "text/plain": [
       "[('living-conditions', 0.34423073990995812),\n",
       " ('work', 0.2286969216212103),\n",
       " ('fraud', 0.064861747565525485),\n",
       " ('moral-rights', 0.063967674905784019)]"
      ]
     },
     "metadata": {},
     "output_type": "display_data"
    },
    {
     "name": "stdout",
     "output_type": "stream",
     "text": [
      "\n"
     ]
    },
    {
     "data": {
      "text/plain": [
       "'data/clean/clean-comments-16782.txt'"
      ]
     },
     "metadata": {},
     "output_type": "display_data"
    },
    {
     "data": {
      "text/plain": [
       "[('work', 0.31270736658227338),\n",
       " ('living-conditions', 0.29928523427078407),\n",
       " ('tractor', 0.1187303459016041),\n",
       " ('cashflow', 0.082474983621015435),\n",
       " ('moral-rights', 0.077538411499052745)]"
      ]
     },
     "metadata": {},
     "output_type": "display_data"
    },
    {
     "name": "stdout",
     "output_type": "stream",
     "text": [
      "\n"
     ]
    },
    {
     "data": {
      "text/plain": [
       "'data/clean/clean-comments-16805.txt'"
      ]
     },
     "metadata": {},
     "output_type": "display_data"
    },
    {
     "data": {
      "text/plain": [
       "[('work', 0.36551608803584956),\n",
       " ('living-conditions', 0.27328912624065776),\n",
       " ('tractor', 0.067049123606278613),\n",
       " ('moral-rights', 0.066149414981627741),\n",
       " ('cashflow', 0.060739681806963965)]"
      ]
     },
     "metadata": {},
     "output_type": "display_data"
    },
    {
     "name": "stdout",
     "output_type": "stream",
     "text": [
      "\n"
     ]
    },
    {
     "data": {
      "text/plain": [
       "'data/clean/clean-comments-16810.txt'"
      ]
     },
     "metadata": {},
     "output_type": "display_data"
    },
    {
     "data": {
      "text/plain": [
       "[('living-conditions', 0.30577609738681899),\n",
       " ('work', 0.26582985329619824),\n",
       " ('moral-rights', 0.083679946037126154),\n",
       " ('tractor', 0.069723790343504066),\n",
       " ('cashflow', 0.063575601696276088)]"
      ]
     },
     "metadata": {},
     "output_type": "display_data"
    },
    {
     "name": "stdout",
     "output_type": "stream",
     "text": [
      "\n"
     ]
    },
    {
     "data": {
      "text/plain": [
       "'data/clean/clean-comments-16847.txt'"
      ]
     },
     "metadata": {},
     "output_type": "display_data"
    },
    {
     "data": {
      "text/plain": [
       "[('work', 0.34851713969912756),\n",
       " ('living-conditions', 0.27375286605548588),\n",
       " ('moral-rights', 0.084838623062508667),\n",
       " ('tractor', 0.070314316442607952)]"
      ]
     },
     "metadata": {},
     "output_type": "display_data"
    },
    {
     "name": "stdout",
     "output_type": "stream",
     "text": [
      "\n"
     ]
    },
    {
     "data": {
      "text/plain": [
       "'data/clean/clean-comments-16903.txt'"
      ]
     },
     "metadata": {},
     "output_type": "display_data"
    },
    {
     "data": {
      "text/plain": [
       "[('work', 0.26037566913335808),\n",
       " ('living-conditions', 0.2219280378512247),\n",
       " ('tractor', 0.16839713890163097),\n",
       " ('moral-rights', 0.062964759789964658),\n",
       " ('cashflow', 0.060866266478031131)]"
      ]
     },
     "metadata": {},
     "output_type": "display_data"
    },
    {
     "name": "stdout",
     "output_type": "stream",
     "text": [
      "\n"
     ]
    },
    {
     "data": {
      "text/plain": [
       "'data/clean/clean-comments-16976.txt'"
      ]
     },
     "metadata": {},
     "output_type": "display_data"
    },
    {
     "data": {
      "text/plain": [
       "[('work', 0.36076973503163351),\n",
       " ('living-conditions', 0.11600864008526449),\n",
       " ('tractor', 0.10696027429480519),\n",
       " ('moral-rights', 0.08197923942206356),\n",
       " ('relationships', 0.07107469472023728),\n",
       " ('market-2', 0.054506853786596671)]"
      ]
     },
     "metadata": {},
     "output_type": "display_data"
    },
    {
     "name": "stdout",
     "output_type": "stream",
     "text": [
      "\n"
     ]
    },
    {
     "data": {
      "text/plain": [
       "'data/clean/clean-comments-16978.txt'"
      ]
     },
     "metadata": {},
     "output_type": "display_data"
    },
    {
     "data": {
      "text/plain": [
       "[('work', 0.42866894803251948),\n",
       " ('living-conditions', 0.11424148701703635),\n",
       " ('tractor', 0.073698085007534317),\n",
       " ('moral-rights', 0.061315470703161561),\n",
       " ('relationships', 0.05862434112357396),\n",
       " ('cashflow', 0.054291411097095975)]"
      ]
     },
     "metadata": {},
     "output_type": "display_data"
    },
    {
     "name": "stdout",
     "output_type": "stream",
     "text": [
      "\n"
     ]
    },
    {
     "data": {
      "text/plain": [
       "'data/clean/clean-comments-16989.txt'"
      ]
     },
     "metadata": {},
     "output_type": "display_data"
    },
    {
     "data": {
      "text/plain": [
       "[('work', 0.40096121467692181),\n",
       " ('living-conditions', 0.13800939595890113),\n",
       " ('moral-rights', 0.087827433895282692),\n",
       " ('cashflow', 0.059862154091612614),\n",
       " ('tractor', 0.052989703540710642)]"
      ]
     },
     "metadata": {},
     "output_type": "display_data"
    },
    {
     "name": "stdout",
     "output_type": "stream",
     "text": [
      "\n"
     ]
    },
    {
     "data": {
      "text/plain": [
       "'data/clean/clean-comments-16999.txt'"
      ]
     },
     "metadata": {},
     "output_type": "display_data"
    },
    {
     "data": {
      "text/plain": [
       "[('work', 0.36101966902763571),\n",
       " ('living-conditions', 0.17424365233203051),\n",
       " ('tractor', 0.13305664175508539),\n",
       " ('market-2', 0.10066047484539556),\n",
       " ('moral-rights', 0.083907686331607806),\n",
       " ('mentor', 0.076963355618014553)]"
      ]
     },
     "metadata": {},
     "output_type": "display_data"
    },
    {
     "name": "stdout",
     "output_type": "stream",
     "text": [
      "\n"
     ]
    },
    {
     "data": {
      "text/plain": [
       "'data/clean/clean-comments-17047.txt'"
      ]
     },
     "metadata": {},
     "output_type": "display_data"
    },
    {
     "data": {
      "text/plain": [
       "[('work', 0.34848448164221818),\n",
       " ('tractor', 0.17657408193585472),\n",
       " ('moral-rights', 0.11793827052061061),\n",
       " ('market-2', 0.092462522114854423),\n",
       " ('relationships', 0.060196313180869376)]"
      ]
     },
     "metadata": {},
     "output_type": "display_data"
    },
    {
     "name": "stdout",
     "output_type": "stream",
     "text": [
      "\n"
     ]
    },
    {
     "data": {
      "text/plain": [
       "'data/clean/clean-comments-17075.txt'"
      ]
     },
     "metadata": {},
     "output_type": "display_data"
    },
    {
     "data": {
      "text/plain": [
       "[('work', 0.35613693812106012),\n",
       " ('tractor', 0.20608338969846118),\n",
       " ('living-conditions', 0.087244444344700411),\n",
       " ('relationships', 0.073329742814730342),\n",
       " ('cashflow', 0.072312496876434276),\n",
       " ('market-2', 0.054361215779850723)]"
      ]
     },
     "metadata": {},
     "output_type": "display_data"
    },
    {
     "name": "stdout",
     "output_type": "stream",
     "text": [
      "\n"
     ]
    },
    {
     "data": {
      "text/plain": [
       "'data/clean/clean-comments-17088.txt'"
      ]
     },
     "metadata": {},
     "output_type": "display_data"
    },
    {
     "data": {
      "text/plain": [
       "[('work', 0.40372560506808736),\n",
       " ('tractor', 0.1373285535693326),\n",
       " ('market-2', 0.096484975093548225),\n",
       " ('fraud', 0.07281615043720073),\n",
       " ('cashflow', 0.071727436934373071),\n",
       " ('mentor', 0.059138615246440665),\n",
       " ('living-conditions', 0.053357403081566612),\n",
       " ('taxes', 0.051576842615673253)]"
      ]
     },
     "metadata": {},
     "output_type": "display_data"
    },
    {
     "name": "stdout",
     "output_type": "stream",
     "text": [
      "\n"
     ]
    },
    {
     "data": {
      "text/plain": [
       "'data/clean/clean-comments-17106.txt'"
      ]
     },
     "metadata": {},
     "output_type": "display_data"
    },
    {
     "data": {
      "text/plain": [
       "[('work', 0.27770687661641935),\n",
       " ('taxes', 0.17994469511745723),\n",
       " ('living-conditions', 0.1330253267061782),\n",
       " ('moral-rights', 0.13250584615499947)]"
      ]
     },
     "metadata": {},
     "output_type": "display_data"
    },
    {
     "name": "stdout",
     "output_type": "stream",
     "text": [
      "\n"
     ]
    },
    {
     "data": {
      "text/plain": [
       "'data/clean/clean-comments-17114.txt'"
      ]
     },
     "metadata": {},
     "output_type": "display_data"
    },
    {
     "data": {
      "text/plain": [
       "[('work', 0.38077978498109588),\n",
       " ('living-conditions', 0.096926494666688595),\n",
       " ('tractor', 0.095525340102449424),\n",
       " ('taxes', 0.090034435159155823),\n",
       " ('moral-rights', 0.071412435969804886),\n",
       " ('cashflow', 0.05479357900343388),\n",
       " ('market-2', 0.052883473551614033)]"
      ]
     },
     "metadata": {},
     "output_type": "display_data"
    },
    {
     "name": "stdout",
     "output_type": "stream",
     "text": [
      "\n"
     ]
    },
    {
     "data": {
      "text/plain": [
       "'data/clean/clean-comments-17121.txt'"
      ]
     },
     "metadata": {},
     "output_type": "display_data"
    },
    {
     "data": {
      "text/plain": [
       "[('work', 0.32620725839161691),\n",
       " ('taxes', 0.18685028036659176),\n",
       " ('living-conditions', 0.11017876853006471),\n",
       " ('moral-rights', 0.074933056576904841)]"
      ]
     },
     "metadata": {},
     "output_type": "display_data"
    },
    {
     "name": "stdout",
     "output_type": "stream",
     "text": [
      "\n"
     ]
    },
    {
     "data": {
      "text/plain": [
       "'data/clean/clean-comments-17124.txt'"
      ]
     },
     "metadata": {},
     "output_type": "display_data"
    },
    {
     "data": {
      "text/plain": [
       "[('work', 0.30248930891207332),\n",
       " ('taxes', 0.18508916698361447),\n",
       " ('living-conditions', 0.13381321374755112),\n",
       " ('moral-rights', 0.067059641547766349),\n",
       " ('tractor', 0.065594933368420386),\n",
       " ('relationships', 0.054490468240999089)]"
      ]
     },
     "metadata": {},
     "output_type": "display_data"
    },
    {
     "name": "stdout",
     "output_type": "stream",
     "text": [
      "\n"
     ]
    },
    {
     "data": {
      "text/plain": [
       "'data/clean/clean-comments-17137.txt'"
      ]
     },
     "metadata": {},
     "output_type": "display_data"
    },
    {
     "data": {
      "text/plain": [
       "[('work', 0.33315172107189306),\n",
       " ('tractor', 0.11940355815950247),\n",
       " ('taxes', 0.11873627285241188),\n",
       " ('living-conditions', 0.099731516195455144),\n",
       " ('cashflow', 0.072200818486258256),\n",
       " ('market-2', 0.061020509129263878),\n",
       " ('moral-rights', 0.050319421141878581)]"
      ]
     },
     "metadata": {},
     "output_type": "display_data"
    },
    {
     "name": "stdout",
     "output_type": "stream",
     "text": [
      "\n"
     ]
    },
    {
     "data": {
      "text/plain": [
       "'data/clean/clean-comments-17140.txt'"
      ]
     },
     "metadata": {},
     "output_type": "display_data"
    },
    {
     "data": {
      "text/plain": [
       "[('work', 0.26441556241858793),\n",
       " ('living-conditions', 0.15971772641525425),\n",
       " ('taxes', 0.12784327454407815),\n",
       " ('cashflow', 0.093510143164359433),\n",
       " ('moral-rights', 0.090672739625207222),\n",
       " ('tractor', 0.073461127973835708),\n",
       " ('market-2', 0.055715986446476733)]"
      ]
     },
     "metadata": {},
     "output_type": "display_data"
    },
    {
     "name": "stdout",
     "output_type": "stream",
     "text": [
      "\n"
     ]
    },
    {
     "data": {
      "text/plain": [
       "'data/clean/clean-comments-17178.txt'"
      ]
     },
     "metadata": {},
     "output_type": "display_data"
    },
    {
     "data": {
      "text/plain": [
       "[('work', 0.35412856286071909),\n",
       " ('living-conditions', 0.12455227034055377),\n",
       " ('tractor', 0.096464246053809835),\n",
       " ('taxes', 0.091870794639941356),\n",
       " ('market-2', 0.078677225555909017),\n",
       " ('relationships', 0.074973990615268479),\n",
       " ('cashflow', 0.060439033091193348)]"
      ]
     },
     "metadata": {},
     "output_type": "display_data"
    },
    {
     "name": "stdout",
     "output_type": "stream",
     "text": [
      "\n"
     ]
    },
    {
     "data": {
      "text/plain": [
       "'data/clean/clean-comments-17211.txt'"
      ]
     },
     "metadata": {},
     "output_type": "display_data"
    },
    {
     "data": {
      "text/plain": [
       "[('work', 0.31307311721173448),\n",
       " ('taxes', 0.13632068354093813),\n",
       " ('living-conditions', 0.085171379454677107),\n",
       " ('tractor', 0.074547028994042794),\n",
       " ('relationships', 0.070003045124660282),\n",
       " ('moral-rights', 0.069709691656491712),\n",
       " ('market-2', 0.068200282373137841)]"
      ]
     },
     "metadata": {},
     "output_type": "display_data"
    },
    {
     "name": "stdout",
     "output_type": "stream",
     "text": [
      "\n"
     ]
    },
    {
     "data": {
      "text/plain": [
       "'data/clean/clean-comments-17217.txt'"
      ]
     },
     "metadata": {},
     "output_type": "display_data"
    },
    {
     "data": {
      "text/plain": [
       "[('work', 0.2633054562633223),\n",
       " ('taxes', 0.14294164716476387),\n",
       " ('living-conditions', 0.11214683908854919),\n",
       " ('tractor', 0.095779466212518843),\n",
       " ('moral-rights', 0.080275016621750545),\n",
       " ('market-2', 0.059766230986539548),\n",
       " ('cashflow', 0.057580405365872972),\n",
       " ('relationships', 0.054834584723163889)]"
      ]
     },
     "metadata": {},
     "output_type": "display_data"
    },
    {
     "name": "stdout",
     "output_type": "stream",
     "text": [
      "\n"
     ]
    },
    {
     "data": {
      "text/plain": [
       "'data/clean/clean-comments-17222.txt'"
      ]
     },
     "metadata": {},
     "output_type": "display_data"
    },
    {
     "data": {
      "text/plain": [
       "[('work', 0.29100053099227807),\n",
       " ('taxes', 0.1351701855454242),\n",
       " ('moral-rights', 0.099823206304227641),\n",
       " ('living-conditions', 0.085136886021401306),\n",
       " ('tractor', 0.067978140546447338),\n",
       " ('relationships', 0.064822109901261721),\n",
       " ('market-2', 0.064686582743327281),\n",
       " ('cashflow', 0.064624701440265594)]"
      ]
     },
     "metadata": {},
     "output_type": "display_data"
    },
    {
     "name": "stdout",
     "output_type": "stream",
     "text": [
      "\n"
     ]
    },
    {
     "data": {
      "text/plain": [
       "'data/clean/clean-comments-17230.txt'"
      ]
     },
     "metadata": {},
     "output_type": "display_data"
    },
    {
     "data": {
      "text/plain": [
       "[('work', 0.35057531383430618),\n",
       " ('taxes', 0.2837152245643369),\n",
       " ('tractor', 0.11832886039609765),\n",
       " ('living-conditions', 0.10117356569871208),\n",
       " ('market-2', 0.052693855903977779)]"
      ]
     },
     "metadata": {},
     "output_type": "display_data"
    },
    {
     "name": "stdout",
     "output_type": "stream",
     "text": [
      "\n"
     ]
    },
    {
     "data": {
      "text/plain": [
       "'data/clean/clean-comments-17232.txt'"
      ]
     },
     "metadata": {},
     "output_type": "display_data"
    },
    {
     "data": {
      "text/plain": [
       "[('work', 0.36191348225795611),\n",
       " ('taxes', 0.11734474331268456),\n",
       " ('living-conditions', 0.10481362899137305),\n",
       " ('tractor', 0.08803333924114988),\n",
       " ('moral-rights', 0.078759789376574241)]"
      ]
     },
     "metadata": {},
     "output_type": "display_data"
    },
    {
     "name": "stdout",
     "output_type": "stream",
     "text": [
      "\n"
     ]
    },
    {
     "data": {
      "text/plain": [
       "'data/clean/clean-comments-17249.txt'"
      ]
     },
     "metadata": {},
     "output_type": "display_data"
    },
    {
     "data": {
      "text/plain": [
       "[('work', 0.28207245780527213),\n",
       " ('relationships', 0.15954925642607568),\n",
       " ('taxes', 0.15729516197671456),\n",
       " ('moral-rights', 0.10033868529992716),\n",
       " ('tractor', 0.062153011100378491),\n",
       " ('living-conditions', 0.056641962025398181),\n",
       " ('market-2', 0.051735242022573916)]"
      ]
     },
     "metadata": {},
     "output_type": "display_data"
    },
    {
     "name": "stdout",
     "output_type": "stream",
     "text": [
      "\n"
     ]
    },
    {
     "data": {
      "text/plain": [
       "'data/clean/clean-comments-17271.txt'"
      ]
     },
     "metadata": {},
     "output_type": "display_data"
    },
    {
     "data": {
      "text/plain": [
       "[('work', 0.38595193758709523),\n",
       " ('market-2', 0.090005339958883351),\n",
       " ('cashflow', 0.079003588991399365),\n",
       " ('moral-rights', 0.077804208903350922),\n",
       " ('fraud', 0.07188096116500213),\n",
       " ('living-conditions', 0.06835183079456629),\n",
       " ('ukrainian', 0.055782614462524069),\n",
       " ('tractor', 0.055368202394462711),\n",
       " ('relationships', 0.052441301369878915)]"
      ]
     },
     "metadata": {},
     "output_type": "display_data"
    },
    {
     "name": "stdout",
     "output_type": "stream",
     "text": [
      "\n"
     ]
    },
    {
     "data": {
      "text/plain": [
       "'data/clean/clean-comments-17274.txt'"
      ]
     },
     "metadata": {},
     "output_type": "display_data"
    },
    {
     "data": {
      "text/plain": [
       "[('work', 0.36405098329278684),\n",
       " ('living-conditions', 0.12075884329615025),\n",
       " ('moral-rights', 0.085798247696237798),\n",
       " ('tractor', 0.074087609458824297),\n",
       " ('recruitment', 0.062754045899055033),\n",
       " ('relationships', 0.055409120453360494),\n",
       " ('taxes', 0.051150738742981934)]"
      ]
     },
     "metadata": {},
     "output_type": "display_data"
    },
    {
     "name": "stdout",
     "output_type": "stream",
     "text": [
      "\n"
     ]
    },
    {
     "data": {
      "text/plain": [
       "'data/clean/clean-comments-17295.txt'"
      ]
     },
     "metadata": {},
     "output_type": "display_data"
    },
    {
     "data": {
      "text/plain": [
       "[('work', 0.3211149514294297),\n",
       " ('moral-rights', 0.1411757519631579),\n",
       " ('living-conditions', 0.086444108439912015),\n",
       " ('recruitment', 0.071949526388433119),\n",
       " ('cashflow', 0.070260111843128234),\n",
       " ('market-2', 0.064784884747171978),\n",
       " ('tractor', 0.059165535245679975)]"
      ]
     },
     "metadata": {},
     "output_type": "display_data"
    },
    {
     "name": "stdout",
     "output_type": "stream",
     "text": [
      "\n"
     ]
    },
    {
     "data": {
      "text/plain": [
       "'data/clean/clean-comments-17307.txt'"
      ]
     },
     "metadata": {},
     "output_type": "display_data"
    },
    {
     "data": {
      "text/plain": [
       "[('work', 0.42551484945709367),\n",
       " ('tractor', 0.1118519479672918),\n",
       " ('living-conditions', 0.07964295935531733),\n",
       " ('moral-rights', 0.076258495719524977),\n",
       " ('cashflow', 0.059346907693940798),\n",
       " ('market-2', 0.058106503667190702)]"
      ]
     },
     "metadata": {},
     "output_type": "display_data"
    },
    {
     "name": "stdout",
     "output_type": "stream",
     "text": [
      "\n"
     ]
    },
    {
     "data": {
      "text/plain": [
       "'data/clean/clean-comments-17312.txt'"
      ]
     },
     "metadata": {},
     "output_type": "display_data"
    },
    {
     "data": {
      "text/plain": [
       "[('work', 0.51180920199913238),\n",
       " ('moral-rights', 0.10921697080844522),\n",
       " ('cashflow', 0.057817000715578465),\n",
       " ('market-2', 0.055763582843623066),\n",
       " ('mentor', 0.052833810544703569),\n",
       " ('tractor', 0.050441432404767908)]"
      ]
     },
     "metadata": {},
     "output_type": "display_data"
    },
    {
     "name": "stdout",
     "output_type": "stream",
     "text": [
      "\n"
     ]
    },
    {
     "data": {
      "text/plain": [
       "'data/clean/clean-comments-17351.txt'"
      ]
     },
     "metadata": {},
     "output_type": "display_data"
    },
    {
     "data": {
      "text/plain": [
       "[('work', 0.43195459973742806),\n",
       " ('moral-rights', 0.148240959058239),\n",
       " ('living-conditions', 0.14443144167952823),\n",
       " ('relationships', 0.069502262925398475),\n",
       " ('tractor', 0.065685991107651012),\n",
       " ('market-2', 0.061296091184725496)]"
      ]
     },
     "metadata": {},
     "output_type": "display_data"
    },
    {
     "name": "stdout",
     "output_type": "stream",
     "text": [
      "\n"
     ]
    },
    {
     "data": {
      "text/plain": [
       "'data/clean/clean-comments-17370.txt'"
      ]
     },
     "metadata": {},
     "output_type": "display_data"
    },
    {
     "data": {
      "text/plain": [
       "[('work', 0.37322122304555455),\n",
       " ('living-conditions', 0.17312631766040973),\n",
       " ('market-2', 0.099683656615345437),\n",
       " ('tractor', 0.084172132001212527),\n",
       " ('moral-rights', 0.064383819321291252),\n",
       " ('relationships', 0.053991368631860139)]"
      ]
     },
     "metadata": {},
     "output_type": "display_data"
    },
    {
     "name": "stdout",
     "output_type": "stream",
     "text": [
      "\n"
     ]
    },
    {
     "data": {
      "text/plain": [
       "'data/clean/clean-comments-17373.txt'"
      ]
     },
     "metadata": {},
     "output_type": "display_data"
    },
    {
     "data": {
      "text/plain": [
       "[('work', 0.44061934819237869),\n",
       " ('relationships', 0.081059064159740069),\n",
       " ('tractor', 0.080655516387571125),\n",
       " ('cashflow', 0.074118646450106504),\n",
       " ('living-conditions', 0.068717260555018173),\n",
       " ('moral-rights', 0.06449754294259788),\n",
       " ('market-2', 0.051673095634451341)]"
      ]
     },
     "metadata": {},
     "output_type": "display_data"
    },
    {
     "name": "stdout",
     "output_type": "stream",
     "text": [
      "\n"
     ]
    },
    {
     "data": {
      "text/plain": [
       "'data/clean/clean-comments-17450.txt'"
      ]
     },
     "metadata": {},
     "output_type": "display_data"
    },
    {
     "data": {
      "text/plain": [
       "[('work', 0.48894128127381997),\n",
       " ('living-conditions', 0.078682518544788846),\n",
       " ('tractor', 0.064263596325713768),\n",
       " ('cashflow', 0.055574298841423696),\n",
       " ('moral-rights', 0.055332684048074766),\n",
       " ('ukrainian', 0.054414822026036008)]"
      ]
     },
     "metadata": {},
     "output_type": "display_data"
    },
    {
     "name": "stdout",
     "output_type": "stream",
     "text": [
      "\n"
     ]
    },
    {
     "data": {
      "text/plain": [
       "'data/clean/clean-comments-17452.txt'"
      ]
     },
     "metadata": {},
     "output_type": "display_data"
    },
    {
     "data": {
      "text/plain": [
       "[('work', 0.39065583382840013),\n",
       " ('living-conditions', 0.099438174102643426),\n",
       " ('tractor', 0.089501769797032643),\n",
       " ('relationships', 0.078502183905325568),\n",
       " ('market-2', 0.073452951791997026),\n",
       " ('moral-rights', 0.058271767656713408)]"
      ]
     },
     "metadata": {},
     "output_type": "display_data"
    },
    {
     "name": "stdout",
     "output_type": "stream",
     "text": [
      "\n"
     ]
    },
    {
     "data": {
      "text/plain": [
       "'data/clean/clean-comments-17468.txt'"
      ]
     },
     "metadata": {},
     "output_type": "display_data"
    },
    {
     "data": {
      "text/plain": [
       "[('work', 0.44647906956333278),\n",
       " ('living-conditions', 0.099640766756407054),\n",
       " ('moral-rights', 0.094656211071790425),\n",
       " ('tractor', 0.070739051827295438)]"
      ]
     },
     "metadata": {},
     "output_type": "display_data"
    },
    {
     "name": "stdout",
     "output_type": "stream",
     "text": [
      "\n"
     ]
    },
    {
     "data": {
      "text/plain": [
       "'data/clean/clean-comments-17470.txt'"
      ]
     },
     "metadata": {},
     "output_type": "display_data"
    },
    {
     "data": {
      "text/plain": [
       "[('work', 0.40219682256299261),\n",
       " ('tractor', 0.11843232430175395),\n",
       " ('market-2', 0.089881542854903351),\n",
       " ('living-conditions', 0.071034707829719101),\n",
       " ('relationships', 0.064557929342320783),\n",
       " ('cashflow', 0.063927344694331423),\n",
       " ('moral-rights', 0.05575356892654329)]"
      ]
     },
     "metadata": {},
     "output_type": "display_data"
    },
    {
     "name": "stdout",
     "output_type": "stream",
     "text": [
      "\n"
     ]
    },
    {
     "data": {
      "text/plain": [
       "'data/clean/clean-comments-17472.txt'"
      ]
     },
     "metadata": {},
     "output_type": "display_data"
    },
    {
     "data": {
      "text/plain": [
       "[('work', 0.40913228990841821),\n",
       " ('tractor', 0.12796445732729844),\n",
       " ('cashflow', 0.096460834918922184),\n",
       " ('market-2', 0.095292992671453733),\n",
       " ('living-conditions', 0.090258151068952228)]"
      ]
     },
     "metadata": {},
     "output_type": "display_data"
    },
    {
     "name": "stdout",
     "output_type": "stream",
     "text": [
      "\n"
     ]
    },
    {
     "data": {
      "text/plain": [
       "'data/clean/clean-comments-17474.txt'"
      ]
     },
     "metadata": {},
     "output_type": "display_data"
    },
    {
     "data": {
      "text/plain": [
       "[('work', 0.52744984310351672),\n",
       " ('living-conditions', 0.064367185545373795),\n",
       " ('relationships', 0.058105762927628458),\n",
       " ('cashflow', 0.052964305104536848),\n",
       " ('fraud', 0.052469430835786181),\n",
       " ('moral-rights', 0.050797086723175219),\n",
       " ('tractor', 0.050517204102603838)]"
      ]
     },
     "metadata": {},
     "output_type": "display_data"
    },
    {
     "name": "stdout",
     "output_type": "stream",
     "text": [
      "\n"
     ]
    },
    {
     "data": {
      "text/plain": [
       "'data/clean/clean-comments-17492.txt'"
      ]
     },
     "metadata": {},
     "output_type": "display_data"
    },
    {
     "data": {
      "text/plain": [
       "[('work', 0.47563865294174318),\n",
       " ('living-conditions', 0.1096106998832484),\n",
       " ('moral-rights', 0.10374936990321912),\n",
       " ('tractor', 0.058398476804434482),\n",
       " ('cashflow', 0.053071194401436289)]"
      ]
     },
     "metadata": {},
     "output_type": "display_data"
    },
    {
     "name": "stdout",
     "output_type": "stream",
     "text": [
      "\n"
     ]
    },
    {
     "data": {
      "text/plain": [
       "'data/clean/clean-comments-17513.txt'"
      ]
     },
     "metadata": {},
     "output_type": "display_data"
    },
    {
     "data": {
      "text/plain": [
       "[('work', 0.51700114122127483),\n",
       " ('recruitment', 0.08053360688520006),\n",
       " ('tractor', 0.074636552327564179),\n",
       " ('cashflow', 0.057359972139058676),\n",
       " ('relationships', 0.0515104768189431)]"
      ]
     },
     "metadata": {},
     "output_type": "display_data"
    },
    {
     "name": "stdout",
     "output_type": "stream",
     "text": [
      "\n"
     ]
    },
    {
     "data": {
      "text/plain": [
       "'data/clean/clean-comments-17516.txt'"
      ]
     },
     "metadata": {},
     "output_type": "display_data"
    },
    {
     "data": {
      "text/plain": [
       "[('work', 0.50569719278101888),\n",
       " ('moral-rights', 0.10865204460415188),\n",
       " ('living-conditions', 0.070121982839438407),\n",
       " ('cashflow', 0.065380521585996443)]"
      ]
     },
     "metadata": {},
     "output_type": "display_data"
    },
    {
     "name": "stdout",
     "output_type": "stream",
     "text": [
      "\n"
     ]
    },
    {
     "data": {
      "text/plain": [
       "'data/clean/clean-comments-17523.txt'"
      ]
     },
     "metadata": {},
     "output_type": "display_data"
    },
    {
     "data": {
      "text/plain": [
       "[('work', 0.42155759774133233),\n",
       " ('living-conditions', 0.10992881099060325),\n",
       " ('moral-rights', 0.091571871918096084),\n",
       " ('tractor', 0.072529078505185321)]"
      ]
     },
     "metadata": {},
     "output_type": "display_data"
    },
    {
     "name": "stdout",
     "output_type": "stream",
     "text": [
      "\n"
     ]
    },
    {
     "data": {
      "text/plain": [
       "'data/clean/clean-comments-17525.txt'"
      ]
     },
     "metadata": {},
     "output_type": "display_data"
    },
    {
     "data": {
      "text/plain": [
       "[('work', 0.51700465900341308),\n",
       " ('moral-rights', 0.076488991741539072),\n",
       " ('living-conditions', 0.073934085031104074),\n",
       " ('tractor', 0.068664608978553948)]"
      ]
     },
     "metadata": {},
     "output_type": "display_data"
    },
    {
     "name": "stdout",
     "output_type": "stream",
     "text": [
      "\n"
     ]
    },
    {
     "data": {
      "text/plain": [
       "'data/clean/clean-comments-17526.txt'"
      ]
     },
     "metadata": {},
     "output_type": "display_data"
    },
    {
     "data": {
      "text/plain": [
       "[('work', 0.41545043673323773),\n",
       " ('living-conditions', 0.11639361698375932),\n",
       " ('tractor', 0.11461854636271382),\n",
       " ('moral-rights', 0.081842379780890206)]"
      ]
     },
     "metadata": {},
     "output_type": "display_data"
    },
    {
     "name": "stdout",
     "output_type": "stream",
     "text": [
      "\n"
     ]
    },
    {
     "data": {
      "text/plain": [
       "'data/clean/clean-comments-17531.txt'"
      ]
     },
     "metadata": {},
     "output_type": "display_data"
    },
    {
     "data": {
      "text/plain": [
       "[('relationships', 0.23115081598660048),\n",
       " ('work', 0.17667255749025493),\n",
       " ('living-conditions', 0.16130957988769296),\n",
       " ('cashflow', 0.13407215950753873),\n",
       " ('mentor', 0.081139555089662266),\n",
       " ('moral-rights', 0.080982452775273439),\n",
       " ('tractor', 0.067292580917455797)]"
      ]
     },
     "metadata": {},
     "output_type": "display_data"
    },
    {
     "name": "stdout",
     "output_type": "stream",
     "text": [
      "\n"
     ]
    },
    {
     "data": {
      "text/plain": [
       "'data/clean/clean-comments-17537.txt'"
      ]
     },
     "metadata": {},
     "output_type": "display_data"
    },
    {
     "data": {
      "text/plain": [
       "[('work', 0.35055892497135671),\n",
       " ('living-conditions', 0.1515102072943996),\n",
       " ('relationships', 0.12766642286660709),\n",
       " ('cashflow', 0.0994713848314909),\n",
       " ('tractor', 0.081007000952431088),\n",
       " ('market-2', 0.072769551017144884)]"
      ]
     },
     "metadata": {},
     "output_type": "display_data"
    },
    {
     "name": "stdout",
     "output_type": "stream",
     "text": [
      "\n"
     ]
    },
    {
     "data": {
      "text/plain": [
       "'data/clean/clean-comments-17540.txt'"
      ]
     },
     "metadata": {},
     "output_type": "display_data"
    },
    {
     "data": {
      "text/plain": [
       "[('work', 0.36059518466155704),\n",
       " ('living-conditions', 0.10283627091540276),\n",
       " ('moral-rights', 0.09301022869559962),\n",
       " ('relationships', 0.070120671185407948),\n",
       " ('tractor', 0.069526180389764825),\n",
       " ('market-2', 0.060256069325606808),\n",
       " ('cashflow', 0.059757102949277573)]"
      ]
     },
     "metadata": {},
     "output_type": "display_data"
    },
    {
     "name": "stdout",
     "output_type": "stream",
     "text": [
      "\n"
     ]
    },
    {
     "data": {
      "text/plain": [
       "'data/clean/clean-comments-17543.txt'"
      ]
     },
     "metadata": {},
     "output_type": "display_data"
    },
    {
     "data": {
      "text/plain": [
       "[('work', 0.37177025811932035),\n",
       " ('moral-rights', 0.16208297512304079),\n",
       " ('living-conditions', 0.088992167463106286),\n",
       " ('relationships', 0.068185191356599256),\n",
       " ('tractor', 0.061908332753893409),\n",
       " ('cashflow', 0.051454905358080151)]"
      ]
     },
     "metadata": {},
     "output_type": "display_data"
    },
    {
     "name": "stdout",
     "output_type": "stream",
     "text": [
      "\n"
     ]
    },
    {
     "data": {
      "text/plain": [
       "'data/clean/clean-comments-17550.txt'"
      ]
     },
     "metadata": {},
     "output_type": "display_data"
    },
    {
     "data": {
      "text/plain": [
       "[('work', 0.33691421207575323),\n",
       " ('moral-rights', 0.24617812234174802),\n",
       " ('living-conditions', 0.10632492310967534),\n",
       " ('tractor', 0.064225266817042492),\n",
       " ('cashflow', 0.058451685625380383),\n",
       " ('relationships', 0.056178912410287413)]"
      ]
     },
     "metadata": {},
     "output_type": "display_data"
    },
    {
     "name": "stdout",
     "output_type": "stream",
     "text": [
      "\n"
     ]
    },
    {
     "data": {
      "text/plain": [
       "'data/clean/clean-comments-17551.txt'"
      ]
     },
     "metadata": {},
     "output_type": "display_data"
    },
    {
     "data": {
      "text/plain": [
       "[('work', 0.37503866703969524),\n",
       " ('living-conditions', 0.14737047576859244),\n",
       " ('tractor', 0.13053158756705965),\n",
       " ('market-2', 0.10792254499417991),\n",
       " ('moral-rights', 0.065357910359898519)]"
      ]
     },
     "metadata": {},
     "output_type": "display_data"
    },
    {
     "name": "stdout",
     "output_type": "stream",
     "text": [
      "\n"
     ]
    },
    {
     "data": {
      "text/plain": [
       "'data/clean/clean-comments-17552.txt'"
      ]
     },
     "metadata": {},
     "output_type": "display_data"
    },
    {
     "data": {
      "text/plain": [
       "[('work', 0.30152756748057685),\n",
       " ('moral-rights', 0.17320150222803227),\n",
       " ('living-conditions', 0.11933437307345406),\n",
       " ('cashflow', 0.091335504827382799),\n",
       " ('relationships', 0.069848354918088162),\n",
       " ('tractor', 0.052576522104749966)]"
      ]
     },
     "metadata": {},
     "output_type": "display_data"
    },
    {
     "name": "stdout",
     "output_type": "stream",
     "text": [
      "\n"
     ]
    },
    {
     "data": {
      "text/plain": [
       "'data/clean/clean-comments-17557.txt'"
      ]
     },
     "metadata": {},
     "output_type": "display_data"
    },
    {
     "data": {
      "text/plain": [
       "[('work', 0.35514076109332332),\n",
       " ('moral-rights', 0.14512303326480214),\n",
       " ('living-conditions', 0.12881382206603401),\n",
       " ('tractor', 0.087657228335710755),\n",
       " ('cashflow', 0.059592386675679059),\n",
       " ('market-2', 0.055245965244960976)]"
      ]
     },
     "metadata": {},
     "output_type": "display_data"
    },
    {
     "name": "stdout",
     "output_type": "stream",
     "text": [
      "\n"
     ]
    },
    {
     "data": {
      "text/plain": [
       "'data/clean/clean-comments-17560.txt'"
      ]
     },
     "metadata": {},
     "output_type": "display_data"
    },
    {
     "data": {
      "text/plain": [
       "[('work', 0.3769553667627758),\n",
       " ('tractor', 0.10855509302157607),\n",
       " ('moral-rights', 0.099235980412164582),\n",
       " ('living-conditions', 0.095829819842400285),\n",
       " ('cashflow', 0.061422066739023819),\n",
       " ('recruitment', 0.051101758503884348)]"
      ]
     },
     "metadata": {},
     "output_type": "display_data"
    },
    {
     "name": "stdout",
     "output_type": "stream",
     "text": [
      "\n"
     ]
    },
    {
     "data": {
      "text/plain": [
       "'data/clean/clean-comments-17563.txt'"
      ]
     },
     "metadata": {},
     "output_type": "display_data"
    },
    {
     "data": {
      "text/plain": [
       "[('work', 0.35635231354240321),\n",
       " ('tractor', 0.12235011433613004),\n",
       " ('living-conditions', 0.11129267208961183),\n",
       " ('relationships', 0.11066170746083959),\n",
       " ('moral-rights', 0.071182863836871307),\n",
       " ('market-2', 0.067478108874735807),\n",
       " ('cashflow', 0.06027643457044983),\n",
       " ('fraud', 0.057371521342383651)]"
      ]
     },
     "metadata": {},
     "output_type": "display_data"
    },
    {
     "name": "stdout",
     "output_type": "stream",
     "text": [
      "\n"
     ]
    },
    {
     "data": {
      "text/plain": [
       "'data/clean/clean-comments-17564.txt'"
      ]
     },
     "metadata": {},
     "output_type": "display_data"
    },
    {
     "data": {
      "text/plain": [
       "[('work', 0.44810786157275828),\n",
       " ('tractor', 0.088195474683191943),\n",
       " ('living-conditions', 0.068823740398661667),\n",
       " ('moral-rights', 0.06868521133678139),\n",
       " ('relationships', 0.057210926045871184),\n",
       " ('cashflow', 0.052267449123928583)]"
      ]
     },
     "metadata": {},
     "output_type": "display_data"
    },
    {
     "name": "stdout",
     "output_type": "stream",
     "text": [
      "\n"
     ]
    },
    {
     "data": {
      "text/plain": [
       "'data/clean/clean-comments-17573.txt'"
      ]
     },
     "metadata": {},
     "output_type": "display_data"
    },
    {
     "data": {
      "text/plain": [
       "[('work', 0.39630377029352026),\n",
       " ('living-conditions', 0.11356260397308375),\n",
       " ('cashflow', 0.10398751216574639),\n",
       " ('tractor', 0.072024027777354685),\n",
       " ('moral-rights', 0.062790775542207355),\n",
       " ('relationships', 0.060222538667337761)]"
      ]
     },
     "metadata": {},
     "output_type": "display_data"
    },
    {
     "name": "stdout",
     "output_type": "stream",
     "text": [
      "\n"
     ]
    },
    {
     "data": {
      "text/plain": [
       "'data/clean/clean-comments-17575.txt'"
      ]
     },
     "metadata": {},
     "output_type": "display_data"
    },
    {
     "data": {
      "text/plain": [
       "[('work', 0.41527847921318295),\n",
       " ('living-conditions', 0.11680873993811634),\n",
       " ('market-2', 0.087185978038872944),\n",
       " ('cashflow', 0.082486822090239664),\n",
       " ('mentor', 0.063467121310993954),\n",
       " ('moral-rights', 0.057622603942224945),\n",
       " ('ukrainian', 0.051327264187003098)]"
      ]
     },
     "metadata": {},
     "output_type": "display_data"
    },
    {
     "name": "stdout",
     "output_type": "stream",
     "text": [
      "\n"
     ]
    },
    {
     "data": {
      "text/plain": [
       "'data/clean/clean-comments-17576.txt'"
      ]
     },
     "metadata": {},
     "output_type": "display_data"
    },
    {
     "data": {
      "text/plain": [
       "[('work', 0.41892029891222876),\n",
       " ('living-conditions', 0.11872967583870814),\n",
       " ('tractor', 0.10557366582724249),\n",
       " ('market-2', 0.071244847533896635),\n",
       " ('moral-rights', 0.067364855908419077),\n",
       " ('taxes', 0.06492222791909559)]"
      ]
     },
     "metadata": {},
     "output_type": "display_data"
    },
    {
     "name": "stdout",
     "output_type": "stream",
     "text": [
      "\n"
     ]
    },
    {
     "data": {
      "text/plain": [
       "'data/clean/clean-comments-17578.txt'"
      ]
     },
     "metadata": {},
     "output_type": "display_data"
    },
    {
     "data": {
      "text/plain": [
       "[('work', 0.42299310005135921),\n",
       " ('living-conditions', 0.12803629919939807),\n",
       " ('tractor', 0.078486525201377708),\n",
       " ('moral-rights', 0.06871169476867045),\n",
       " ('relationships', 0.06083459678920998),\n",
       " ('cashflow', 0.056151740346223812),\n",
       " ('market-2', 0.055022415518306944)]"
      ]
     },
     "metadata": {},
     "output_type": "display_data"
    },
    {
     "name": "stdout",
     "output_type": "stream",
     "text": [
      "\n"
     ]
    },
    {
     "data": {
      "text/plain": [
       "'data/clean/clean-comments-17579.txt'"
      ]
     },
     "metadata": {},
     "output_type": "display_data"
    },
    {
     "data": {
      "text/plain": [
       "[('work', 0.36141674990664069),\n",
       " ('living-conditions', 0.11780236307809647),\n",
       " ('moral-rights', 0.10348670806148524),\n",
       " ('relationships', 0.088602333209432754),\n",
       " ('tractor', 0.065514028109285402)]"
      ]
     },
     "metadata": {},
     "output_type": "display_data"
    },
    {
     "name": "stdout",
     "output_type": "stream",
     "text": [
      "\n"
     ]
    },
    {
     "data": {
      "text/plain": [
       "'data/clean/clean-comments-17580.txt'"
      ]
     },
     "metadata": {},
     "output_type": "display_data"
    },
    {
     "data": {
      "text/plain": [
       "[('work', 0.31671891158922227),\n",
       " ('living-conditions', 0.11983385285830712),\n",
       " ('moral-rights', 0.086828593731977058),\n",
       " ('tractor', 0.06850761468322572),\n",
       " ('recruitment', 0.067723166411210178),\n",
       " ('cashflow', 0.059618220062507561),\n",
       " ('ukrainian', 0.055927825140266958)]"
      ]
     },
     "metadata": {},
     "output_type": "display_data"
    },
    {
     "name": "stdout",
     "output_type": "stream",
     "text": [
      "\n"
     ]
    },
    {
     "data": {
      "text/plain": [
       "'data/clean/clean-comments-17584.txt'"
      ]
     },
     "metadata": {},
     "output_type": "display_data"
    },
    {
     "data": {
      "text/plain": [
       "[('work', 0.29563107439981556),\n",
       " ('living-conditions', 0.15504802511556651),\n",
       " ('moral-rights', 0.13557378571393411),\n",
       " ('market-2', 0.093740958591764151),\n",
       " ('ukrainian', 0.076659972422828196),\n",
       " ('cashflow', 0.063444293378607616),\n",
       " ('relationships', 0.054638767800513098)]"
      ]
     },
     "metadata": {},
     "output_type": "display_data"
    },
    {
     "name": "stdout",
     "output_type": "stream",
     "text": [
      "\n"
     ]
    },
    {
     "data": {
      "text/plain": [
       "'data/clean/clean-comments-17588.txt'"
      ]
     },
     "metadata": {},
     "output_type": "display_data"
    },
    {
     "data": {
      "text/plain": [
       "[('work', 0.34182289370674174),\n",
       " ('ukrainian', 0.14183594242106731),\n",
       " ('living-conditions', 0.12427573071119875),\n",
       " ('moral-rights', 0.074271082881958383),\n",
       " ('tractor', 0.071620531852904068),\n",
       " ('cashflow', 0.063518992802377952),\n",
       " ('market-2', 0.06252902589116438),\n",
       " ('fraud', 0.054075453337844567)]"
      ]
     },
     "metadata": {},
     "output_type": "display_data"
    },
    {
     "name": "stdout",
     "output_type": "stream",
     "text": [
      "\n"
     ]
    },
    {
     "data": {
      "text/plain": [
       "'data/clean/clean-comments-17589.txt'"
      ]
     },
     "metadata": {},
     "output_type": "display_data"
    },
    {
     "data": {
      "text/plain": [
       "[('work', 0.34517389260775677),\n",
       " ('ukrainian', 0.11433415396165544),\n",
       " ('moral-rights', 0.097409170236209403),\n",
       " ('living-conditions', 0.091486991286629973),\n",
       " ('tractor', 0.070295708801836387),\n",
       " ('cashflow', 0.056595693363820039)]"
      ]
     },
     "metadata": {},
     "output_type": "display_data"
    },
    {
     "name": "stdout",
     "output_type": "stream",
     "text": [
      "\n"
     ]
    },
    {
     "data": {
      "text/plain": [
       "'data/clean/clean-comments-17590.txt'"
      ]
     },
     "metadata": {},
     "output_type": "display_data"
    },
    {
     "data": {
      "text/plain": [
       "[('living-conditions', 0.38608870282789226),\n",
       " ('work', 0.30007715247450345),\n",
       " ('cashflow', 0.17677746180011342),\n",
       " ('tractor', 0.055693267054766363)]"
      ]
     },
     "metadata": {},
     "output_type": "display_data"
    },
    {
     "name": "stdout",
     "output_type": "stream",
     "text": [
      "\n"
     ]
    },
    {
     "data": {
      "text/plain": [
       "'data/clean/clean-comments-17592.txt'"
      ]
     },
     "metadata": {},
     "output_type": "display_data"
    },
    {
     "data": {
      "text/plain": [
       "[('work', 0.39201861083322848),\n",
       " ('moral-rights', 0.15550227931081978),\n",
       " ('tractor', 0.10520315615099947),\n",
       " ('market-2', 0.075901874488121482),\n",
       " ('ukrainian', 0.072675863662386181)]"
      ]
     },
     "metadata": {},
     "output_type": "display_data"
    },
    {
     "name": "stdout",
     "output_type": "stream",
     "text": [
      "\n"
     ]
    },
    {
     "data": {
      "text/plain": [
       "'data/clean/clean-comments-17593.txt'"
      ]
     },
     "metadata": {},
     "output_type": "display_data"
    },
    {
     "data": {
      "text/plain": [
       "[('work', 0.31564172907839472),\n",
       " ('tractor', 0.11751417211739051),\n",
       " ('ukrainian', 0.10681643756920159),\n",
       " ('living-conditions', 0.077788719050884733),\n",
       " ('market-2', 0.072605701441928946),\n",
       " ('relationships', 0.057565769366824462),\n",
       " ('cashflow', 0.056093514275646912),\n",
       " ('moral-rights', 0.055476896236643099)]"
      ]
     },
     "metadata": {},
     "output_type": "display_data"
    },
    {
     "name": "stdout",
     "output_type": "stream",
     "text": [
      "\n"
     ]
    },
    {
     "data": {
      "text/plain": [
       "'data/clean/clean-comments-17596.txt'"
      ]
     },
     "metadata": {},
     "output_type": "display_data"
    },
    {
     "data": {
      "text/plain": [
       "[('work', 0.332209141407388),\n",
       " ('moral-rights', 0.12233696832654432),\n",
       " ('living-conditions', 0.12026549001778482),\n",
       " ('cashflow', 0.071830899542185911)]"
      ]
     },
     "metadata": {},
     "output_type": "display_data"
    },
    {
     "name": "stdout",
     "output_type": "stream",
     "text": [
      "\n"
     ]
    },
    {
     "data": {
      "text/plain": [
       "'data/clean/clean-comments-17599.txt'"
      ]
     },
     "metadata": {},
     "output_type": "display_data"
    },
    {
     "data": {
      "text/plain": [
       "[('work', 0.24484817809327208),\n",
       " ('moral-rights', 0.20864706365450666),\n",
       " ('cashflow', 0.16123879264448801),\n",
       " ('living-conditions', 0.079531984137256165),\n",
       " ('relationships', 0.06676724482025638),\n",
       " ('fraud', 0.056140227616797565),\n",
       " ('tractor', 0.052998283558156771)]"
      ]
     },
     "metadata": {},
     "output_type": "display_data"
    },
    {
     "name": "stdout",
     "output_type": "stream",
     "text": [
      "\n"
     ]
    },
    {
     "data": {
      "text/plain": [
       "'data/clean/clean-comments-17600.txt'"
      ]
     },
     "metadata": {},
     "output_type": "display_data"
    },
    {
     "data": {
      "text/plain": [
       "[('work', 0.40630875059970634),\n",
       " ('living-conditions', 0.11408734387641664),\n",
       " ('moral-rights', 0.093161269216519987),\n",
       " ('tractor', 0.087409030282513137),\n",
       " ('cashflow', 0.05685243391061761)]"
      ]
     },
     "metadata": {},
     "output_type": "display_data"
    },
    {
     "name": "stdout",
     "output_type": "stream",
     "text": [
      "\n"
     ]
    },
    {
     "data": {
      "text/plain": [
       "'data/clean/clean-comments-17603.txt'"
      ]
     },
     "metadata": {},
     "output_type": "display_data"
    },
    {
     "data": {
      "text/plain": [
       "[('work', 0.39639565073955246),\n",
       " ('living-conditions', 0.14474297168937356),\n",
       " ('tractor', 0.078238359213577385),\n",
       " ('moral-rights', 0.067322199970363636)]"
      ]
     },
     "metadata": {},
     "output_type": "display_data"
    },
    {
     "name": "stdout",
     "output_type": "stream",
     "text": [
      "\n"
     ]
    },
    {
     "data": {
      "text/plain": [
       "'data/clean/clean-comments-17604.txt'"
      ]
     },
     "metadata": {},
     "output_type": "display_data"
    },
    {
     "data": {
      "text/plain": [
       "[('work', 0.48498081264480392),\n",
       " ('living-conditions', 0.28174262321161198),\n",
       " ('recruitment', 0.093678689065695472),\n",
       " ('edu-corruption', 0.082838407909859385)]"
      ]
     },
     "metadata": {},
     "output_type": "display_data"
    },
    {
     "name": "stdout",
     "output_type": "stream",
     "text": [
      "\n"
     ]
    },
    {
     "data": {
      "text/plain": [
       "'data/clean/clean-comments-17605.txt'"
      ]
     },
     "metadata": {},
     "output_type": "display_data"
    },
    {
     "data": {
      "text/plain": [
       "[('work', 0.42727992574504575),\n",
       " ('tractor', 0.091063634252433218),\n",
       " ('market-2', 0.081172287231075516),\n",
       " ('moral-rights', 0.080196080721789173),\n",
       " ('mentor', 0.066034633484690533),\n",
       " ('cashflow', 0.065297127610174602),\n",
       " ('living-conditions', 0.055227828857088955)]"
      ]
     },
     "metadata": {},
     "output_type": "display_data"
    },
    {
     "name": "stdout",
     "output_type": "stream",
     "text": [
      "\n"
     ]
    },
    {
     "data": {
      "text/plain": [
       "'data/clean/clean-comments-17607.txt'"
      ]
     },
     "metadata": {},
     "output_type": "display_data"
    },
    {
     "data": {
      "text/plain": [
       "[('work', 0.39689636291771191),\n",
       " ('living-conditions', 0.1489950862962259),\n",
       " ('moral-rights', 0.12715469367436741),\n",
       " ('tractor', 0.056825529318382285),\n",
       " ('market-2', 0.051591441322219267)]"
      ]
     },
     "metadata": {},
     "output_type": "display_data"
    },
    {
     "name": "stdout",
     "output_type": "stream",
     "text": [
      "\n"
     ]
    },
    {
     "data": {
      "text/plain": [
       "'data/clean/clean-comments-17609.txt'"
      ]
     },
     "metadata": {},
     "output_type": "display_data"
    },
    {
     "data": {
      "text/plain": [
       "[('work', 0.40007982612291637),\n",
       " ('moral-rights', 0.10694127182718244),\n",
       " ('living-conditions', 0.097457903851724079),\n",
       " ('cashflow', 0.091249201904076843),\n",
       " ('tractor', 0.066373691269162122),\n",
       " ('mentor', 0.050815041615451091)]"
      ]
     },
     "metadata": {},
     "output_type": "display_data"
    },
    {
     "name": "stdout",
     "output_type": "stream",
     "text": [
      "\n"
     ]
    },
    {
     "data": {
      "text/plain": [
       "'data/clean/clean-comments-17610.txt'"
      ]
     },
     "metadata": {},
     "output_type": "display_data"
    },
    {
     "data": {
      "text/plain": [
       "[('work', 0.34112143540549672),\n",
       " ('moral-rights', 0.18452462865174285),\n",
       " ('living-conditions', 0.10092447321431348),\n",
       " ('tractor', 0.087463502441210636),\n",
       " ('relationships', 0.078153040476785035)]"
      ]
     },
     "metadata": {},
     "output_type": "display_data"
    },
    {
     "name": "stdout",
     "output_type": "stream",
     "text": [
      "\n"
     ]
    },
    {
     "data": {
      "text/plain": [
       "'data/clean/clean-comments-17611.txt'"
      ]
     },
     "metadata": {},
     "output_type": "display_data"
    },
    {
     "data": {
      "text/plain": [
       "[('work', 0.44737082213321483),\n",
       " ('relationships', 0.097923278611324924),\n",
       " ('moral-rights', 0.095504665575092976),\n",
       " ('living-conditions', 0.091466824652810697)]"
      ]
     },
     "metadata": {},
     "output_type": "display_data"
    },
    {
     "name": "stdout",
     "output_type": "stream",
     "text": [
      "\n"
     ]
    },
    {
     "data": {
      "text/plain": [
       "'data/clean/clean-comments-17612.txt'"
      ]
     },
     "metadata": {},
     "output_type": "display_data"
    },
    {
     "data": {
      "text/plain": [
       "[('market-1', 0.055555555555555539),\n",
       " ('taxes', 0.055555555555555539),\n",
       " ('mentor', 0.055555555555555539),\n",
       " ('qa', 0.055555555555555539),\n",
       " ('fraud', 0.055555555555555539),\n",
       " ('ukrainian', 0.055555555555555539),\n",
       " ('courses', 0.055555555555555539),\n",
       " ('recruitment', 0.055555555555555539),\n",
       " ('edu-corruption', 0.055555555555555539),\n",
       " ('living-conditions', 0.055555555555555539),\n",
       " ('cashflow', 0.055555555555555539),\n",
       " ('knowledge', 0.055555555555555539),\n",
       " ('tractor', 0.055555555555555539),\n",
       " ('market-2', 0.055555555555555539),\n",
       " ('moral-rights', 0.055555555555555539),\n",
       " ('politics', 0.055555555555555539),\n",
       " ('work', 0.055555555555555539),\n",
       " ('relationships', 0.055555555555555539)]"
      ]
     },
     "metadata": {},
     "output_type": "display_data"
    },
    {
     "name": "stdout",
     "output_type": "stream",
     "text": [
      "\n"
     ]
    },
    {
     "data": {
      "text/plain": [
       "'data/clean/clean-comments-17614.txt'"
      ]
     },
     "metadata": {},
     "output_type": "display_data"
    },
    {
     "data": {
      "text/plain": [
       "[('work', 0.59360875059553952),\n",
       " ('tractor', 0.11264313152873202),\n",
       " ('market-2', 0.081720250763634664),\n",
       " ('fraud', 0.050447627087334676)]"
      ]
     },
     "metadata": {},
     "output_type": "display_data"
    },
    {
     "name": "stdout",
     "output_type": "stream",
     "text": [
      "\n"
     ]
    },
    {
     "data": {
      "text/plain": [
       "'data/clean/clean-comments-17615.txt'"
      ]
     },
     "metadata": {},
     "output_type": "display_data"
    },
    {
     "data": {
      "text/plain": [
       "[('work', 0.36408539588086697),\n",
       " ('living-conditions', 0.14839770474747657),\n",
       " ('moral-rights', 0.11054654366069452),\n",
       " ('mentor', 0.089100223889518979),\n",
       " ('tractor', 0.056962276984605993),\n",
       " ('cashflow', 0.054059473588880573)]"
      ]
     },
     "metadata": {},
     "output_type": "display_data"
    },
    {
     "name": "stdout",
     "output_type": "stream",
     "text": [
      "\n"
     ]
    },
    {
     "data": {
      "text/plain": [
       "'data/clean/clean-comments-17617.txt'"
      ]
     },
     "metadata": {},
     "output_type": "display_data"
    },
    {
     "data": {
      "text/plain": [
       "[('work', 0.40843881455620612),\n",
       " ('tractor', 0.098971247982988064),\n",
       " ('living-conditions', 0.098529566518525513),\n",
       " ('moral-rights', 0.074814332975080083),\n",
       " ('market-2', 0.069801585339399785),\n",
       " ('cashflow', 0.053287772348153975)]"
      ]
     },
     "metadata": {},
     "output_type": "display_data"
    },
    {
     "name": "stdout",
     "output_type": "stream",
     "text": [
      "\n"
     ]
    },
    {
     "data": {
      "text/plain": [
       "'data/clean/clean-comments-17618.txt'"
      ]
     },
     "metadata": {},
     "output_type": "display_data"
    },
    {
     "data": {
      "text/plain": [
       "[('work', 0.4541533675836909),\n",
       " ('tractor', 0.11391745701188764),\n",
       " ('moral-rights', 0.095184747563431871),\n",
       " ('cashflow', 0.056391115776968946),\n",
       " ('market-2', 0.055976462825505988),\n",
       " ('living-conditions', 0.055014805002370222)]"
      ]
     },
     "metadata": {},
     "output_type": "display_data"
    },
    {
     "name": "stdout",
     "output_type": "stream",
     "text": [
      "\n"
     ]
    },
    {
     "data": {
      "text/plain": [
       "'data/clean/clean-comments-17619.txt'"
      ]
     },
     "metadata": {},
     "output_type": "display_data"
    },
    {
     "data": {
      "text/plain": [
       "[('work', 0.39289577126791603),\n",
       " ('moral-rights', 0.11395537981035715),\n",
       " ('tractor', 0.11233800111867467),\n",
       " ('market-2', 0.083634127880859416),\n",
       " ('living-conditions', 0.069277083322649313),\n",
       " ('relationships', 0.058824718474204563)]"
      ]
     },
     "metadata": {},
     "output_type": "display_data"
    },
    {
     "name": "stdout",
     "output_type": "stream",
     "text": [
      "\n"
     ]
    },
    {
     "data": {
      "text/plain": [
       "'data/clean/clean-comments-17622.txt'"
      ]
     },
     "metadata": {},
     "output_type": "display_data"
    },
    {
     "data": {
      "text/plain": [
       "[('work', 0.61648854056935765),\n",
       " ('mentor', 0.071721335088505908),\n",
       " ('relationships', 0.059118669804699764),\n",
       " ('taxes', 0.050702760325448043)]"
      ]
     },
     "metadata": {},
     "output_type": "display_data"
    },
    {
     "name": "stdout",
     "output_type": "stream",
     "text": [
      "\n"
     ]
    },
    {
     "data": {
      "text/plain": [
       "'data/clean/clean-comments-17623.txt'"
      ]
     },
     "metadata": {},
     "output_type": "display_data"
    },
    {
     "data": {
      "text/plain": [
       "[('work', 0.58223279396883365),\n",
       " ('moral-rights', 0.15766406582507606),\n",
       " ('living-conditions', 0.11473033611210279)]"
      ]
     },
     "metadata": {},
     "output_type": "display_data"
    },
    {
     "name": "stdout",
     "output_type": "stream",
     "text": [
      "\n"
     ]
    },
    {
     "data": {
      "text/plain": [
       "'data/clean/clean-comments-17625.txt'"
      ]
     },
     "metadata": {},
     "output_type": "display_data"
    },
    {
     "data": {
      "text/plain": [
       "[('work', 0.50201758189961343),\n",
       " ('living-conditions', 0.16014674316860827),\n",
       " ('moral-rights', 0.13592485454325234),\n",
       " ('cashflow', 0.055209621216007067)]"
      ]
     },
     "metadata": {},
     "output_type": "display_data"
    },
    {
     "name": "stdout",
     "output_type": "stream",
     "text": [
      "\n"
     ]
    },
    {
     "data": {
      "text/plain": [
       "'data/clean/clean-comments-17628.txt'"
      ]
     },
     "metadata": {},
     "output_type": "display_data"
    },
    {
     "data": {
      "text/plain": [
       "[('market-1', 0.055555555555555539),\n",
       " ('taxes', 0.055555555555555539),\n",
       " ('mentor', 0.055555555555555539),\n",
       " ('qa', 0.055555555555555539),\n",
       " ('fraud', 0.055555555555555539),\n",
       " ('ukrainian', 0.055555555555555539),\n",
       " ('courses', 0.055555555555555539),\n",
       " ('recruitment', 0.055555555555555539),\n",
       " ('edu-corruption', 0.055555555555555539),\n",
       " ('living-conditions', 0.055555555555555539),\n",
       " ('cashflow', 0.055555555555555539),\n",
       " ('knowledge', 0.055555555555555539),\n",
       " ('tractor', 0.055555555555555539),\n",
       " ('market-2', 0.055555555555555539),\n",
       " ('moral-rights', 0.055555555555555539),\n",
       " ('politics', 0.055555555555555539),\n",
       " ('work', 0.055555555555555539),\n",
       " ('relationships', 0.055555555555555539)]"
      ]
     },
     "metadata": {},
     "output_type": "display_data"
    },
    {
     "name": "stdout",
     "output_type": "stream",
     "text": [
      "\n"
     ]
    },
    {
     "data": {
      "text/plain": [
       "'data/clean/clean-comments-17629.txt'"
      ]
     },
     "metadata": {},
     "output_type": "display_data"
    },
    {
     "data": {
      "text/plain": [
       "[('work', 0.41321514531923526),\n",
       " ('tractor', 0.12217312904633068),\n",
       " ('living-conditions', 0.097094178965854414),\n",
       " ('relationships', 0.074017689315608343),\n",
       " ('cashflow', 0.070138102391008567),\n",
       " ('moral-rights', 0.062598505030381293)]"
      ]
     },
     "metadata": {},
     "output_type": "display_data"
    },
    {
     "name": "stdout",
     "output_type": "stream",
     "text": [
      "\n"
     ]
    },
    {
     "data": {
      "text/plain": [
       "'data/clean/clean-comments-17631.txt'"
      ]
     },
     "metadata": {},
     "output_type": "display_data"
    },
    {
     "data": {
      "text/plain": [
       "[('work', 0.36704239884958567),\n",
       " ('living-conditions', 0.11551100119508166),\n",
       " ('moral-rights', 0.085801801026686178),\n",
       " ('tractor', 0.080406351014244884),\n",
       " ('cashflow', 0.05835193501968481),\n",
       " ('mentor', 0.057739324279346305),\n",
       " ('relationships', 0.050123229585339442)]"
      ]
     },
     "metadata": {},
     "output_type": "display_data"
    },
    {
     "name": "stdout",
     "output_type": "stream",
     "text": [
      "\n"
     ]
    },
    {
     "data": {
      "text/plain": [
       "'data/clean/clean-comments-17632.txt'"
      ]
     },
     "metadata": {},
     "output_type": "display_data"
    },
    {
     "data": {
      "text/plain": [
       "[('work', 0.33653042829061552),\n",
       " ('tractor', 0.11164788025192998),\n",
       " ('living-conditions', 0.066766563338828799),\n",
       " ('market-1', 0.063328027709833951),\n",
       " ('cashflow', 0.062424771490129073),\n",
       " ('market-2', 0.059670562129628027),\n",
       " ('relationships', 0.055723085454207684),\n",
       " ('moral-rights', 0.050434169603527451)]"
      ]
     },
     "metadata": {},
     "output_type": "display_data"
    },
    {
     "name": "stdout",
     "output_type": "stream",
     "text": [
      "\n"
     ]
    },
    {
     "data": {
      "text/plain": [
       "'data/clean/clean-comments-17633.txt'"
      ]
     },
     "metadata": {},
     "output_type": "display_data"
    },
    {
     "data": {
      "text/plain": [
       "[('work', 0.38708594220061004),\n",
       " ('living-conditions', 0.18092209558466082),\n",
       " ('moral-rights', 0.086741091750798874),\n",
       " ('market-2', 0.069909840660247774),\n",
       " ('relationships', 0.055453802909474777)]"
      ]
     },
     "metadata": {},
     "output_type": "display_data"
    },
    {
     "name": "stdout",
     "output_type": "stream",
     "text": [
      "\n"
     ]
    },
    {
     "data": {
      "text/plain": [
       "'data/clean/clean-comments-17635.txt'"
      ]
     },
     "metadata": {},
     "output_type": "display_data"
    },
    {
     "data": {
      "text/plain": [
       "[('work', 0.43833530109164082),\n",
       " ('living-conditions', 0.094770558188740917),\n",
       " ('relationships', 0.072922964474047808),\n",
       " ('moral-rights', 0.064097747903066868),\n",
       " ('tractor', 0.061806222291607489),\n",
       " ('cashflow', 0.058590297317911211),\n",
       " ('mentor', 0.054945238431716566)]"
      ]
     },
     "metadata": {},
     "output_type": "display_data"
    },
    {
     "name": "stdout",
     "output_type": "stream",
     "text": [
      "\n"
     ]
    },
    {
     "data": {
      "text/plain": [
       "'data/clean/clean-comments-17637.txt'"
      ]
     },
     "metadata": {},
     "output_type": "display_data"
    },
    {
     "data": {
      "text/plain": [
       "[('work', 0.42463505858997785),\n",
       " ('living-conditions', 0.091584807072713909),\n",
       " ('tractor', 0.080878282267618853),\n",
       " ('moral-rights', 0.072002059247937608),\n",
       " ('cashflow', 0.059649760934973817),\n",
       " ('market-2', 0.056827994911000462)]"
      ]
     },
     "metadata": {},
     "output_type": "display_data"
    },
    {
     "name": "stdout",
     "output_type": "stream",
     "text": [
      "\n"
     ]
    },
    {
     "data": {
      "text/plain": [
       "'data/clean/clean-comments-17640.txt'"
      ]
     },
     "metadata": {},
     "output_type": "display_data"
    },
    {
     "data": {
      "text/plain": [
       "[('work', 0.367719632898662),\n",
       " ('tractor', 0.1511954451286549),\n",
       " ('moral-rights', 0.12066290440043119),\n",
       " ('living-conditions', 0.10479661293079133),\n",
       " ('relationships', 0.05845536350422504),\n",
       " ('market-2', 0.05733159086998519)]"
      ]
     },
     "metadata": {},
     "output_type": "display_data"
    },
    {
     "name": "stdout",
     "output_type": "stream",
     "text": [
      "\n"
     ]
    },
    {
     "data": {
      "text/plain": [
       "'data/clean/clean-comments-17641.txt'"
      ]
     },
     "metadata": {},
     "output_type": "display_data"
    },
    {
     "data": {
      "text/plain": [
       "[('work', 0.41310520038180171),\n",
       " ('living-conditions', 0.099550143391674908),\n",
       " ('tractor', 0.090107065280626439),\n",
       " ('moral-rights', 0.087585814280569357),\n",
       " ('taxes', 0.057589703239638773),\n",
       " ('relationships', 0.054258907218415087)]"
      ]
     },
     "metadata": {},
     "output_type": "display_data"
    },
    {
     "name": "stdout",
     "output_type": "stream",
     "text": [
      "\n"
     ]
    },
    {
     "data": {
      "text/plain": [
       "'data/clean/clean-comments-17643.txt'"
      ]
     },
     "metadata": {},
     "output_type": "display_data"
    },
    {
     "data": {
      "text/plain": [
       "[('work', 0.4298017728708427),\n",
       " ('relationships', 0.097560430351924146),\n",
       " ('tractor', 0.092499522574562176),\n",
       " ('taxes', 0.069821156329693171),\n",
       " ('moral-rights', 0.066616621668847978),\n",
       " ('ukrainian', 0.059119596778002791),\n",
       " ('living-conditions', 0.057670878344527249)]"
      ]
     },
     "metadata": {},
     "output_type": "display_data"
    },
    {
     "name": "stdout",
     "output_type": "stream",
     "text": [
      "\n"
     ]
    },
    {
     "data": {
      "text/plain": [
       "'data/clean/clean-comments-17644.txt'"
      ]
     },
     "metadata": {},
     "output_type": "display_data"
    },
    {
     "data": {
      "text/plain": [
       "[('market-1', 0.055555555555555539),\n",
       " ('taxes', 0.055555555555555539),\n",
       " ('mentor', 0.055555555555555539),\n",
       " ('qa', 0.055555555555555539),\n",
       " ('fraud', 0.055555555555555539),\n",
       " ('ukrainian', 0.055555555555555539),\n",
       " ('courses', 0.055555555555555539),\n",
       " ('recruitment', 0.055555555555555539),\n",
       " ('edu-corruption', 0.055555555555555539),\n",
       " ('living-conditions', 0.055555555555555539),\n",
       " ('cashflow', 0.055555555555555539),\n",
       " ('knowledge', 0.055555555555555539),\n",
       " ('tractor', 0.055555555555555539),\n",
       " ('market-2', 0.055555555555555539),\n",
       " ('moral-rights', 0.055555555555555539),\n",
       " ('politics', 0.055555555555555539),\n",
       " ('work', 0.055555555555555539),\n",
       " ('relationships', 0.055555555555555539)]"
      ]
     },
     "metadata": {},
     "output_type": "display_data"
    },
    {
     "name": "stdout",
     "output_type": "stream",
     "text": [
      "\n"
     ]
    },
    {
     "data": {
      "text/plain": [
       "'data/clean/clean-comments-17645.txt'"
      ]
     },
     "metadata": {},
     "output_type": "display_data"
    },
    {
     "data": {
      "text/plain": [
       "[('work', 0.54010350615818481),\n",
       " ('living-conditions', 0.13731876719522049),\n",
       " ('taxes', 0.063800569375123989)]"
      ]
     },
     "metadata": {},
     "output_type": "display_data"
    },
    {
     "name": "stdout",
     "output_type": "stream",
     "text": [
      "\n"
     ]
    },
    {
     "data": {
      "text/plain": [
       "'data/clean/clean-comments-17646.txt'"
      ]
     },
     "metadata": {},
     "output_type": "display_data"
    },
    {
     "data": {
      "text/plain": [
       "[('work', 0.42230548066142981),\n",
       " ('living-conditions', 0.18736202896129273),\n",
       " ('moral-rights', 0.095303507741945764),\n",
       " ('relationships', 0.077888281381873453),\n",
       " ('tractor', 0.053666964247909135)]"
      ]
     },
     "metadata": {},
     "output_type": "display_data"
    },
    {
     "name": "stdout",
     "output_type": "stream",
     "text": [
      "\n"
     ]
    },
    {
     "data": {
      "text/plain": [
       "'data/clean/clean-comments-17647.txt'"
      ]
     },
     "metadata": {},
     "output_type": "display_data"
    },
    {
     "data": {
      "text/plain": [
       "[('work', 0.3944425453943976),\n",
       " ('living-conditions', 0.12382198353351566),\n",
       " ('tractor', 0.10833597658775974),\n",
       " ('moral-rights', 0.085243124251072597),\n",
       " ('market-2', 0.07203943413613155),\n",
       " ('fraud', 0.057179047795834798)]"
      ]
     },
     "metadata": {},
     "output_type": "display_data"
    },
    {
     "name": "stdout",
     "output_type": "stream",
     "text": [
      "\n"
     ]
    },
    {
     "data": {
      "text/plain": [
       "'data/clean/clean-comments-17648.txt'"
      ]
     },
     "metadata": {},
     "output_type": "display_data"
    },
    {
     "data": {
      "text/plain": [
       "[('work', 0.54786655563248765),\n",
       " ('living-conditions', 0.16334058430667941),\n",
       " ('moral-rights', 0.1524964495071757),\n",
       " ('market-2', 0.070862515306675561)]"
      ]
     },
     "metadata": {},
     "output_type": "display_data"
    },
    {
     "name": "stdout",
     "output_type": "stream",
     "text": [
      "\n"
     ]
    },
    {
     "data": {
      "text/plain": [
       "'data/clean/clean-comments-17649.txt'"
      ]
     },
     "metadata": {},
     "output_type": "display_data"
    },
    {
     "data": {
      "text/plain": [
       "[('market-1', 0.055555555555555539),\n",
       " ('taxes', 0.055555555555555539),\n",
       " ('mentor', 0.055555555555555539),\n",
       " ('qa', 0.055555555555555539),\n",
       " ('fraud', 0.055555555555555539),\n",
       " ('ukrainian', 0.055555555555555539),\n",
       " ('courses', 0.055555555555555539),\n",
       " ('recruitment', 0.055555555555555539),\n",
       " ('edu-corruption', 0.055555555555555539),\n",
       " ('living-conditions', 0.055555555555555539),\n",
       " ('cashflow', 0.055555555555555539),\n",
       " ('knowledge', 0.055555555555555539),\n",
       " ('tractor', 0.055555555555555539),\n",
       " ('market-2', 0.055555555555555539),\n",
       " ('moral-rights', 0.055555555555555539),\n",
       " ('politics', 0.055555555555555539),\n",
       " ('work', 0.055555555555555539),\n",
       " ('relationships', 0.055555555555555539)]"
      ]
     },
     "metadata": {},
     "output_type": "display_data"
    },
    {
     "name": "stdout",
     "output_type": "stream",
     "text": [
      "\n"
     ]
    },
    {
     "data": {
      "text/plain": [
       "'data/clean/clean-comments-17651.txt'"
      ]
     },
     "metadata": {},
     "output_type": "display_data"
    },
    {
     "data": {
      "text/plain": [
       "[('work', 0.52312452054706271),\n",
       " ('moral-rights', 0.082093941881352189),\n",
       " ('tractor', 0.05725009183737708),\n",
       " ('living-conditions', 0.052079199697961515)]"
      ]
     },
     "metadata": {},
     "output_type": "display_data"
    },
    {
     "name": "stdout",
     "output_type": "stream",
     "text": [
      "\n"
     ]
    },
    {
     "data": {
      "text/plain": [
       "'data/clean/clean-comments-17653.txt'"
      ]
     },
     "metadata": {},
     "output_type": "display_data"
    },
    {
     "data": {
      "text/plain": [
       "[('work', 0.42217438046166667),\n",
       " ('cashflow', 0.1327273159810245),\n",
       " ('tractor', 0.11967462955393614),\n",
       " ('mentor', 0.085148261748720769),\n",
       " ('recruitment', 0.076178665278585994)]"
      ]
     },
     "metadata": {},
     "output_type": "display_data"
    },
    {
     "name": "stdout",
     "output_type": "stream",
     "text": [
      "\n"
     ]
    },
    {
     "data": {
      "text/plain": [
       "'data/clean/clean-comments-17654.txt'"
      ]
     },
     "metadata": {},
     "output_type": "display_data"
    },
    {
     "data": {
      "text/plain": [
       "[('work', 0.67363098072952676),\n",
       " ('tractor', 0.13955106130496395),\n",
       " ('fraud', 0.077922280084106177),\n",
       " ('living-conditions', 0.053816416051379781)]"
      ]
     },
     "metadata": {},
     "output_type": "display_data"
    },
    {
     "name": "stdout",
     "output_type": "stream",
     "text": [
      "\n"
     ]
    },
    {
     "data": {
      "text/plain": [
       "'data/clean/clean-comments-17656.txt'"
      ]
     },
     "metadata": {},
     "output_type": "display_data"
    },
    {
     "data": {
      "text/plain": [
       "[('work', 0.40768134305726017),\n",
       " ('tractor', 0.14164818389866352),\n",
       " ('relationships', 0.12056532683721764),\n",
       " ('living-conditions', 0.11055635424071815),\n",
       " ('market-2', 0.064970784130725628)]"
      ]
     },
     "metadata": {},
     "output_type": "display_data"
    },
    {
     "name": "stdout",
     "output_type": "stream",
     "text": [
      "\n"
     ]
    },
    {
     "data": {
      "text/plain": [
       "'data/clean/clean-comments-17657.txt'"
      ]
     },
     "metadata": {},
     "output_type": "display_data"
    },
    {
     "data": {
      "text/plain": [
       "[('work', 0.44476851948085727),\n",
       " ('moral-rights', 0.1092796811784492),\n",
       " ('living-conditions', 0.094689791310335295),\n",
       " ('tractor', 0.074500829809742042),\n",
       " ('relationships', 0.051332901764760984)]"
      ]
     },
     "metadata": {},
     "output_type": "display_data"
    },
    {
     "name": "stdout",
     "output_type": "stream",
     "text": [
      "\n"
     ]
    },
    {
     "data": {
      "text/plain": [
       "'data/clean/clean-comments-17658.txt'"
      ]
     },
     "metadata": {},
     "output_type": "display_data"
    },
    {
     "data": {
      "text/plain": [
       "[('market-1', 0.055555555555555539),\n",
       " ('taxes', 0.055555555555555539),\n",
       " ('mentor', 0.055555555555555539),\n",
       " ('qa', 0.055555555555555539),\n",
       " ('fraud', 0.055555555555555539),\n",
       " ('ukrainian', 0.055555555555555539),\n",
       " ('courses', 0.055555555555555539),\n",
       " ('recruitment', 0.055555555555555539),\n",
       " ('edu-corruption', 0.055555555555555539),\n",
       " ('living-conditions', 0.055555555555555539),\n",
       " ('cashflow', 0.055555555555555539),\n",
       " ('knowledge', 0.055555555555555539),\n",
       " ('tractor', 0.055555555555555539),\n",
       " ('market-2', 0.055555555555555539),\n",
       " ('moral-rights', 0.055555555555555539),\n",
       " ('politics', 0.055555555555555539),\n",
       " ('work', 0.055555555555555539),\n",
       " ('relationships', 0.055555555555555539)]"
      ]
     },
     "metadata": {},
     "output_type": "display_data"
    },
    {
     "name": "stdout",
     "output_type": "stream",
     "text": [
      "\n"
     ]
    },
    {
     "data": {
      "text/plain": [
       "'data/clean/clean-comments-17659.txt'"
      ]
     },
     "metadata": {},
     "output_type": "display_data"
    },
    {
     "data": {
      "text/plain": [
       "[('market-1', 0.055555555555555539),\n",
       " ('taxes', 0.055555555555555539),\n",
       " ('mentor', 0.055555555555555539),\n",
       " ('qa', 0.055555555555555539),\n",
       " ('fraud', 0.055555555555555539),\n",
       " ('ukrainian', 0.055555555555555539),\n",
       " ('courses', 0.055555555555555539),\n",
       " ('recruitment', 0.055555555555555539),\n",
       " ('edu-corruption', 0.055555555555555539),\n",
       " ('living-conditions', 0.055555555555555539),\n",
       " ('cashflow', 0.055555555555555539),\n",
       " ('knowledge', 0.055555555555555539),\n",
       " ('tractor', 0.055555555555555539),\n",
       " ('market-2', 0.055555555555555539),\n",
       " ('moral-rights', 0.055555555555555539),\n",
       " ('politics', 0.055555555555555539),\n",
       " ('work', 0.055555555555555539),\n",
       " ('relationships', 0.055555555555555539)]"
      ]
     },
     "metadata": {},
     "output_type": "display_data"
    },
    {
     "name": "stdout",
     "output_type": "stream",
     "text": [
      "\n"
     ]
    },
    {
     "data": {
      "text/plain": [
       "'data/clean/clean-comments-17660.txt'"
      ]
     },
     "metadata": {},
     "output_type": "display_data"
    },
    {
     "data": {
      "text/plain": [
       "[('work', 0.46920718232735148),\n",
       " ('living-conditions', 0.12775582510796596),\n",
       " ('moral-rights', 0.079941016730683559),\n",
       " ('tractor', 0.060228324901340766)]"
      ]
     },
     "metadata": {},
     "output_type": "display_data"
    },
    {
     "name": "stdout",
     "output_type": "stream",
     "text": [
      "\n"
     ]
    },
    {
     "data": {
      "text/plain": [
       "'data/clean/clean-comments-17661.txt'"
      ]
     },
     "metadata": {},
     "output_type": "display_data"
    },
    {
     "data": {
      "text/plain": [
       "[('work', 0.37744931954546967),\n",
       " ('tractor', 0.13411204963779977),\n",
       " ('living-conditions', 0.094506331130811833),\n",
       " ('moral-rights', 0.082630221593704423),\n",
       " ('market-2', 0.058737322095770025),\n",
       " ('recruitment', 0.055596358929795239),\n",
       " ('cashflow', 0.054530825168573369)]"
      ]
     },
     "metadata": {},
     "output_type": "display_data"
    },
    {
     "name": "stdout",
     "output_type": "stream",
     "text": [
      "\n"
     ]
    },
    {
     "data": {
      "text/plain": [
       "'data/clean/clean-comments-17662.txt'"
      ]
     },
     "metadata": {},
     "output_type": "display_data"
    },
    {
     "data": {
      "text/plain": [
       "[('work', 0.36566786429874415),\n",
       " ('moral-rights', 0.10274624443183872),\n",
       " ('taxes', 0.088520852132971173),\n",
       " ('recruitment', 0.078816296249509324),\n",
       " ('tractor', 0.075974682098280871),\n",
       " ('living-conditions', 0.051587988209873863),\n",
       " ('cashflow', 0.051205344010830121)]"
      ]
     },
     "metadata": {},
     "output_type": "display_data"
    },
    {
     "name": "stdout",
     "output_type": "stream",
     "text": [
      "\n"
     ]
    },
    {
     "data": {
      "text/plain": [
       "'data/clean/clean-comments-17663.txt'"
      ]
     },
     "metadata": {},
     "output_type": "display_data"
    },
    {
     "data": {
      "text/plain": [
       "[('work', 0.31413876933230367),\n",
       " ('tractor', 0.1904713044694423),\n",
       " ('living-conditions', 0.13498513106963325),\n",
       " ('cashflow', 0.076973021529018332),\n",
       " ('fraud', 0.067996004340823979),\n",
       " ('relationships', 0.055942881983154634)]"
      ]
     },
     "metadata": {},
     "output_type": "display_data"
    },
    {
     "name": "stdout",
     "output_type": "stream",
     "text": [
      "\n"
     ]
    },
    {
     "data": {
      "text/plain": [
       "'data/clean/clean-comments-17664.txt'"
      ]
     },
     "metadata": {},
     "output_type": "display_data"
    },
    {
     "data": {
      "text/plain": [
       "[('work', 0.40953902916314455),\n",
       " ('living-conditions', 0.11154934649644162),\n",
       " ('tractor', 0.084803834736945014),\n",
       " ('cashflow', 0.070296492741216438),\n",
       " ('moral-rights', 0.063367015400093499)]"
      ]
     },
     "metadata": {},
     "output_type": "display_data"
    },
    {
     "name": "stdout",
     "output_type": "stream",
     "text": [
      "\n"
     ]
    },
    {
     "data": {
      "text/plain": [
       "'data/clean/clean-comments-17666.txt'"
      ]
     },
     "metadata": {},
     "output_type": "display_data"
    },
    {
     "data": {
      "text/plain": [
       "[('market-1', 0.055555555555555539),\n",
       " ('taxes', 0.055555555555555539),\n",
       " ('mentor', 0.055555555555555539),\n",
       " ('qa', 0.055555555555555539),\n",
       " ('fraud', 0.055555555555555539),\n",
       " ('ukrainian', 0.055555555555555539),\n",
       " ('courses', 0.055555555555555539),\n",
       " ('recruitment', 0.055555555555555539),\n",
       " ('edu-corruption', 0.055555555555555539),\n",
       " ('living-conditions', 0.055555555555555539),\n",
       " ('cashflow', 0.055555555555555539),\n",
       " ('knowledge', 0.055555555555555539),\n",
       " ('tractor', 0.055555555555555539),\n",
       " ('market-2', 0.055555555555555539),\n",
       " ('moral-rights', 0.055555555555555539),\n",
       " ('politics', 0.055555555555555539),\n",
       " ('work', 0.055555555555555539),\n",
       " ('relationships', 0.055555555555555539)]"
      ]
     },
     "metadata": {},
     "output_type": "display_data"
    },
    {
     "name": "stdout",
     "output_type": "stream",
     "text": [
      "\n"
     ]
    },
    {
     "data": {
      "text/plain": [
       "'data/clean/clean-comments-17667.txt'"
      ]
     },
     "metadata": {},
     "output_type": "display_data"
    },
    {
     "data": {
      "text/plain": [
       "[('work', 0.32265345364114228),\n",
       " ('tractor', 0.1328882357253833),\n",
       " ('recruitment', 0.090609909763166852),\n",
       " ('market-2', 0.082923970550236731),\n",
       " ('cashflow', 0.073400919214977767),\n",
       " ('moral-rights', 0.072813531395811745),\n",
       " ('living-conditions', 0.05250449876814841)]"
      ]
     },
     "metadata": {},
     "output_type": "display_data"
    },
    {
     "name": "stdout",
     "output_type": "stream",
     "text": [
      "\n"
     ]
    },
    {
     "data": {
      "text/plain": [
       "'data/clean/clean-comments-17670.txt'"
      ]
     },
     "metadata": {},
     "output_type": "display_data"
    },
    {
     "data": {
      "text/plain": [
       "[('work', 0.29383593801713881),\n",
       " ('recruitment', 0.13334770783762367),\n",
       " ('tractor', 0.11227791017548278),\n",
       " ('cashflow', 0.069822594106645125),\n",
       " ('market-2', 0.06952106251648156),\n",
       " ('living-conditions', 0.068194028798083797),\n",
       " ('relationships', 0.065304467633349739),\n",
       " ('moral-rights', 0.063838660241684414)]"
      ]
     },
     "metadata": {},
     "output_type": "display_data"
    },
    {
     "name": "stdout",
     "output_type": "stream",
     "text": [
      "\n"
     ]
    },
    {
     "data": {
      "text/plain": [
       "'data/clean/clean-comments-17671.txt'"
      ]
     },
     "metadata": {},
     "output_type": "display_data"
    },
    {
     "data": {
      "text/plain": [
       "[('work', 0.37040607065404962),\n",
       " ('moral-rights', 0.091940820238955098),\n",
       " ('tractor', 0.090990902959490444),\n",
       " ('living-conditions', 0.085727537481088828),\n",
       " ('market-2', 0.068835088044547924),\n",
       " ('relationships', 0.062403332587378034),\n",
       " ('cashflow', 0.058988789494080929)]"
      ]
     },
     "metadata": {},
     "output_type": "display_data"
    },
    {
     "name": "stdout",
     "output_type": "stream",
     "text": [
      "\n"
     ]
    },
    {
     "data": {
      "text/plain": [
       "'data/clean/clean-comments-17674.txt'"
      ]
     },
     "metadata": {},
     "output_type": "display_data"
    },
    {
     "data": {
      "text/plain": [
       "[('work', 0.32123183785378406),\n",
       " ('living-conditions', 0.18546479293123141),\n",
       " ('cashflow', 0.14551415109546612),\n",
       " ('moral-rights', 0.13705652315435959),\n",
       " ('market-2', 0.068246239071849998),\n",
       " ('politics', 0.051482925471912432)]"
      ]
     },
     "metadata": {},
     "output_type": "display_data"
    },
    {
     "name": "stdout",
     "output_type": "stream",
     "text": [
      "\n"
     ]
    },
    {
     "data": {
      "text/plain": [
       "'data/clean/clean-comments-17675.txt'"
      ]
     },
     "metadata": {},
     "output_type": "display_data"
    },
    {
     "data": {
      "text/plain": [
       "[('market-1', 0.055555555555555539),\n",
       " ('taxes', 0.055555555555555539),\n",
       " ('mentor', 0.055555555555555539),\n",
       " ('qa', 0.055555555555555539),\n",
       " ('fraud', 0.055555555555555539),\n",
       " ('ukrainian', 0.055555555555555539),\n",
       " ('courses', 0.055555555555555539),\n",
       " ('recruitment', 0.055555555555555539),\n",
       " ('edu-corruption', 0.055555555555555539),\n",
       " ('living-conditions', 0.055555555555555539),\n",
       " ('cashflow', 0.055555555555555539),\n",
       " ('knowledge', 0.055555555555555539),\n",
       " ('tractor', 0.055555555555555539),\n",
       " ('market-2', 0.055555555555555539),\n",
       " ('moral-rights', 0.055555555555555539),\n",
       " ('politics', 0.055555555555555539),\n",
       " ('work', 0.055555555555555539),\n",
       " ('relationships', 0.055555555555555539)]"
      ]
     },
     "metadata": {},
     "output_type": "display_data"
    },
    {
     "name": "stdout",
     "output_type": "stream",
     "text": [
      "\n"
     ]
    },
    {
     "data": {
      "text/plain": [
       "'data/clean/clean-comments-17676.txt'"
      ]
     },
     "metadata": {},
     "output_type": "display_data"
    },
    {
     "data": {
      "text/plain": [
       "[('market-1', 0.055555555555555539),\n",
       " ('taxes', 0.055555555555555539),\n",
       " ('mentor', 0.055555555555555539),\n",
       " ('qa', 0.055555555555555539),\n",
       " ('fraud', 0.055555555555555539),\n",
       " ('ukrainian', 0.055555555555555539),\n",
       " ('courses', 0.055555555555555539),\n",
       " ('recruitment', 0.055555555555555539),\n",
       " ('edu-corruption', 0.055555555555555539),\n",
       " ('living-conditions', 0.055555555555555539),\n",
       " ('cashflow', 0.055555555555555539),\n",
       " ('knowledge', 0.055555555555555539),\n",
       " ('tractor', 0.055555555555555539),\n",
       " ('market-2', 0.055555555555555539),\n",
       " ('moral-rights', 0.055555555555555539),\n",
       " ('politics', 0.055555555555555539),\n",
       " ('work', 0.055555555555555539),\n",
       " ('relationships', 0.055555555555555539)]"
      ]
     },
     "metadata": {},
     "output_type": "display_data"
    },
    {
     "name": "stdout",
     "output_type": "stream",
     "text": [
      "\n"
     ]
    },
    {
     "data": {
      "text/plain": [
       "'data/clean/clean-comments-17677.txt'"
      ]
     },
     "metadata": {},
     "output_type": "display_data"
    },
    {
     "data": {
      "text/plain": [
       "[('work', 0.33357730632125254),\n",
       " ('tractor', 0.18532735975557188),\n",
       " ('living-conditions', 0.16003529211654338),\n",
       " ('cashflow', 0.081849810916099872),\n",
       " ('fraud', 0.065675984977077481),\n",
       " ('market-2', 0.054910893375296935)]"
      ]
     },
     "metadata": {},
     "output_type": "display_data"
    },
    {
     "name": "stdout",
     "output_type": "stream",
     "text": [
      "\n"
     ]
    },
    {
     "data": {
      "text/plain": [
       "'data/clean/clean-comments-17678.txt'"
      ]
     },
     "metadata": {},
     "output_type": "display_data"
    },
    {
     "data": {
      "text/plain": [
       "[('work', 0.37956924350838539),\n",
       " ('mentor', 0.11632379129680999),\n",
       " ('living-conditions', 0.093767970977421053),\n",
       " ('moral-rights', 0.089478470722221481),\n",
       " ('relationships', 0.059054029661492806),\n",
       " ('cashflow', 0.057066534731315254),\n",
       " ('tractor', 0.055701290227574855)]"
      ]
     },
     "metadata": {},
     "output_type": "display_data"
    },
    {
     "name": "stdout",
     "output_type": "stream",
     "text": [
      "\n"
     ]
    },
    {
     "data": {
      "text/plain": [
       "'data/clean/clean-comments-17685.txt'"
      ]
     },
     "metadata": {},
     "output_type": "display_data"
    },
    {
     "data": {
      "text/plain": [
       "[('work', 0.44824650243586578),\n",
       " ('relationships', 0.22025805712145108),\n",
       " ('market-2', 0.064961070052034789),\n",
       " ('tractor', 0.057724676147423819)]"
      ]
     },
     "metadata": {},
     "output_type": "display_data"
    },
    {
     "name": "stdout",
     "output_type": "stream",
     "text": [
      "\n"
     ]
    },
    {
     "data": {
      "text/plain": [
       "'data/clean/clean-comments-17687.txt'"
      ]
     },
     "metadata": {},
     "output_type": "display_data"
    },
    {
     "data": {
      "text/plain": [
       "[('work', 0.38125679268632418),\n",
       " ('tractor', 0.12061543297753041),\n",
       " ('relationships', 0.089925055398818982),\n",
       " ('living-conditions', 0.08340060793876225),\n",
       " ('moral-rights', 0.073357642923535776),\n",
       " ('market-2', 0.06517248572894889),\n",
       " ('cashflow', 0.060528410266772442)]"
      ]
     },
     "metadata": {},
     "output_type": "display_data"
    },
    {
     "name": "stdout",
     "output_type": "stream",
     "text": [
      "\n"
     ]
    },
    {
     "data": {
      "text/plain": [
       "'data/clean/clean-comments-17688.txt'"
      ]
     },
     "metadata": {},
     "output_type": "display_data"
    },
    {
     "data": {
      "text/plain": [
       "[('work', 0.38526203500391693),\n",
       " ('living-conditions', 0.12169825634775698),\n",
       " ('tractor', 0.095286173388155537),\n",
       " ('relationships', 0.092152655524283922),\n",
       " ('moral-rights', 0.08506352535613651)]"
      ]
     },
     "metadata": {},
     "output_type": "display_data"
    },
    {
     "name": "stdout",
     "output_type": "stream",
     "text": [
      "\n"
     ]
    },
    {
     "data": {
      "text/plain": [
       "'data/clean/clean-comments-17690.txt'"
      ]
     },
     "metadata": {},
     "output_type": "display_data"
    },
    {
     "data": {
      "text/plain": [
       "[('work', 0.32716943112298286),\n",
       " ('relationships', 0.22050194694098449),\n",
       " ('living-conditions', 0.090007657442656971),\n",
       " ('moral-rights', 0.085442759625084685),\n",
       " ('cashflow', 0.076343031696672947),\n",
       " ('tractor', 0.061157636814099491)]"
      ]
     },
     "metadata": {},
     "output_type": "display_data"
    },
    {
     "name": "stdout",
     "output_type": "stream",
     "text": [
      "\n"
     ]
    },
    {
     "data": {
      "text/plain": [
       "'data/clean/clean-comments-17691.txt'"
      ]
     },
     "metadata": {},
     "output_type": "display_data"
    },
    {
     "data": {
      "text/plain": [
       "[('work', 0.4010510424848045),\n",
       " ('living-conditions', 0.11809932435738087),\n",
       " ('moral-rights', 0.095049154997035729),\n",
       " ('tractor', 0.089291170564311434),\n",
       " ('market-2', 0.070567125313484011)]"
      ]
     },
     "metadata": {},
     "output_type": "display_data"
    },
    {
     "name": "stdout",
     "output_type": "stream",
     "text": [
      "\n"
     ]
    },
    {
     "data": {
      "text/plain": [
       "'data/clean/clean-comments-17693.txt'"
      ]
     },
     "metadata": {},
     "output_type": "display_data"
    },
    {
     "data": {
      "text/plain": [
       "[('work', 0.29346074646113252),\n",
       " ('living-conditions', 0.11429507384109325),\n",
       " ('taxes', 0.11002286529988299),\n",
       " ('moral-rights', 0.088960740701413812),\n",
       " ('relationships', 0.072225927804818194),\n",
       " ('mentor', 0.060801142604752459),\n",
       " ('tractor', 0.059248220023977338),\n",
       " ('cashflow', 0.050512169230966991)]"
      ]
     },
     "metadata": {},
     "output_type": "display_data"
    },
    {
     "name": "stdout",
     "output_type": "stream",
     "text": [
      "\n"
     ]
    },
    {
     "data": {
      "text/plain": [
       "'data/clean/clean-comments-17700.txt'"
      ]
     },
     "metadata": {},
     "output_type": "display_data"
    },
    {
     "data": {
      "text/plain": [
       "[('work', 0.36297235742513878),\n",
       " ('mentor', 0.14545749831262295),\n",
       " ('living-conditions', 0.11752608674195315),\n",
       " ('relationships', 0.060616997140101499),\n",
       " ('moral-rights', 0.051853605908597125)]"
      ]
     },
     "metadata": {},
     "output_type": "display_data"
    },
    {
     "name": "stdout",
     "output_type": "stream",
     "text": [
      "\n"
     ]
    },
    {
     "data": {
      "text/plain": [
       "'data/clean/clean-comments-17703.txt'"
      ]
     },
     "metadata": {},
     "output_type": "display_data"
    },
    {
     "data": {
      "text/plain": [
       "[('work', 0.4147151944358487),\n",
       " ('relationships', 0.21988698888938191),\n",
       " ('living-conditions', 0.14283156162108812),\n",
       " ('cashflow', 0.088524980251025606)]"
      ]
     },
     "metadata": {},
     "output_type": "display_data"
    },
    {
     "name": "stdout",
     "output_type": "stream",
     "text": [
      "\n"
     ]
    },
    {
     "data": {
      "text/plain": [
       "'data/clean/clean-comments-17704.txt'"
      ]
     },
     "metadata": {},
     "output_type": "display_data"
    },
    {
     "data": {
      "text/plain": [
       "[('work', 0.24218710297660212),\n",
       " ('mentor', 0.21369690281036421),\n",
       " ('moral-rights', 0.11656944204224405),\n",
       " ('market-2', 0.09561335911925406),\n",
       " ('fraud', 0.078747821508279858),\n",
       " ('tractor', 0.075993749034673208),\n",
       " ('living-conditions', 0.062721763059363597)]"
      ]
     },
     "metadata": {},
     "output_type": "display_data"
    },
    {
     "name": "stdout",
     "output_type": "stream",
     "text": [
      "\n"
     ]
    },
    {
     "data": {
      "text/plain": [
       "'data/clean/clean-comments-17705.txt'"
      ]
     },
     "metadata": {},
     "output_type": "display_data"
    },
    {
     "data": {
      "text/plain": [
       "[('work', 0.25868636933880651),\n",
       " ('mentor', 0.19469773794906312),\n",
       " ('moral-rights', 0.11722702887878227),\n",
       " ('living-conditions', 0.094754604997177777),\n",
       " ('relationships', 0.064056211108484834),\n",
       " ('tractor', 0.061366220261897836),\n",
       " ('fraud', 0.060208352916841047)]"
      ]
     },
     "metadata": {},
     "output_type": "display_data"
    },
    {
     "name": "stdout",
     "output_type": "stream",
     "text": [
      "\n"
     ]
    },
    {
     "data": {
      "text/plain": [
       "'data/clean/clean-comments-17706.txt'"
      ]
     },
     "metadata": {},
     "output_type": "display_data"
    },
    {
     "data": {
      "text/plain": [
       "[('moral-rights', 0.22161099055999187),\n",
       " ('mentor', 0.21670721193654491),\n",
       " ('work', 0.20922509309013157),\n",
       " ('relationships', 0.16771023113821706),\n",
       " ('tractor', 0.073894455136834666),\n",
       " ('courses', 0.059836808808810669)]"
      ]
     },
     "metadata": {},
     "output_type": "display_data"
    },
    {
     "name": "stdout",
     "output_type": "stream",
     "text": [
      "\n"
     ]
    },
    {
     "data": {
      "text/plain": [
       "'data/clean/clean-comments-17707.txt'"
      ]
     },
     "metadata": {},
     "output_type": "display_data"
    },
    {
     "data": {
      "text/plain": [
       "[('work', 0.38852988830670238),\n",
       " ('living-conditions', 0.13275080327062416),\n",
       " ('mentor', 0.13253104955581158),\n",
       " ('cashflow', 0.070446624959235052),\n",
       " ('relationships', 0.055161532124753679)]"
      ]
     },
     "metadata": {},
     "output_type": "display_data"
    },
    {
     "name": "stdout",
     "output_type": "stream",
     "text": [
      "\n"
     ]
    },
    {
     "data": {
      "text/plain": [
       "'data/clean/clean-comments-17708.txt'"
      ]
     },
     "metadata": {},
     "output_type": "display_data"
    },
    {
     "data": {
      "text/plain": [
       "[('work', 0.28644604427238024),\n",
       " ('living-conditions', 0.20008748069296045),\n",
       " ('mentor', 0.14349071238330713),\n",
       " ('tractor', 0.10849271252329218),\n",
       " ('cashflow', 0.081464636702086576),\n",
       " ('market-2', 0.052183371112404717)]"
      ]
     },
     "metadata": {},
     "output_type": "display_data"
    },
    {
     "name": "stdout",
     "output_type": "stream",
     "text": [
      "\n"
     ]
    },
    {
     "data": {
      "text/plain": [
       "'data/clean/clean-comments-17709.txt'"
      ]
     },
     "metadata": {},
     "output_type": "display_data"
    },
    {
     "data": {
      "text/plain": [
       "[('work', 0.37211544595089174),\n",
       " ('mentor', 0.23429066478001617),\n",
       " ('moral-rights', 0.17727313659159469),\n",
       " ('market-2', 0.072175686997481198),\n",
       " ('cashflow', 0.0564656815280647),\n",
       " ('politics', 0.050642342468742108)]"
      ]
     },
     "metadata": {},
     "output_type": "display_data"
    },
    {
     "name": "stdout",
     "output_type": "stream",
     "text": [
      "\n"
     ]
    },
    {
     "data": {
      "text/plain": [
       "'data/clean/clean-comments-17713.txt'"
      ]
     },
     "metadata": {},
     "output_type": "display_data"
    },
    {
     "data": {
      "text/plain": [
       "[('work', 0.31161802183023457),\n",
       " ('living-conditions', 0.11408644610760756),\n",
       " ('fraud', 0.10363660734897999),\n",
       " ('moral-rights', 0.096729084870233642),\n",
       " ('tractor', 0.072269179778452),\n",
       " ('mentor', 0.063133534533036675),\n",
       " ('market-2', 0.056292450697015654)]"
      ]
     },
     "metadata": {},
     "output_type": "display_data"
    },
    {
     "name": "stdout",
     "output_type": "stream",
     "text": [
      "\n"
     ]
    },
    {
     "data": {
      "text/plain": [
       "'data/clean/clean-comments-17715.txt'"
      ]
     },
     "metadata": {},
     "output_type": "display_data"
    },
    {
     "data": {
      "text/plain": [
       "[('work', 0.21865094919500105),\n",
       " ('fraud', 0.20771835895668203),\n",
       " ('market-2', 0.10745781947988509),\n",
       " ('moral-rights', 0.084472605400959896),\n",
       " ('living-conditions', 0.075278732864450859),\n",
       " ('tractor', 0.070180808976053499),\n",
       " ('cashflow', 0.055084607056939253)]"
      ]
     },
     "metadata": {},
     "output_type": "display_data"
    },
    {
     "name": "stdout",
     "output_type": "stream",
     "text": [
      "\n"
     ]
    },
    {
     "data": {
      "text/plain": [
       "'data/clean/clean-comments-17716.txt'"
      ]
     },
     "metadata": {},
     "output_type": "display_data"
    },
    {
     "data": {
      "text/plain": [
       "[('work', 0.28112277120896401),\n",
       " ('moral-rights', 0.18912935278292184),\n",
       " ('living-conditions', 0.076877668319346767),\n",
       " ('fraud', 0.075051786716838612),\n",
       " ('relationships', 0.06940471451161101),\n",
       " ('cashflow', 0.065456249437493397),\n",
       " ('market-2', 0.053816685734230589),\n",
       " ('politics', 0.053396625903291722),\n",
       " ('tractor', 0.052534230345783646)]"
      ]
     },
     "metadata": {},
     "output_type": "display_data"
    },
    {
     "name": "stdout",
     "output_type": "stream",
     "text": [
      "\n"
     ]
    },
    {
     "data": {
      "text/plain": [
       "'data/clean/clean-comments-17717.txt'"
      ]
     },
     "metadata": {},
     "output_type": "display_data"
    },
    {
     "data": {
      "text/plain": [
       "[('work', 0.3058705710946083),\n",
       " ('tractor', 0.12534711558761372),\n",
       " ('fraud', 0.11803998732339628),\n",
       " ('market-2', 0.1176831304194749),\n",
       " ('living-conditions', 0.10737395920014588),\n",
       " ('moral-rights', 0.089026493971037804)]"
      ]
     },
     "metadata": {},
     "output_type": "display_data"
    },
    {
     "name": "stdout",
     "output_type": "stream",
     "text": [
      "\n"
     ]
    },
    {
     "data": {
      "text/plain": [
       "'data/clean/clean-comments-17719.txt'"
      ]
     },
     "metadata": {},
     "output_type": "display_data"
    },
    {
     "data": {
      "text/plain": [
       "[('work', 0.35286327542851453),\n",
       " ('fraud', 0.13685196722710466),\n",
       " ('living-conditions', 0.12161592221366407),\n",
       " ('market-2', 0.091562945955276545),\n",
       " ('tractor', 0.082549203173727576),\n",
       " ('moral-rights', 0.077929128916389784)]"
      ]
     },
     "metadata": {},
     "output_type": "display_data"
    },
    {
     "name": "stdout",
     "output_type": "stream",
     "text": [
      "\n"
     ]
    },
    {
     "data": {
      "text/plain": [
       "'data/clean/clean-comments-17721.txt'"
      ]
     },
     "metadata": {},
     "output_type": "display_data"
    },
    {
     "data": {
      "text/plain": [
       "[('work', 0.27737478064278698),\n",
       " ('fraud', 0.16263820906917237),\n",
       " ('moral-rights', 0.09241901338871919),\n",
       " ('market-2', 0.091881206573061328),\n",
       " ('tractor', 0.079560999338941063),\n",
       " ('cashflow', 0.075041060916311825),\n",
       " ('relationships', 0.057617217530059994),\n",
       " ('living-conditions', 0.051490995353782876)]"
      ]
     },
     "metadata": {},
     "output_type": "display_data"
    },
    {
     "name": "stdout",
     "output_type": "stream",
     "text": [
      "\n"
     ]
    },
    {
     "data": {
      "text/plain": [
       "'data/clean/clean-comments-17722.txt'"
      ]
     },
     "metadata": {},
     "output_type": "display_data"
    },
    {
     "data": {
      "text/plain": [
       "[('work', 0.5137058206483246),\n",
       " ('fraud', 0.1187934435640723),\n",
       " ('moral-rights', 0.10656348331920605),\n",
       " ('market-2', 0.09045071592320518),\n",
       " ('tractor', 0.086198499648865501),\n",
       " ('living-conditions', 0.069473220778681108)]"
      ]
     },
     "metadata": {},
     "output_type": "display_data"
    },
    {
     "name": "stdout",
     "output_type": "stream",
     "text": [
      "\n"
     ]
    },
    {
     "data": {
      "text/plain": [
       "'data/clean/clean-comments-17724.txt'"
      ]
     },
     "metadata": {},
     "output_type": "display_data"
    },
    {
     "data": {
      "text/plain": [
       "[('work', 0.32559368129601746),\n",
       " ('tractor', 0.11044485980650334),\n",
       " ('living-conditions', 0.083868259907486628),\n",
       " ('market-2', 0.077897689281629198),\n",
       " ('fraud', 0.06932518750933904),\n",
       " ('moral-rights', 0.068858845443441272),\n",
       " ('taxes', 0.06733998184036781),\n",
       " ('relationships', 0.059061916418623295),\n",
       " ('cashflow', 0.050192144141681792)]"
      ]
     },
     "metadata": {},
     "output_type": "display_data"
    },
    {
     "name": "stdout",
     "output_type": "stream",
     "text": [
      "\n"
     ]
    },
    {
     "data": {
      "text/plain": [
       "'data/clean/clean-comments-17727.txt'"
      ]
     },
     "metadata": {},
     "output_type": "display_data"
    },
    {
     "data": {
      "text/plain": [
       "[('market-1', 0.055555555555555539),\n",
       " ('taxes', 0.055555555555555539),\n",
       " ('mentor', 0.055555555555555539),\n",
       " ('qa', 0.055555555555555539),\n",
       " ('fraud', 0.055555555555555539),\n",
       " ('ukrainian', 0.055555555555555539),\n",
       " ('courses', 0.055555555555555539),\n",
       " ('recruitment', 0.055555555555555539),\n",
       " ('edu-corruption', 0.055555555555555539),\n",
       " ('living-conditions', 0.055555555555555539),\n",
       " ('cashflow', 0.055555555555555539),\n",
       " ('knowledge', 0.055555555555555539),\n",
       " ('tractor', 0.055555555555555539),\n",
       " ('market-2', 0.055555555555555539),\n",
       " ('moral-rights', 0.055555555555555539),\n",
       " ('politics', 0.055555555555555539),\n",
       " ('work', 0.055555555555555539),\n",
       " ('relationships', 0.055555555555555539)]"
      ]
     },
     "metadata": {},
     "output_type": "display_data"
    },
    {
     "name": "stdout",
     "output_type": "stream",
     "text": [
      "\n"
     ]
    },
    {
     "data": {
      "text/plain": [
       "'data/clean/clean-comments-17728.txt'"
      ]
     },
     "metadata": {},
     "output_type": "display_data"
    },
    {
     "data": {
      "text/plain": [
       "[('work', 0.35760746411783878),\n",
       " ('living-conditions', 0.11725232498213044),\n",
       " ('tractor', 0.099942380819375468),\n",
       " ('moral-rights', 0.071292232469109484),\n",
       " ('cashflow', 0.062539236191187911),\n",
       " ('relationships', 0.062437425999440174),\n",
       " ('taxes', 0.055861027857399034),\n",
       " ('market-2', 0.054968533216474408),\n",
       " ('fraud', 0.050816380519650609)]"
      ]
     },
     "metadata": {},
     "output_type": "display_data"
    },
    {
     "name": "stdout",
     "output_type": "stream",
     "text": [
      "\n"
     ]
    },
    {
     "data": {
      "text/plain": [
       "'data/clean/clean-comments-17731.txt'"
      ]
     },
     "metadata": {},
     "output_type": "display_data"
    },
    {
     "data": {
      "text/plain": [
       "[('work', 0.39841528095689455),\n",
       " ('moral-rights', 0.11259688982464269),\n",
       " ('living-conditions', 0.071323542724424538),\n",
       " ('knowledge', 0.06888614024380818),\n",
       " ('taxes', 0.060648218582541713),\n",
       " ('fraud', 0.056062489245698947)]"
      ]
     },
     "metadata": {},
     "output_type": "display_data"
    },
    {
     "name": "stdout",
     "output_type": "stream",
     "text": [
      "\n"
     ]
    },
    {
     "data": {
      "text/plain": [
       "'data/clean/clean-comments-17733.txt'"
      ]
     },
     "metadata": {},
     "output_type": "display_data"
    },
    {
     "data": {
      "text/plain": [
       "[('work', 0.36322821138364342),\n",
       " ('living-conditions', 0.13687818986046396),\n",
       " ('tractor', 0.12366955495322356),\n",
       " ('cashflow', 0.074874895357543256),\n",
       " ('moral-rights', 0.069665263719603104),\n",
       " ('market-2', 0.061265089572760612),\n",
       " ('relationships', 0.053711311318300092)]"
      ]
     },
     "metadata": {},
     "output_type": "display_data"
    },
    {
     "name": "stdout",
     "output_type": "stream",
     "text": [
      "\n"
     ]
    },
    {
     "data": {
      "text/plain": [
       "'data/clean/clean-comments-17735.txt'"
      ]
     },
     "metadata": {},
     "output_type": "display_data"
    },
    {
     "data": {
      "text/plain": [
       "[('work', 0.29681175663469977),\n",
       " ('living-conditions', 0.23378895448590922),\n",
       " ('tractor', 0.12898176251497678),\n",
       " ('cashflow', 0.060293252708401933),\n",
       " ('taxes', 0.059328983188911014),\n",
       " ('market-2', 0.0554967214101936)]"
      ]
     },
     "metadata": {},
     "output_type": "display_data"
    },
    {
     "name": "stdout",
     "output_type": "stream",
     "text": [
      "\n"
     ]
    },
    {
     "data": {
      "text/plain": [
       "'data/clean/clean-comments-17737.txt'"
      ]
     },
     "metadata": {},
     "output_type": "display_data"
    },
    {
     "data": {
      "text/plain": [
       "[('work', 0.28440411531256876),\n",
       " ('moral-rights', 0.14918092046690212),\n",
       " ('recruitment', 0.10755201860362446),\n",
       " ('tractor', 0.084126904333455779),\n",
       " ('living-conditions', 0.082830462284469691),\n",
       " ('market-2', 0.058793821356744644),\n",
       " ('relationships', 0.053821176160924397),\n",
       " ('mentor', 0.05102505702498146)]"
      ]
     },
     "metadata": {},
     "output_type": "display_data"
    },
    {
     "name": "stdout",
     "output_type": "stream",
     "text": [
      "\n"
     ]
    },
    {
     "data": {
      "text/plain": [
       "'data/clean/clean-comments-17738.txt'"
      ]
     },
     "metadata": {},
     "output_type": "display_data"
    },
    {
     "data": {
      "text/plain": [
       "[('work', 0.3134615928042056),\n",
       " ('recruitment', 0.11135876269240894),\n",
       " ('living-conditions', 0.10467265257230346),\n",
       " ('moral-rights', 0.096273425129483642),\n",
       " ('relationships', 0.080939133906428831),\n",
       " ('market-2', 0.068523753103394314),\n",
       " ('mentor', 0.063050011416717233),\n",
       " ('tractor', 0.050767626221650174)]"
      ]
     },
     "metadata": {},
     "output_type": "display_data"
    },
    {
     "name": "stdout",
     "output_type": "stream",
     "text": [
      "\n"
     ]
    },
    {
     "data": {
      "text/plain": [
       "'data/clean/clean-comments-17740.txt'"
      ]
     },
     "metadata": {},
     "output_type": "display_data"
    },
    {
     "data": {
      "text/plain": [
       "[('work', 0.34907273389138066),\n",
       " ('living-conditions', 0.1167575996861504),\n",
       " ('tractor', 0.098500914374166651),\n",
       " ('moral-rights', 0.082857560160162283),\n",
       " ('recruitment', 0.077398736407022314),\n",
       " ('cashflow', 0.062026659246520691),\n",
       " ('market-2', 0.053843436600159479)]"
      ]
     },
     "metadata": {},
     "output_type": "display_data"
    },
    {
     "name": "stdout",
     "output_type": "stream",
     "text": [
      "\n"
     ]
    },
    {
     "data": {
      "text/plain": [
       "'data/clean/clean-comments-17744.txt'"
      ]
     },
     "metadata": {},
     "output_type": "display_data"
    },
    {
     "data": {
      "text/plain": [
       "[('work', 0.5465811818790991),\n",
       " ('moral-rights', 0.08687844032763023),\n",
       " ('market-2', 0.08221984236238343),\n",
       " ('fraud', 0.073416570450190288),\n",
       " ('cashflow', 0.070322154149743243),\n",
       " ('tractor', 0.064631203834675285),\n",
       " ('living-conditions', 0.063478950097545048)]"
      ]
     },
     "metadata": {},
     "output_type": "display_data"
    },
    {
     "name": "stdout",
     "output_type": "stream",
     "text": [
      "\n"
     ]
    },
    {
     "data": {
      "text/plain": [
       "'data/clean/clean-comments-17745.txt'"
      ]
     },
     "metadata": {},
     "output_type": "display_data"
    },
    {
     "data": {
      "text/plain": [
       "[('work', 0.49943411659788073),\n",
       " ('living-conditions', 0.091443045504292358),\n",
       " ('tractor', 0.066817770536146889),\n",
       " ('moral-rights', 0.059693288295285647)]"
      ]
     },
     "metadata": {},
     "output_type": "display_data"
    },
    {
     "name": "stdout",
     "output_type": "stream",
     "text": [
      "\n"
     ]
    },
    {
     "data": {
      "text/plain": [
       "'data/clean/clean-comments-17746.txt'"
      ]
     },
     "metadata": {},
     "output_type": "display_data"
    },
    {
     "data": {
      "text/plain": [
       "[('work', 0.43256874810037949),\n",
       " ('living-conditions', 0.10918792526197407),\n",
       " ('tractor', 0.094069118319476799),\n",
       " ('moral-rights', 0.076090322615976161),\n",
       " ('cashflow', 0.051917187613056859),\n",
       " ('relationships', 0.050599652018694881)]"
      ]
     },
     "metadata": {},
     "output_type": "display_data"
    },
    {
     "name": "stdout",
     "output_type": "stream",
     "text": [
      "\n"
     ]
    },
    {
     "data": {
      "text/plain": [
       "'data/clean/clean-comments-17747.txt'"
      ]
     },
     "metadata": {},
     "output_type": "display_data"
    },
    {
     "data": {
      "text/plain": [
       "[('work', 0.32739305299473626),\n",
       " ('moral-rights', 0.14918665506253762),\n",
       " ('tractor', 0.093588538368771249),\n",
       " ('fraud', 0.092684653037855405),\n",
       " ('living-conditions', 0.071852743198869015),\n",
       " ('cashflow', 0.062171888393300172),\n",
       " ('mentor', 0.050311434611686578)]"
      ]
     },
     "metadata": {},
     "output_type": "display_data"
    },
    {
     "name": "stdout",
     "output_type": "stream",
     "text": [
      "\n"
     ]
    },
    {
     "data": {
      "text/plain": [
       "'data/clean/clean-comments-17748.txt'"
      ]
     },
     "metadata": {},
     "output_type": "display_data"
    },
    {
     "data": {
      "text/plain": [
       "[('work', 0.25935294628262962),\n",
       " ('fraud', 0.15474001547650862),\n",
       " ('living-conditions', 0.1144388871327541),\n",
       " ('tractor', 0.093103589418176522),\n",
       " ('moral-rights', 0.07828132334300468),\n",
       " ('cashflow', 0.075891585169653747),\n",
       " ('market-2', 0.050820118386449148)]"
      ]
     },
     "metadata": {},
     "output_type": "display_data"
    },
    {
     "name": "stdout",
     "output_type": "stream",
     "text": [
      "\n"
     ]
    },
    {
     "data": {
      "text/plain": [
       "'data/clean/clean-comments-17753.txt'"
      ]
     },
     "metadata": {},
     "output_type": "display_data"
    },
    {
     "data": {
      "text/plain": [
       "[('work', 0.30871502061973072),\n",
       " ('fraud', 0.20162331983556075),\n",
       " ('living-conditions', 0.091239614378973266),\n",
       " ('moral-rights', 0.085423444639014676),\n",
       " ('tractor', 0.055745866807108461)]"
      ]
     },
     "metadata": {},
     "output_type": "display_data"
    },
    {
     "name": "stdout",
     "output_type": "stream",
     "text": [
      "\n"
     ]
    },
    {
     "data": {
      "text/plain": [
       "'data/clean/clean-comments-17755.txt'"
      ]
     },
     "metadata": {},
     "output_type": "display_data"
    },
    {
     "data": {
      "text/plain": [
       "[('moral-rights', 0.29052883342831293),\n",
       " ('tractor', 0.25843737605409739),\n",
       " ('market-2', 0.14528975013988255),\n",
       " ('living-conditions', 0.094287909553439186),\n",
       " ('relationships', 0.093806491700342942),\n",
       " ('recruitment', 0.087346606783078054)]"
      ]
     },
     "metadata": {},
     "output_type": "display_data"
    },
    {
     "name": "stdout",
     "output_type": "stream",
     "text": [
      "\n"
     ]
    },
    {
     "data": {
      "text/plain": [
       "'data/clean/clean-comments-17756.txt'"
      ]
     },
     "metadata": {},
     "output_type": "display_data"
    },
    {
     "data": {
      "text/plain": [
       "[('work', 0.24276061873570401),\n",
       " ('fraud', 0.20914750812510274),\n",
       " ('moral-rights', 0.11050774290623558),\n",
       " ('taxes', 0.098889908076190774),\n",
       " ('tractor', 0.087295146237762231),\n",
       " ('living-conditions', 0.066980094238060922)]"
      ]
     },
     "metadata": {},
     "output_type": "display_data"
    },
    {
     "name": "stdout",
     "output_type": "stream",
     "text": [
      "\n"
     ]
    },
    {
     "data": {
      "text/plain": [
       "'data/clean/clean-comments-17761.txt'"
      ]
     },
     "metadata": {},
     "output_type": "display_data"
    },
    {
     "data": {
      "text/plain": [
       "[('work', 0.37341972876962626),\n",
       " ('living-conditions', 0.11310265108556024),\n",
       " ('fraud', 0.095458640750009593),\n",
       " ('moral-rights', 0.074455669131980859),\n",
       " ('tractor', 0.072900445126243038),\n",
       " ('market-2', 0.060767458808806449),\n",
       " ('relationships', 0.058554007759134663)]"
      ]
     },
     "metadata": {},
     "output_type": "display_data"
    },
    {
     "name": "stdout",
     "output_type": "stream",
     "text": [
      "\n"
     ]
    },
    {
     "data": {
      "text/plain": [
       "'data/clean/clean-comments-17762.txt'"
      ]
     },
     "metadata": {},
     "output_type": "display_data"
    },
    {
     "data": {
      "text/plain": [
       "[('work', 0.30246231120218292),\n",
       " ('fraud', 0.17702398225826135),\n",
       " ('living-conditions', 0.091155753067596851),\n",
       " ('moral-rights', 0.09034566117585581),\n",
       " ('tractor', 0.059365357790470398),\n",
       " ('recruitment', 0.050598888456787172)]"
      ]
     },
     "metadata": {},
     "output_type": "display_data"
    },
    {
     "name": "stdout",
     "output_type": "stream",
     "text": [
      "\n"
     ]
    },
    {
     "data": {
      "text/plain": [
       "'data/clean/clean-comments-17763.txt'"
      ]
     },
     "metadata": {},
     "output_type": "display_data"
    },
    {
     "data": {
      "text/plain": [
       "[('work', 0.44347755581095816),\n",
       " ('living-conditions', 0.081402253646102318),\n",
       " ('cashflow', 0.06345316311162022),\n",
       " ('tractor', 0.061747182439756028),\n",
       " ('moral-rights', 0.060673657994645622),\n",
       " ('edu-corruption', 0.060326438069978741)]"
      ]
     },
     "metadata": {},
     "output_type": "display_data"
    },
    {
     "name": "stdout",
     "output_type": "stream",
     "text": [
      "\n"
     ]
    },
    {
     "data": {
      "text/plain": [
       "'data/clean/clean-comments-17764.txt'"
      ]
     },
     "metadata": {},
     "output_type": "display_data"
    },
    {
     "data": {
      "text/plain": [
       "[('work', 0.29065597120307468),\n",
       " ('tractor', 0.14457016465738826),\n",
       " ('living-conditions', 0.0984854220303365),\n",
       " ('moral-rights', 0.085979162574417567),\n",
       " ('mentor', 0.080026279304470246),\n",
       " ('cashflow', 0.058797306364401038),\n",
       " ('market-2', 0.052541783900911763)]"
      ]
     },
     "metadata": {},
     "output_type": "display_data"
    },
    {
     "name": "stdout",
     "output_type": "stream",
     "text": [
      "\n"
     ]
    },
    {
     "data": {
      "text/plain": [
       "'data/clean/clean-comments-17766.txt'"
      ]
     },
     "metadata": {},
     "output_type": "display_data"
    },
    {
     "data": {
      "text/plain": [
       "[('market-1', 0.055555555555555539),\n",
       " ('taxes', 0.055555555555555539),\n",
       " ('mentor', 0.055555555555555539),\n",
       " ('qa', 0.055555555555555539),\n",
       " ('fraud', 0.055555555555555539),\n",
       " ('ukrainian', 0.055555555555555539),\n",
       " ('courses', 0.055555555555555539),\n",
       " ('recruitment', 0.055555555555555539),\n",
       " ('edu-corruption', 0.055555555555555539),\n",
       " ('living-conditions', 0.055555555555555539),\n",
       " ('cashflow', 0.055555555555555539),\n",
       " ('knowledge', 0.055555555555555539),\n",
       " ('tractor', 0.055555555555555539),\n",
       " ('market-2', 0.055555555555555539),\n",
       " ('moral-rights', 0.055555555555555539),\n",
       " ('politics', 0.055555555555555539),\n",
       " ('work', 0.055555555555555539),\n",
       " ('relationships', 0.055555555555555539)]"
      ]
     },
     "metadata": {},
     "output_type": "display_data"
    },
    {
     "name": "stdout",
     "output_type": "stream",
     "text": [
      "\n"
     ]
    },
    {
     "data": {
      "text/plain": [
       "'data/clean/clean-comments-17770.txt'"
      ]
     },
     "metadata": {},
     "output_type": "display_data"
    },
    {
     "data": {
      "text/plain": [
       "[('work', 0.35088919148390996),\n",
       " ('tractor', 0.11873408574452055),\n",
       " ('living-conditions', 0.089952767037111026),\n",
       " ('moral-rights', 0.082819038020755631),\n",
       " ('recruitment', 0.081237188505857469),\n",
       " ('courses', 0.066640173351623186),\n",
       " ('market-2', 0.062639128575603484)]"
      ]
     },
     "metadata": {},
     "output_type": "display_data"
    },
    {
     "name": "stdout",
     "output_type": "stream",
     "text": [
      "\n"
     ]
    },
    {
     "data": {
      "text/plain": [
       "'data/clean/clean-comments-17771.txt'"
      ]
     },
     "metadata": {},
     "output_type": "display_data"
    },
    {
     "data": {
      "text/plain": [
       "[('work', 0.30937719651908474),\n",
       " ('moral-rights', 0.16633238738773065),\n",
       " ('tractor', 0.10963520244129342),\n",
       " ('living-conditions', 0.091389033691609431),\n",
       " ('market-2', 0.063709872469690301),\n",
       " ('edu-corruption', 0.061710836916606483)]"
      ]
     },
     "metadata": {},
     "output_type": "display_data"
    },
    {
     "name": "stdout",
     "output_type": "stream",
     "text": [
      "\n"
     ]
    },
    {
     "data": {
      "text/plain": [
       "'data/clean/clean-comments-17772.txt'"
      ]
     },
     "metadata": {},
     "output_type": "display_data"
    },
    {
     "data": {
      "text/plain": [
       "[('work', 0.3518280853570982),\n",
       " ('living-conditions', 0.14714928009325937),\n",
       " ('tractor', 0.077977901015064743),\n",
       " ('market-2', 0.073742687957426167),\n",
       " ('edu-corruption', 0.065469039591427775),\n",
       " ('cashflow', 0.057673471245557807),\n",
       " ('mentor', 0.051649019900497799),\n",
       " ('moral-rights', 0.051124534605478479)]"
      ]
     },
     "metadata": {},
     "output_type": "display_data"
    },
    {
     "name": "stdout",
     "output_type": "stream",
     "text": [
      "\n"
     ]
    },
    {
     "data": {
      "text/plain": [
       "'data/clean/clean-comments-17773.txt'"
      ]
     },
     "metadata": {},
     "output_type": "display_data"
    },
    {
     "data": {
      "text/plain": [
       "[('work', 0.39159303251161559),\n",
       " ('living-conditions', 0.14239765875499194),\n",
       " ('moral-rights', 0.083166866231564773),\n",
       " ('market-2', 0.07413596499797051),\n",
       " ('tractor', 0.057528046107477734),\n",
       " ('edu-corruption', 0.05340378293291162),\n",
       " ('relationships', 0.050615067400409636)]"
      ]
     },
     "metadata": {},
     "output_type": "display_data"
    },
    {
     "name": "stdout",
     "output_type": "stream",
     "text": [
      "\n"
     ]
    },
    {
     "data": {
      "text/plain": [
       "'data/clean/clean-comments-17774.txt'"
      ]
     },
     "metadata": {},
     "output_type": "display_data"
    },
    {
     "data": {
      "text/plain": [
       "[('work', 0.29348214638242287),\n",
       " ('living-conditions', 0.13104984576530251),\n",
       " ('moral-rights', 0.11324001708900643),\n",
       " ('cashflow', 0.10299409708751604),\n",
       " ('relationships', 0.072004486080268701),\n",
       " ('tractor', 0.064527456137780465),\n",
       " ('market-2', 0.050031384945327072)]"
      ]
     },
     "metadata": {},
     "output_type": "display_data"
    },
    {
     "name": "stdout",
     "output_type": "stream",
     "text": [
      "\n"
     ]
    },
    {
     "data": {
      "text/plain": [
       "'data/clean/clean-comments-17775.txt'"
      ]
     },
     "metadata": {},
     "output_type": "display_data"
    },
    {
     "data": {
      "text/plain": [
       "[('work', 0.28633698770923144),\n",
       " ('living-conditions', 0.22498247813635422),\n",
       " ('cashflow', 0.071788324554852109),\n",
       " ('recruitment', 0.066777693715286801),\n",
       " ('moral-rights', 0.061356226547923214),\n",
       " ('tractor', 0.057452498430806798),\n",
       " ('taxes', 0.055587478245268447)]"
      ]
     },
     "metadata": {},
     "output_type": "display_data"
    },
    {
     "name": "stdout",
     "output_type": "stream",
     "text": [
      "\n"
     ]
    },
    {
     "data": {
      "text/plain": [
       "'data/clean/clean-comments-17777.txt'"
      ]
     },
     "metadata": {},
     "output_type": "display_data"
    },
    {
     "data": {
      "text/plain": [
       "[('work', 0.40696460165958609),\n",
       " ('living-conditions', 0.14395115190884167),\n",
       " ('tractor', 0.13688165877525793),\n",
       " ('moral-rights', 0.069111561319005727),\n",
       " ('market-2', 0.05435094862232584)]"
      ]
     },
     "metadata": {},
     "output_type": "display_data"
    },
    {
     "name": "stdout",
     "output_type": "stream",
     "text": [
      "\n"
     ]
    },
    {
     "data": {
      "text/plain": [
       "'data/clean/clean-comments-17782.txt'"
      ]
     },
     "metadata": {},
     "output_type": "display_data"
    },
    {
     "data": {
      "text/plain": [
       "[('work', 0.3376854358211141),\n",
       " ('living-conditions', 0.12819393087370121),\n",
       " ('relationships', 0.088360616708768436),\n",
       " ('tractor', 0.08833232459213744),\n",
       " ('moral-rights', 0.085475298580298023),\n",
       " ('mentor', 0.073496418278479511),\n",
       " ('taxes', 0.06521210757959181)]"
      ]
     },
     "metadata": {},
     "output_type": "display_data"
    },
    {
     "name": "stdout",
     "output_type": "stream",
     "text": [
      "\n"
     ]
    },
    {
     "data": {
      "text/plain": [
       "'data/clean/clean-comments-17784.txt'"
      ]
     },
     "metadata": {},
     "output_type": "display_data"
    },
    {
     "data": {
      "text/plain": [
       "[('work', 0.36156078026281746),\n",
       " ('tractor', 0.1276954054510869),\n",
       " ('living-conditions', 0.10665663203033617),\n",
       " ('market-2', 0.081294032823888099),\n",
       " ('moral-rights', 0.059520862274342633),\n",
       " ('mentor', 0.057346808389848639)]"
      ]
     },
     "metadata": {},
     "output_type": "display_data"
    },
    {
     "name": "stdout",
     "output_type": "stream",
     "text": [
      "\n"
     ]
    },
    {
     "data": {
      "text/plain": [
       "'data/clean/clean-comments-17785.txt'"
      ]
     },
     "metadata": {},
     "output_type": "display_data"
    },
    {
     "data": {
      "text/plain": [
       "[('work', 0.35085861963424625),\n",
       " ('tractor', 0.11140393205736174),\n",
       " ('relationships', 0.092921654852236441),\n",
       " ('cashflow', 0.076296339179910078),\n",
       " ('living-conditions', 0.075645647894107812),\n",
       " ('moral-rights', 0.070611850709491303)]"
      ]
     },
     "metadata": {},
     "output_type": "display_data"
    },
    {
     "name": "stdout",
     "output_type": "stream",
     "text": [
      "\n"
     ]
    },
    {
     "data": {
      "text/plain": [
       "'data/clean/clean-comments-17786.txt'"
      ]
     },
     "metadata": {},
     "output_type": "display_data"
    },
    {
     "data": {
      "text/plain": [
       "[('work', 0.3030563968627471),\n",
       " ('cashflow', 0.15291462837935613),\n",
       " ('tractor', 0.089584875704927514),\n",
       " ('moral-rights', 0.08675769907342816),\n",
       " ('living-conditions', 0.077297556590903455)]"
      ]
     },
     "metadata": {},
     "output_type": "display_data"
    },
    {
     "name": "stdout",
     "output_type": "stream",
     "text": [
      "\n"
     ]
    },
    {
     "data": {
      "text/plain": [
       "'data/clean/clean-comments-17787.txt'"
      ]
     },
     "metadata": {},
     "output_type": "display_data"
    },
    {
     "data": {
      "text/plain": [
       "[('work', 0.35187896740431723),\n",
       " ('recruitment', 0.16411448082915142),\n",
       " ('cashflow', 0.12278644830674339),\n",
       " ('living-conditions', 0.10973839089099688),\n",
       " ('politics', 0.10514626107058468),\n",
       " ('market-2', 0.097999184001318601)]"
      ]
     },
     "metadata": {},
     "output_type": "display_data"
    },
    {
     "name": "stdout",
     "output_type": "stream",
     "text": [
      "\n"
     ]
    },
    {
     "data": {
      "text/plain": [
       "'data/clean/clean-comments-17788.txt'"
      ]
     },
     "metadata": {},
     "output_type": "display_data"
    },
    {
     "data": {
      "text/plain": [
       "[('work', 0.76504978651905309), ('taxes', 0.17569094296070553)]"
      ]
     },
     "metadata": {},
     "output_type": "display_data"
    },
    {
     "name": "stdout",
     "output_type": "stream",
     "text": [
      "\n"
     ]
    },
    {
     "data": {
      "text/plain": [
       "'data/clean/clean-comments-17789.txt'"
      ]
     },
     "metadata": {},
     "output_type": "display_data"
    },
    {
     "data": {
      "text/plain": [
       "[('market-1', 0.055555555555555539),\n",
       " ('taxes', 0.055555555555555539),\n",
       " ('mentor', 0.055555555555555539),\n",
       " ('qa', 0.055555555555555539),\n",
       " ('fraud', 0.055555555555555539),\n",
       " ('ukrainian', 0.055555555555555539),\n",
       " ('courses', 0.055555555555555539),\n",
       " ('recruitment', 0.055555555555555539),\n",
       " ('edu-corruption', 0.055555555555555539),\n",
       " ('living-conditions', 0.055555555555555539),\n",
       " ('cashflow', 0.055555555555555539),\n",
       " ('knowledge', 0.055555555555555539),\n",
       " ('tractor', 0.055555555555555539),\n",
       " ('market-2', 0.055555555555555539),\n",
       " ('moral-rights', 0.055555555555555539),\n",
       " ('politics', 0.055555555555555539),\n",
       " ('work', 0.055555555555555539),\n",
       " ('relationships', 0.055555555555555539)]"
      ]
     },
     "metadata": {},
     "output_type": "display_data"
    },
    {
     "name": "stdout",
     "output_type": "stream",
     "text": [
      "\n"
     ]
    },
    {
     "data": {
      "text/plain": [
       "'data/clean/clean-comments-17790.txt'"
      ]
     },
     "metadata": {},
     "output_type": "display_data"
    },
    {
     "data": {
      "text/plain": [
       "[('work', 0.32168393560046155),\n",
       " ('living-conditions', 0.11831591526852642),\n",
       " ('moral-rights', 0.094590616238590344),\n",
       " ('tractor', 0.074156864351678398),\n",
       " ('cashflow', 0.060026625741605062),\n",
       " ('relationships', 0.051501959865126665)]"
      ]
     },
     "metadata": {},
     "output_type": "display_data"
    },
    {
     "name": "stdout",
     "output_type": "stream",
     "text": [
      "\n"
     ]
    },
    {
     "data": {
      "text/plain": [
       "'data/clean/clean-comments-17794.txt'"
      ]
     },
     "metadata": {},
     "output_type": "display_data"
    },
    {
     "data": {
      "text/plain": [
       "[('work', 0.61355057746101083),\n",
       " ('taxes', 0.11691914476014217),\n",
       " ('fraud', 0.076157464333119554),\n",
       " ('tractor', 0.073995440432224308),\n",
       " ('market-2', 0.067188812190776687)]"
      ]
     },
     "metadata": {},
     "output_type": "display_data"
    },
    {
     "name": "stdout",
     "output_type": "stream",
     "text": [
      "\n"
     ]
    },
    {
     "data": {
      "text/plain": [
       "'data/clean/clean-comments-17796.txt'"
      ]
     },
     "metadata": {},
     "output_type": "display_data"
    },
    {
     "data": {
      "text/plain": [
       "[('work', 0.29501839762618082),\n",
       " ('courses', 0.14486221217363657),\n",
       " ('living-conditions', 0.10943130603164659),\n",
       " ('relationships', 0.084696375880591104),\n",
       " ('moral-rights', 0.077667784346626856)]"
      ]
     },
     "metadata": {},
     "output_type": "display_data"
    },
    {
     "name": "stdout",
     "output_type": "stream",
     "text": [
      "\n"
     ]
    },
    {
     "data": {
      "text/plain": [
       "'data/clean/clean-comments-17797.txt'"
      ]
     },
     "metadata": {},
     "output_type": "display_data"
    },
    {
     "data": {
      "text/plain": [
       "[('work', 0.35401347157754937),\n",
       " ('living-conditions', 0.19800586400820069),\n",
       " ('tractor', 0.086381138567282148),\n",
       " ('moral-rights', 0.074089327974949451),\n",
       " ('market-2', 0.052739386559043144)]"
      ]
     },
     "metadata": {},
     "output_type": "display_data"
    },
    {
     "name": "stdout",
     "output_type": "stream",
     "text": [
      "\n"
     ]
    },
    {
     "data": {
      "text/plain": [
       "'data/clean/clean-comments-17800.txt'"
      ]
     },
     "metadata": {},
     "output_type": "display_data"
    },
    {
     "data": {
      "text/plain": [
       "[('work', 0.3026605565458948),\n",
       " ('moral-rights', 0.23953000260810189),\n",
       " ('living-conditions', 0.093535948017194004),\n",
       " ('cashflow', 0.071422525177587973),\n",
       " ('market-2', 0.054146862183597051),\n",
       " ('tractor', 0.051625971405418754)]"
      ]
     },
     "metadata": {},
     "output_type": "display_data"
    },
    {
     "name": "stdout",
     "output_type": "stream",
     "text": [
      "\n"
     ]
    },
    {
     "data": {
      "text/plain": [
       "'data/clean/clean-comments-17803.txt'"
      ]
     },
     "metadata": {},
     "output_type": "display_data"
    },
    {
     "data": {
      "text/plain": [
       "[('work', 0.24557236155363674),\n",
       " ('moral-rights', 0.15677879922829471),\n",
       " ('tractor', 0.15234969192734318),\n",
       " ('mentor', 0.1420875408696104),\n",
       " ('living-conditions', 0.1047678955683415)]"
      ]
     },
     "metadata": {},
     "output_type": "display_data"
    },
    {
     "name": "stdout",
     "output_type": "stream",
     "text": [
      "\n"
     ]
    },
    {
     "data": {
      "text/plain": [
       "'data/clean/clean-comments-17804.txt'"
      ]
     },
     "metadata": {},
     "output_type": "display_data"
    },
    {
     "data": {
      "text/plain": [
       "[('work', 0.30182814433929694),\n",
       " ('moral-rights', 0.1373961219701226),\n",
       " ('living-conditions', 0.12050012424861903),\n",
       " ('tractor', 0.10838277941325651),\n",
       " ('cashflow', 0.068026128915836329),\n",
       " ('market-2', 0.053608079296613112)]"
      ]
     },
     "metadata": {},
     "output_type": "display_data"
    },
    {
     "name": "stdout",
     "output_type": "stream",
     "text": [
      "\n"
     ]
    },
    {
     "data": {
      "text/plain": [
       "'data/clean/clean-comments-17805.txt'"
      ]
     },
     "metadata": {},
     "output_type": "display_data"
    },
    {
     "data": {
      "text/plain": [
       "[('moral-rights', 0.52245343170893188),\n",
       " ('politics', 0.17592592349934377),\n",
       " ('tractor', 0.16273174727897155)]"
      ]
     },
     "metadata": {},
     "output_type": "display_data"
    },
    {
     "name": "stdout",
     "output_type": "stream",
     "text": [
      "\n"
     ]
    },
    {
     "data": {
      "text/plain": [
       "'data/clean/clean-comments-17808.txt'"
      ]
     },
     "metadata": {},
     "output_type": "display_data"
    },
    {
     "data": {
      "text/plain": [
       "[('work', 0.47826656362220532),\n",
       " ('relationships', 0.28222653734074332),\n",
       " ('recruitment', 0.15521498293336283),\n",
       " ('qa', 0.050475487688233019)]"
      ]
     },
     "metadata": {},
     "output_type": "display_data"
    },
    {
     "name": "stdout",
     "output_type": "stream",
     "text": [
      "\n"
     ]
    },
    {
     "data": {
      "text/plain": [
       "'data/clean/clean-comments-17810.txt'"
      ]
     },
     "metadata": {},
     "output_type": "display_data"
    },
    {
     "data": {
      "text/plain": [
       "[('work', 0.28729887173066115),\n",
       " ('market-2', 0.15270871539709391),\n",
       " ('relationships', 0.10988372250841917),\n",
       " ('living-conditions', 0.1029078305940565),\n",
       " ('moral-rights', 0.099688184521949219),\n",
       " ('mentor', 0.055103062441848781)]"
      ]
     },
     "metadata": {},
     "output_type": "display_data"
    },
    {
     "name": "stdout",
     "output_type": "stream",
     "text": [
      "\n"
     ]
    },
    {
     "data": {
      "text/plain": [
       "'data/clean/clean-comments-17812.txt'"
      ]
     },
     "metadata": {},
     "output_type": "display_data"
    },
    {
     "data": {
      "text/plain": [
       "[('work', 0.31614184664501493),\n",
       " ('moral-rights', 0.13015150989406077),\n",
       " ('market-2', 0.12682419386081789),\n",
       " ('living-conditions', 0.074763711845223429),\n",
       " ('mentor', 0.059718333639116682),\n",
       " ('cashflow', 0.058349333429436302),\n",
       " ('tractor', 0.050387343256191937)]"
      ]
     },
     "metadata": {},
     "output_type": "display_data"
    },
    {
     "name": "stdout",
     "output_type": "stream",
     "text": [
      "\n"
     ]
    },
    {
     "data": {
      "text/plain": [
       "'data/clean/clean-comments-17814.txt'"
      ]
     },
     "metadata": {},
     "output_type": "display_data"
    },
    {
     "data": {
      "text/plain": [
       "[('work', 0.48812155095623933),\n",
       " ('moral-rights', 0.12186356271357468),\n",
       " ('cashflow', 0.087650325828482409),\n",
       " ('living-conditions', 0.064522681174359026),\n",
       " ('tractor', 0.060899919558068637)]"
      ]
     },
     "metadata": {},
     "output_type": "display_data"
    },
    {
     "name": "stdout",
     "output_type": "stream",
     "text": [
      "\n"
     ]
    },
    {
     "data": {
      "text/plain": [
       "'data/clean/clean-comments-17817.txt'"
      ]
     },
     "metadata": {},
     "output_type": "display_data"
    },
    {
     "data": {
      "text/plain": [
       "[('work', 0.49539623467970018),\n",
       " ('relationships', 0.078236860308944098),\n",
       " ('moral-rights', 0.06978824524485254),\n",
       " ('market-2', 0.066518646829114847),\n",
       " ('tractor', 0.061612901559092333),\n",
       " ('cashflow', 0.06085054993675771),\n",
       " ('living-conditions', 0.059695088293650382)]"
      ]
     },
     "metadata": {},
     "output_type": "display_data"
    },
    {
     "name": "stdout",
     "output_type": "stream",
     "text": [
      "\n"
     ]
    },
    {
     "data": {
      "text/plain": [
       "'data/clean/clean-comments-17818.txt'"
      ]
     },
     "metadata": {},
     "output_type": "display_data"
    },
    {
     "data": {
      "text/plain": [
       "[('work', 0.34735853855111137),\n",
       " ('living-conditions', 0.19589727940552343),\n",
       " ('recruitment', 0.075611616143968247),\n",
       " ('tractor', 0.070082319549616537),\n",
       " ('moral-rights', 0.061336932298525756),\n",
       " ('market-2', 0.057198016282334847)]"
      ]
     },
     "metadata": {},
     "output_type": "display_data"
    },
    {
     "name": "stdout",
     "output_type": "stream",
     "text": [
      "\n"
     ]
    },
    {
     "data": {
      "text/plain": [
       "'data/clean/clean-comments-17820.txt'"
      ]
     },
     "metadata": {},
     "output_type": "display_data"
    },
    {
     "data": {
      "text/plain": [
       "[('work', 0.26749852029213772),\n",
       " ('relationships', 0.19546590043948936),\n",
       " ('living-conditions', 0.12726570213539842),\n",
       " ('tractor', 0.070978454867355795),\n",
       " ('cashflow', 0.060021890985544529),\n",
       " ('mentor', 0.058323723865823053),\n",
       " ('moral-rights', 0.051458662973927795)]"
      ]
     },
     "metadata": {},
     "output_type": "display_data"
    },
    {
     "name": "stdout",
     "output_type": "stream",
     "text": [
      "\n"
     ]
    },
    {
     "data": {
      "text/plain": [
       "'data/clean/clean-comments-17821.txt'"
      ]
     },
     "metadata": {},
     "output_type": "display_data"
    },
    {
     "data": {
      "text/plain": [
       "[('work', 0.30193873654614689),\n",
       " ('relationships', 0.26138888649863501),\n",
       " ('moral-rights', 0.16561114426956058),\n",
       " ('tractor', 0.10275300038355493),\n",
       " ('market-2', 0.078596844764226015)]"
      ]
     },
     "metadata": {},
     "output_type": "display_data"
    },
    {
     "name": "stdout",
     "output_type": "stream",
     "text": [
      "\n"
     ]
    },
    {
     "data": {
      "text/plain": [
       "'data/clean/clean-comments-17822.txt'"
      ]
     },
     "metadata": {},
     "output_type": "display_data"
    },
    {
     "data": {
      "text/plain": [
       "[('work', 0.41650954116336431),\n",
       " ('relationships', 0.1182220194526713),\n",
       " ('living-conditions', 0.11802925977936259),\n",
       " ('moral-rights', 0.10843130877494894),\n",
       " ('tractor', 0.079025761542532005),\n",
       " ('market-2', 0.05303760187624091),\n",
       " ('cashflow', 0.051287907150155347)]"
      ]
     },
     "metadata": {},
     "output_type": "display_data"
    },
    {
     "name": "stdout",
     "output_type": "stream",
     "text": [
      "\n"
     ]
    },
    {
     "data": {
      "text/plain": [
       "'data/clean/clean-comments-17823.txt'"
      ]
     },
     "metadata": {},
     "output_type": "display_data"
    },
    {
     "data": {
      "text/plain": [
       "[('work', 0.36419279410636851),\n",
       " ('relationships', 0.1342731632323855),\n",
       " ('tractor', 0.13328536865454432),\n",
       " ('market-2', 0.091274880237704178),\n",
       " ('living-conditions', 0.055875665924207771),\n",
       " ('cashflow', 0.054082663676928981)]"
      ]
     },
     "metadata": {},
     "output_type": "display_data"
    },
    {
     "name": "stdout",
     "output_type": "stream",
     "text": [
      "\n"
     ]
    },
    {
     "data": {
      "text/plain": [
       "'data/clean/clean-comments-17829.txt'"
      ]
     },
     "metadata": {},
     "output_type": "display_data"
    },
    {
     "data": {
      "text/plain": [
       "[('cashflow', 0.52777773159237462)]"
      ]
     },
     "metadata": {},
     "output_type": "display_data"
    },
    {
     "name": "stdout",
     "output_type": "stream",
     "text": [
      "\n"
     ]
    },
    {
     "data": {
      "text/plain": [
       "'data/clean/clean-comments-17830.txt'"
      ]
     },
     "metadata": {},
     "output_type": "display_data"
    },
    {
     "data": {
      "text/plain": [
       "[('work', 0.29150795383637479),\n",
       " ('living-conditions', 0.14059470173331223),\n",
       " ('market-2', 0.13653268929162082),\n",
       " ('fraud', 0.11145041770890968),\n",
       " ('relationships', 0.084792578524133369),\n",
       " ('moral-rights', 0.077173713034120142),\n",
       " ('cashflow', 0.050038816571093596)]"
      ]
     },
     "metadata": {},
     "output_type": "display_data"
    },
    {
     "name": "stdout",
     "output_type": "stream",
     "text": [
      "\n"
     ]
    },
    {
     "data": {
      "text/plain": [
       "'data/clean/clean-comments-17831.txt'"
      ]
     },
     "metadata": {},
     "output_type": "display_data"
    },
    {
     "data": {
      "text/plain": [
       "[('work', 0.29349603490451059),\n",
       " ('relationships', 0.16536563995443659),\n",
       " ('tractor', 0.16189794510338187),\n",
       " ('fraud', 0.10743684325897659),\n",
       " ('cashflow', 0.089137844413301998),\n",
       " ('edu-corruption', 0.059670862270944543)]"
      ]
     },
     "metadata": {},
     "output_type": "display_data"
    },
    {
     "name": "stdout",
     "output_type": "stream",
     "text": [
      "\n"
     ]
    },
    {
     "data": {
      "text/plain": [
       "'data/clean/clean-comments-17832.txt'"
      ]
     },
     "metadata": {},
     "output_type": "display_data"
    },
    {
     "data": {
      "text/plain": [
       "[('work', 0.27608475097738444),\n",
       " ('relationships', 0.13298304763306096),\n",
       " ('living-conditions', 0.123960988473265),\n",
       " ('tractor', 0.088831121674807223),\n",
       " ('moral-rights', 0.067107930957195153),\n",
       " ('cashflow', 0.057418808282664983)]"
      ]
     },
     "metadata": {},
     "output_type": "display_data"
    },
    {
     "name": "stdout",
     "output_type": "stream",
     "text": [
      "\n"
     ]
    },
    {
     "data": {
      "text/plain": [
       "'data/clean/clean-comments-17834.txt'"
      ]
     },
     "metadata": {},
     "output_type": "display_data"
    },
    {
     "data": {
      "text/plain": [
       "[('market-1', 0.055555555555555539),\n",
       " ('taxes', 0.055555555555555539),\n",
       " ('mentor', 0.055555555555555539),\n",
       " ('qa', 0.055555555555555539),\n",
       " ('fraud', 0.055555555555555539),\n",
       " ('ukrainian', 0.055555555555555539),\n",
       " ('courses', 0.055555555555555539),\n",
       " ('recruitment', 0.055555555555555539),\n",
       " ('edu-corruption', 0.055555555555555539),\n",
       " ('living-conditions', 0.055555555555555539),\n",
       " ('cashflow', 0.055555555555555539),\n",
       " ('knowledge', 0.055555555555555539),\n",
       " ('tractor', 0.055555555555555539),\n",
       " ('market-2', 0.055555555555555539),\n",
       " ('moral-rights', 0.055555555555555539),\n",
       " ('politics', 0.055555555555555539),\n",
       " ('work', 0.055555555555555539),\n",
       " ('relationships', 0.055555555555555539)]"
      ]
     },
     "metadata": {},
     "output_type": "display_data"
    },
    {
     "name": "stdout",
     "output_type": "stream",
     "text": [
      "\n"
     ]
    },
    {
     "data": {
      "text/plain": [
       "'data/clean/clean-comments-17836.txt'"
      ]
     },
     "metadata": {},
     "output_type": "display_data"
    },
    {
     "data": {
      "text/plain": [
       "[('work', 0.31411498744958438),\n",
       " ('moral-rights', 0.15275992783020118),\n",
       " ('relationships', 0.10702743399263207),\n",
       " ('cashflow', 0.090269278168950168),\n",
       " ('tractor', 0.082118435380736807),\n",
       " ('living-conditions', 0.081056628096270344)]"
      ]
     },
     "metadata": {},
     "output_type": "display_data"
    },
    {
     "name": "stdout",
     "output_type": "stream",
     "text": [
      "\n"
     ]
    },
    {
     "data": {
      "text/plain": [
       "'data/clean/clean-comments-17839.txt'"
      ]
     },
     "metadata": {},
     "output_type": "display_data"
    },
    {
     "data": {
      "text/plain": [
       "[('work', 0.29102352469744031),\n",
       " ('tractor', 0.13881598490565042),\n",
       " ('relationships', 0.12865261368737793),\n",
       " ('cashflow', 0.097585016750517645),\n",
       " ('living-conditions', 0.084029591064118309),\n",
       " ('market-2', 0.072047639780285028),\n",
       " ('moral-rights', 0.067938027482843638)]"
      ]
     },
     "metadata": {},
     "output_type": "display_data"
    },
    {
     "name": "stdout",
     "output_type": "stream",
     "text": [
      "\n"
     ]
    },
    {
     "data": {
      "text/plain": [
       "'data/clean/clean-comments-17842.txt'"
      ]
     },
     "metadata": {},
     "output_type": "display_data"
    },
    {
     "data": {
      "text/plain": [
       "[('work', 0.24337342194514036),\n",
       " ('living-conditions', 0.18058218737796192),\n",
       " ('mentor', 0.090536745313749889),\n",
       " ('cashflow', 0.090007509562658822),\n",
       " ('taxes', 0.086354211831409455),\n",
       " ('moral-rights', 0.064285053106729328),\n",
       " ('tractor', 0.057868949156109933),\n",
       " ('relationships', 0.053692012509705192)]"
      ]
     },
     "metadata": {},
     "output_type": "display_data"
    },
    {
     "name": "stdout",
     "output_type": "stream",
     "text": [
      "\n"
     ]
    },
    {
     "data": {
      "text/plain": [
       "'data/clean/clean-comments-17844.txt'"
      ]
     },
     "metadata": {},
     "output_type": "display_data"
    },
    {
     "data": {
      "text/plain": [
       "[('work', 0.21259953095563544),\n",
       " ('moral-rights', 0.16612112872587392),\n",
       " ('mentor', 0.13560417021224833),\n",
       " ('living-conditions', 0.089748733361732377),\n",
       " ('recruitment', 0.063257243910738739),\n",
       " ('politics', 0.052296154751645597)]"
      ]
     },
     "metadata": {},
     "output_type": "display_data"
    },
    {
     "name": "stdout",
     "output_type": "stream",
     "text": [
      "\n"
     ]
    },
    {
     "data": {
      "text/plain": [
       "'data/clean/clean-comments-17845.txt'"
      ]
     },
     "metadata": {},
     "output_type": "display_data"
    },
    {
     "data": {
      "text/plain": [
       "[('work', 0.30879618427344108),\n",
       " ('tractor', 0.24729214208647124),\n",
       " ('moral-rights', 0.14547394027295535),\n",
       " ('living-conditions', 0.10204863288185338),\n",
       " ('market-2', 0.065191850724629088)]"
      ]
     },
     "metadata": {},
     "output_type": "display_data"
    },
    {
     "name": "stdout",
     "output_type": "stream",
     "text": [
      "\n"
     ]
    },
    {
     "data": {
      "text/plain": [
       "'data/clean/clean-comments-17846.txt'"
      ]
     },
     "metadata": {},
     "output_type": "display_data"
    },
    {
     "data": {
      "text/plain": [
       "[('work', 0.28410769716599654),\n",
       " ('living-conditions', 0.12795844591991179),\n",
       " ('moral-rights', 0.11970388682488406),\n",
       " ('tractor', 0.10461279450515343),\n",
       " ('cashflow', 0.076903770191108556),\n",
       " ('recruitment', 0.063647742070837551),\n",
       " ('market-2', 0.052076307017338723)]"
      ]
     },
     "metadata": {},
     "output_type": "display_data"
    },
    {
     "name": "stdout",
     "output_type": "stream",
     "text": [
      "\n"
     ]
    },
    {
     "data": {
      "text/plain": [
       "'data/clean/clean-comments-17849.txt'"
      ]
     },
     "metadata": {},
     "output_type": "display_data"
    },
    {
     "data": {
      "text/plain": [
       "[('work', 0.22755896073142448),\n",
       " ('tractor', 0.17919087405017509),\n",
       " ('moral-rights', 0.16547399141724117),\n",
       " ('cashflow', 0.081586510089965703),\n",
       " ('living-conditions', 0.075443020153796114)]"
      ]
     },
     "metadata": {},
     "output_type": "display_data"
    },
    {
     "name": "stdout",
     "output_type": "stream",
     "text": [
      "\n"
     ]
    },
    {
     "data": {
      "text/plain": [
       "'data/clean/clean-comments-17850.txt'"
      ]
     },
     "metadata": {},
     "output_type": "display_data"
    },
    {
     "data": {
      "text/plain": [
       "[('market-1', 0.055555555555555539),\n",
       " ('taxes', 0.055555555555555539),\n",
       " ('mentor', 0.055555555555555539),\n",
       " ('qa', 0.055555555555555539),\n",
       " ('fraud', 0.055555555555555539),\n",
       " ('ukrainian', 0.055555555555555539),\n",
       " ('courses', 0.055555555555555539),\n",
       " ('recruitment', 0.055555555555555539),\n",
       " ('edu-corruption', 0.055555555555555539),\n",
       " ('living-conditions', 0.055555555555555539),\n",
       " ('cashflow', 0.055555555555555539),\n",
       " ('knowledge', 0.055555555555555539),\n",
       " ('tractor', 0.055555555555555539),\n",
       " ('market-2', 0.055555555555555539),\n",
       " ('moral-rights', 0.055555555555555539),\n",
       " ('politics', 0.055555555555555539),\n",
       " ('work', 0.055555555555555539),\n",
       " ('relationships', 0.055555555555555539)]"
      ]
     },
     "metadata": {},
     "output_type": "display_data"
    },
    {
     "name": "stdout",
     "output_type": "stream",
     "text": [
      "\n"
     ]
    },
    {
     "data": {
      "text/plain": [
       "'data/clean/clean-comments-17853.txt'"
      ]
     },
     "metadata": {},
     "output_type": "display_data"
    },
    {
     "data": {
      "text/plain": [
       "[('work', 0.31117805819476313),\n",
       " ('mentor', 0.14266602213234927),\n",
       " ('living-conditions', 0.10306608786845664),\n",
       " ('moral-rights', 0.10046721022315198),\n",
       " ('tractor', 0.07531168244483899),\n",
       " ('relationships', 0.063164061489349291)]"
      ]
     },
     "metadata": {},
     "output_type": "display_data"
    },
    {
     "name": "stdout",
     "output_type": "stream",
     "text": [
      "\n"
     ]
    },
    {
     "data": {
      "text/plain": [
       "'data/clean/clean-comments-17854.txt'"
      ]
     },
     "metadata": {},
     "output_type": "display_data"
    },
    {
     "data": {
      "text/plain": [
       "[('work', 0.28370488359140017),\n",
       " ('mentor', 0.17468616468892809),\n",
       " ('living-conditions', 0.10288338310966415),\n",
       " ('moral-rights', 0.078600955442383866),\n",
       " ('relationships', 0.070206480579133951)]"
      ]
     },
     "metadata": {},
     "output_type": "display_data"
    },
    {
     "name": "stdout",
     "output_type": "stream",
     "text": [
      "\n"
     ]
    },
    {
     "data": {
      "text/plain": [
       "'data/clean/clean-comments-17855.txt'"
      ]
     },
     "metadata": {},
     "output_type": "display_data"
    },
    {
     "data": {
      "text/plain": [
       "[('work', 0.38808399020287337),\n",
       " ('living-conditions', 0.12895840702559172),\n",
       " ('market-2', 0.086954160671628644),\n",
       " ('tractor', 0.075265424059154179),\n",
       " ('mentor', 0.074020942600528689),\n",
       " ('cashflow', 0.061439010087142601),\n",
       " ('relationships', 0.05366920446931453)]"
      ]
     },
     "metadata": {},
     "output_type": "display_data"
    },
    {
     "name": "stdout",
     "output_type": "stream",
     "text": [
      "\n"
     ]
    },
    {
     "data": {
      "text/plain": [
       "'data/clean/clean-comments-17856.txt'"
      ]
     },
     "metadata": {},
     "output_type": "display_data"
    },
    {
     "data": {
      "text/plain": [
       "[('mentor', 0.28897115434778342),\n",
       " ('politics', 0.2112489351761748),\n",
       " ('cashflow', 0.20186579287060463),\n",
       " ('fraud', 0.20069188928055098)]"
      ]
     },
     "metadata": {},
     "output_type": "display_data"
    },
    {
     "name": "stdout",
     "output_type": "stream",
     "text": [
      "\n"
     ]
    },
    {
     "data": {
      "text/plain": [
       "'data/clean/clean-comments-17857.txt'"
      ]
     },
     "metadata": {},
     "output_type": "display_data"
    },
    {
     "data": {
      "text/plain": [
       "[('work', 0.32710826300869866),\n",
       " ('mentor', 0.14710725934904234),\n",
       " ('moral-rights', 0.082500022233080506),\n",
       " ('living-conditions', 0.07800022703142924),\n",
       " ('market-2', 0.062429299396149954),\n",
       " ('fraud', 0.058609407943144218),\n",
       " ('relationships', 0.057743531305597465),\n",
       " ('tractor', 0.053584528476102726),\n",
       " ('cashflow', 0.052875789490462365)]"
      ]
     },
     "metadata": {},
     "output_type": "display_data"
    },
    {
     "name": "stdout",
     "output_type": "stream",
     "text": [
      "\n"
     ]
    },
    {
     "data": {
      "text/plain": [
       "'data/clean/clean-comments-17858.txt'"
      ]
     },
     "metadata": {},
     "output_type": "display_data"
    },
    {
     "data": {
      "text/plain": [
       "[('work', 0.24154273304550633),\n",
       " ('mentor', 0.17973342445388096),\n",
       " ('living-conditions', 0.11799506426925102),\n",
       " ('fraud', 0.097223224983661233),\n",
       " ('market-2', 0.089911198020778377)]"
      ]
     },
     "metadata": {},
     "output_type": "display_data"
    },
    {
     "name": "stdout",
     "output_type": "stream",
     "text": [
      "\n"
     ]
    },
    {
     "data": {
      "text/plain": [
       "'data/clean/clean-comments-17859.txt'"
      ]
     },
     "metadata": {},
     "output_type": "display_data"
    },
    {
     "data": {
      "text/plain": [
       "[('market-1', 0.055555555555555539),\n",
       " ('taxes', 0.055555555555555539),\n",
       " ('mentor', 0.055555555555555539),\n",
       " ('qa', 0.055555555555555539),\n",
       " ('fraud', 0.055555555555555539),\n",
       " ('ukrainian', 0.055555555555555539),\n",
       " ('courses', 0.055555555555555539),\n",
       " ('recruitment', 0.055555555555555539),\n",
       " ('edu-corruption', 0.055555555555555539),\n",
       " ('living-conditions', 0.055555555555555539),\n",
       " ('cashflow', 0.055555555555555539),\n",
       " ('knowledge', 0.055555555555555539),\n",
       " ('tractor', 0.055555555555555539),\n",
       " ('market-2', 0.055555555555555539),\n",
       " ('moral-rights', 0.055555555555555539),\n",
       " ('politics', 0.055555555555555539),\n",
       " ('work', 0.055555555555555539),\n",
       " ('relationships', 0.055555555555555539)]"
      ]
     },
     "metadata": {},
     "output_type": "display_data"
    },
    {
     "name": "stdout",
     "output_type": "stream",
     "text": [
      "\n"
     ]
    },
    {
     "data": {
      "text/plain": [
       "'data/clean/clean-comments-17860.txt'"
      ]
     },
     "metadata": {},
     "output_type": "display_data"
    },
    {
     "data": {
      "text/plain": [
       "[('work', 0.46037064655343657),\n",
       " ('tractor', 0.16670557690654858),\n",
       " ('living-conditions', 0.14335766046755827),\n",
       " ('moral-rights', 0.13384743100545296)]"
      ]
     },
     "metadata": {},
     "output_type": "display_data"
    },
    {
     "name": "stdout",
     "output_type": "stream",
     "text": [
      "\n"
     ]
    },
    {
     "data": {
      "text/plain": [
       "'data/clean/clean-comments-17862.txt'"
      ]
     },
     "metadata": {},
     "output_type": "display_data"
    },
    {
     "data": {
      "text/plain": [
       "[('work', 0.30396093599983798),\n",
       " ('tractor', 0.12695256724119433),\n",
       " ('living-conditions', 0.12318817255949148),\n",
       " ('moral-rights', 0.068668577719660881),\n",
       " ('relationships', 0.065510985130881133),\n",
       " ('market-2', 0.058528697945187391),\n",
       " ('taxes', 0.056780257969155173),\n",
       " ('cashflow', 0.050584162539456134)]"
      ]
     },
     "metadata": {},
     "output_type": "display_data"
    },
    {
     "name": "stdout",
     "output_type": "stream",
     "text": [
      "\n"
     ]
    },
    {
     "data": {
      "text/plain": [
       "'data/clean/clean-comments-17863.txt'"
      ]
     },
     "metadata": {},
     "output_type": "display_data"
    },
    {
     "data": {
      "text/plain": [
       "[('work', 0.44616140858697767),\n",
       " ('fraud', 0.18806885345092361),\n",
       " ('tractor', 0.12598186884351981),\n",
       " ('living-conditions', 0.099375668948027393),\n",
       " ('ukrainian', 0.075731272300111549)]"
      ]
     },
     "metadata": {},
     "output_type": "display_data"
    },
    {
     "name": "stdout",
     "output_type": "stream",
     "text": [
      "\n"
     ]
    },
    {
     "data": {
      "text/plain": [
       "'data/clean/clean-comments-17866.txt'"
      ]
     },
     "metadata": {},
     "output_type": "display_data"
    },
    {
     "data": {
      "text/plain": [
       "[('market-1', 0.055555555555555539),\n",
       " ('taxes', 0.055555555555555539),\n",
       " ('mentor', 0.055555555555555539),\n",
       " ('qa', 0.055555555555555539),\n",
       " ('fraud', 0.055555555555555539),\n",
       " ('ukrainian', 0.055555555555555539),\n",
       " ('courses', 0.055555555555555539),\n",
       " ('recruitment', 0.055555555555555539),\n",
       " ('edu-corruption', 0.055555555555555539),\n",
       " ('living-conditions', 0.055555555555555539),\n",
       " ('cashflow', 0.055555555555555539),\n",
       " ('knowledge', 0.055555555555555539),\n",
       " ('tractor', 0.055555555555555539),\n",
       " ('market-2', 0.055555555555555539),\n",
       " ('moral-rights', 0.055555555555555539),\n",
       " ('politics', 0.055555555555555539),\n",
       " ('work', 0.055555555555555539),\n",
       " ('relationships', 0.055555555555555539)]"
      ]
     },
     "metadata": {},
     "output_type": "display_data"
    },
    {
     "name": "stdout",
     "output_type": "stream",
     "text": [
      "\n"
     ]
    },
    {
     "data": {
      "text/plain": [
       "'data/clean/clean-comments-17868.txt'"
      ]
     },
     "metadata": {},
     "output_type": "display_data"
    },
    {
     "data": {
      "text/plain": [
       "[('taxes', 0.32963012845242334),\n",
       " ('living-conditions', 0.16829648333145419),\n",
       " ('work', 0.16612573558494736),\n",
       " ('ukrainian', 0.063324957040319665)]"
      ]
     },
     "metadata": {},
     "output_type": "display_data"
    },
    {
     "name": "stdout",
     "output_type": "stream",
     "text": [
      "\n"
     ]
    },
    {
     "data": {
      "text/plain": [
       "'data/clean/clean-comments-17871.txt'"
      ]
     },
     "metadata": {},
     "output_type": "display_data"
    },
    {
     "data": {
      "text/plain": [
       "[('work', 0.32890485671042197),\n",
       " ('market-2', 0.1138071516840745),\n",
       " ('taxes', 0.10247957607789018),\n",
       " ('tractor', 0.09197779876880488),\n",
       " ('relationships', 0.089827344167339035),\n",
       " ('moral-rights', 0.072638761713906652),\n",
       " ('cashflow', 0.052975519880381662)]"
      ]
     },
     "metadata": {},
     "output_type": "display_data"
    },
    {
     "name": "stdout",
     "output_type": "stream",
     "text": [
      "\n"
     ]
    },
    {
     "data": {
      "text/plain": [
       "'data/clean/clean-comments-17873.txt'"
      ]
     },
     "metadata": {},
     "output_type": "display_data"
    },
    {
     "data": {
      "text/plain": [
       "[('work', 0.19018252150185061),\n",
       " ('tractor', 0.12736545721646744),\n",
       " ('politics', 0.11916377562776392),\n",
       " ('living-conditions', 0.11713067354562774),\n",
       " ('taxes', 0.08146892748672703),\n",
       " ('fraud', 0.06843592006436984),\n",
       " ('moral-rights', 0.062567127152953969),\n",
       " ('mentor', 0.060392156483931023),\n",
       " ('relationships', 0.053615628497700581)]"
      ]
     },
     "metadata": {},
     "output_type": "display_data"
    },
    {
     "name": "stdout",
     "output_type": "stream",
     "text": [
      "\n"
     ]
    },
    {
     "data": {
      "text/plain": [
       "'data/clean/clean-comments-17874.txt'"
      ]
     },
     "metadata": {},
     "output_type": "display_data"
    },
    {
     "data": {
      "text/plain": [
       "[('living-conditions', 0.38554559919097536),\n",
       " ('taxes', 0.27716051967556077),\n",
       " ('work', 0.1394351724242498),\n",
       " ('moral-rights', 0.12008092355063885)]"
      ]
     },
     "metadata": {},
     "output_type": "display_data"
    },
    {
     "name": "stdout",
     "output_type": "stream",
     "text": [
      "\n"
     ]
    },
    {
     "data": {
      "text/plain": [
       "'data/clean/clean-comments-17877.txt'"
      ]
     },
     "metadata": {},
     "output_type": "display_data"
    },
    {
     "data": {
      "text/plain": [
       "[('market-1', 0.055555555555555539),\n",
       " ('taxes', 0.055555555555555539),\n",
       " ('mentor', 0.055555555555555539),\n",
       " ('qa', 0.055555555555555539),\n",
       " ('fraud', 0.055555555555555539),\n",
       " ('ukrainian', 0.055555555555555539),\n",
       " ('courses', 0.055555555555555539),\n",
       " ('recruitment', 0.055555555555555539),\n",
       " ('edu-corruption', 0.055555555555555539),\n",
       " ('living-conditions', 0.055555555555555539),\n",
       " ('cashflow', 0.055555555555555539),\n",
       " ('knowledge', 0.055555555555555539),\n",
       " ('tractor', 0.055555555555555539),\n",
       " ('market-2', 0.055555555555555539),\n",
       " ('moral-rights', 0.055555555555555539),\n",
       " ('politics', 0.055555555555555539),\n",
       " ('work', 0.055555555555555539),\n",
       " ('relationships', 0.055555555555555539)]"
      ]
     },
     "metadata": {},
     "output_type": "display_data"
    },
    {
     "name": "stdout",
     "output_type": "stream",
     "text": [
      "\n"
     ]
    },
    {
     "data": {
      "text/plain": [
       "'data/clean/clean-comments-17878.txt'"
      ]
     },
     "metadata": {},
     "output_type": "display_data"
    },
    {
     "data": {
      "text/plain": [
       "[('work', 0.32878878087523661),\n",
       " ('taxes', 0.10910909905113585),\n",
       " ('living-conditions', 0.10517987037457234),\n",
       " ('tractor', 0.100510092472434),\n",
       " ('market-2', 0.065258211141421538),\n",
       " ('moral-rights', 0.064329701981648904),\n",
       " ('relationships', 0.05289630685587448)]"
      ]
     },
     "metadata": {},
     "output_type": "display_data"
    },
    {
     "name": "stdout",
     "output_type": "stream",
     "text": [
      "\n"
     ]
    },
    {
     "data": {
      "text/plain": [
       "'data/clean/clean-comments-17879.txt'"
      ]
     },
     "metadata": {},
     "output_type": "display_data"
    },
    {
     "data": {
      "text/plain": [
       "[('living-conditions', 0.38811745025311167),\n",
       " ('market-2', 0.20942958939278347),\n",
       " ('tractor', 0.15539704985989355),\n",
       " ('moral-rights', 0.13793688018879058)]"
      ]
     },
     "metadata": {},
     "output_type": "display_data"
    },
    {
     "name": "stdout",
     "output_type": "stream",
     "text": [
      "\n"
     ]
    },
    {
     "data": {
      "text/plain": [
       "'data/clean/clean-comments-17885.txt'"
      ]
     },
     "metadata": {},
     "output_type": "display_data"
    },
    {
     "data": {
      "text/plain": [
       "[('work', 0.24259440567332155),\n",
       " ('tractor', 0.1925262792252638),\n",
       " ('living-conditions', 0.12523101386142946),\n",
       " ('politics', 0.10342848583620395),\n",
       " ('taxes', 0.10105864736287462),\n",
       " ('fraud', 0.095107087430236756),\n",
       " ('cashflow', 0.059510187741782135)]"
      ]
     },
     "metadata": {},
     "output_type": "display_data"
    },
    {
     "name": "stdout",
     "output_type": "stream",
     "text": [
      "\n"
     ]
    },
    {
     "data": {
      "text/plain": [
       "'data/clean/clean-comments-2940.txt'"
      ]
     },
     "metadata": {},
     "output_type": "display_data"
    },
    {
     "data": {
      "text/plain": [
       "[('work', 0.40383997608505739),\n",
       " ('tractor', 0.15068487557782259),\n",
       " ('taxes', 0.11857497814121784),\n",
       " ('market-2', 0.074228602211819025),\n",
       " ('moral-rights', 0.063069260925856907),\n",
       " ('cashflow', 0.05104576963867001)]"
      ]
     },
     "metadata": {},
     "output_type": "display_data"
    },
    {
     "name": "stdout",
     "output_type": "stream",
     "text": [
      "\n"
     ]
    },
    {
     "data": {
      "text/plain": [
       "'data/clean/clean-comments-3187.txt'"
      ]
     },
     "metadata": {},
     "output_type": "display_data"
    },
    {
     "data": {
      "text/plain": [
       "[('work', 0.3262712239883625),\n",
       " ('taxes', 0.21654569031708087),\n",
       " ('living-conditions', 0.13110927826177021),\n",
       " ('moral-rights', 0.10059020052465231),\n",
       " ('relationships', 0.051268660198724829)]"
      ]
     },
     "metadata": {},
     "output_type": "display_data"
    },
    {
     "name": "stdout",
     "output_type": "stream",
     "text": [
      "\n"
     ]
    },
    {
     "data": {
      "text/plain": [
       "'data/clean/clean-comments-331.txt'"
      ]
     },
     "metadata": {},
     "output_type": "display_data"
    },
    {
     "data": {
      "text/plain": [
       "[('work', 0.33412345706757657),\n",
       " ('tractor', 0.10609852980461766),\n",
       " ('taxes', 0.099149334278031701),\n",
       " ('moral-rights', 0.086518126337643039),\n",
       " ('living-conditions', 0.083900063870628372),\n",
       " ('cashflow', 0.064974868630774549),\n",
       " ('relationships', 0.053156395428543675),\n",
       " ('market-2', 0.052015095637655884)]"
      ]
     },
     "metadata": {},
     "output_type": "display_data"
    },
    {
     "name": "stdout",
     "output_type": "stream",
     "text": [
      "\n"
     ]
    },
    {
     "data": {
      "text/plain": [
       "'data/clean/clean-comments-3715.txt'"
      ]
     },
     "metadata": {},
     "output_type": "display_data"
    },
    {
     "data": {
      "text/plain": [
       "[('work', 0.32979732871405498),\n",
       " ('taxes', 0.12510952577713641),\n",
       " ('moral-rights', 0.095647408868630907),\n",
       " ('living-conditions', 0.095588506399018197),\n",
       " ('tractor', 0.093856325348164668),\n",
       " ('market-2', 0.061556136945071852)]"
      ]
     },
     "metadata": {},
     "output_type": "display_data"
    },
    {
     "name": "stdout",
     "output_type": "stream",
     "text": [
      "\n"
     ]
    },
    {
     "data": {
      "text/plain": [
       "'data/clean/clean-comments-4063.txt'"
      ]
     },
     "metadata": {},
     "output_type": "display_data"
    },
    {
     "data": {
      "text/plain": [
       "[('work', 0.35900521802977792),\n",
       " ('tractor', 0.12287674197537021),\n",
       " ('living-conditions', 0.087742104287827097),\n",
       " ('moral-rights', 0.083350412988347167),\n",
       " ('taxes', 0.082972691374654864)]"
      ]
     },
     "metadata": {},
     "output_type": "display_data"
    },
    {
     "name": "stdout",
     "output_type": "stream",
     "text": [
      "\n"
     ]
    },
    {
     "data": {
      "text/plain": [
       "'data/clean/clean-comments-4408.txt'"
      ]
     },
     "metadata": {},
     "output_type": "display_data"
    },
    {
     "data": {
      "text/plain": [
       "[('work', 0.37557077247183129),\n",
       " ('taxes', 0.14918688616393697),\n",
       " ('living-conditions', 0.091552854824625232),\n",
       " ('moral-rights', 0.061657449997886395),\n",
       " ('cashflow', 0.060893723241086467),\n",
       " ('tractor', 0.060563011508445362),\n",
       " ('market-2', 0.056444715085568281)]"
      ]
     },
     "metadata": {},
     "output_type": "display_data"
    },
    {
     "name": "stdout",
     "output_type": "stream",
     "text": [
      "\n"
     ]
    },
    {
     "data": {
      "text/plain": [
       "'data/clean/clean-comments-4616.txt'"
      ]
     },
     "metadata": {},
     "output_type": "display_data"
    },
    {
     "data": {
      "text/plain": [
       "[('work', 0.37427242099820773),\n",
       " ('tractor', 0.14653628411555739),\n",
       " ('living-conditions', 0.092593863576154053),\n",
       " ('taxes', 0.068653405377054916),\n",
       " ('market-2', 0.062634685166265552),\n",
       " ('cashflow', 0.051255783249439898),\n",
       " ('moral-rights', 0.050788630944575745)]"
      ]
     },
     "metadata": {},
     "output_type": "display_data"
    },
    {
     "name": "stdout",
     "output_type": "stream",
     "text": [
      "\n"
     ]
    },
    {
     "data": {
      "text/plain": [
       "'data/clean/clean-comments-4936.txt'"
      ]
     },
     "metadata": {},
     "output_type": "display_data"
    },
    {
     "data": {
      "text/plain": [
       "[('work', 0.34092128860341703),\n",
       " ('living-conditions', 0.18130634176619326),\n",
       " ('moral-rights', 0.097390430770342692),\n",
       " ('relationships', 0.092621423568734054),\n",
       " ('tractor', 0.065526585471489124),\n",
       " ('edu-corruption', 0.058285745950727587)]"
      ]
     },
     "metadata": {},
     "output_type": "display_data"
    },
    {
     "name": "stdout",
     "output_type": "stream",
     "text": [
      "\n"
     ]
    },
    {
     "data": {
      "text/plain": [
       "'data/clean/clean-comments-5053.txt'"
      ]
     },
     "metadata": {},
     "output_type": "display_data"
    },
    {
     "data": {
      "text/plain": [
       "[('work', 0.42955110553170484),\n",
       " ('living-conditions', 0.094952238636862279),\n",
       " ('tractor', 0.084317745719563311),\n",
       " ('moral-rights', 0.079432329392700105),\n",
       " ('cashflow', 0.062083744425825788),\n",
       " ('relationships', 0.05930255502217565)]"
      ]
     },
     "metadata": {},
     "output_type": "display_data"
    },
    {
     "name": "stdout",
     "output_type": "stream",
     "text": [
      "\n"
     ]
    },
    {
     "data": {
      "text/plain": [
       "'data/clean/clean-comments-5681.txt'"
      ]
     },
     "metadata": {},
     "output_type": "display_data"
    },
    {
     "data": {
      "text/plain": [
       "[('work', 0.34114639778614364),\n",
       " ('tractor', 0.12141920761018968),\n",
       " ('living-conditions', 0.10966686097951338),\n",
       " ('moral-rights', 0.095979824630173585),\n",
       " ('relationships', 0.083495185896686017),\n",
       " ('cashflow', 0.068859431783552985)]"
      ]
     },
     "metadata": {},
     "output_type": "display_data"
    },
    {
     "name": "stdout",
     "output_type": "stream",
     "text": [
      "\n"
     ]
    },
    {
     "data": {
      "text/plain": [
       "'data/clean/clean-comments-5698.txt'"
      ]
     },
     "metadata": {},
     "output_type": "display_data"
    },
    {
     "data": {
      "text/plain": [
       "[('work', 0.34082531858980269),\n",
       " ('tractor', 0.20870505397544234),\n",
       " ('relationships', 0.13318833353927143),\n",
       " ('moral-rights', 0.09946226578147499),\n",
       " ('knowledge', 0.064435313790389318),\n",
       " ('fraud', 0.05352808466528225),\n",
       " ('living-conditions', 0.052195484356982465)]"
      ]
     },
     "metadata": {},
     "output_type": "display_data"
    },
    {
     "name": "stdout",
     "output_type": "stream",
     "text": [
      "\n"
     ]
    },
    {
     "data": {
      "text/plain": [
       "'data/clean/clean-comments-5917.txt'"
      ]
     },
     "metadata": {},
     "output_type": "display_data"
    },
    {
     "data": {
      "text/plain": [
       "[('work', 0.33476578079242192),\n",
       " ('living-conditions', 0.14731937853830374),\n",
       " ('tractor', 0.11094782271998144),\n",
       " ('moral-rights', 0.10901010015403281),\n",
       " ('relationships', 0.073546918606619535)]"
      ]
     },
     "metadata": {},
     "output_type": "display_data"
    },
    {
     "name": "stdout",
     "output_type": "stream",
     "text": [
      "\n"
     ]
    },
    {
     "data": {
      "text/plain": [
       "'data/clean/clean-comments-5930.txt'"
      ]
     },
     "metadata": {},
     "output_type": "display_data"
    },
    {
     "data": {
      "text/plain": [
       "[('work', 0.36655446521632268),\n",
       " ('living-conditions', 0.1949463571536916),\n",
       " ('relationships', 0.097860202355568679),\n",
       " ('tractor', 0.09515228948207069),\n",
       " ('recruitment', 0.067180022302315512),\n",
       " ('moral-rights', 0.057498919337708392)]"
      ]
     },
     "metadata": {},
     "output_type": "display_data"
    },
    {
     "name": "stdout",
     "output_type": "stream",
     "text": [
      "\n"
     ]
    },
    {
     "data": {
      "text/plain": [
       "'data/clean/clean-comments-5935.txt'"
      ]
     },
     "metadata": {},
     "output_type": "display_data"
    },
    {
     "data": {
      "text/plain": [
       "[('work', 0.37214446498838011),\n",
       " ('tractor', 0.11284649767966383),\n",
       " ('living-conditions', 0.10881387398650104),\n",
       " ('market-2', 0.069912148742486746),\n",
       " ('moral-rights', 0.057661498200718253),\n",
       " ('mentor', 0.052322218166015316),\n",
       " ('cashflow', 0.050189371009739005)]"
      ]
     },
     "metadata": {},
     "output_type": "display_data"
    },
    {
     "name": "stdout",
     "output_type": "stream",
     "text": [
      "\n"
     ]
    },
    {
     "data": {
      "text/plain": [
       "'data/clean/clean-comments-5993.txt'"
      ]
     },
     "metadata": {},
     "output_type": "display_data"
    },
    {
     "data": {
      "text/plain": [
       "[('work', 0.35762108516632285),\n",
       " ('moral-rights', 0.10017682327165352),\n",
       " ('tractor', 0.080527719407448392),\n",
       " ('living-conditions', 0.077858072872160317),\n",
       " ('cashflow', 0.070866447809413272),\n",
       " ('market-2', 0.059663036718661987),\n",
       " ('relationships', 0.056772947320858323),\n",
       " ('mentor', 0.050893853018429837)]"
      ]
     },
     "metadata": {},
     "output_type": "display_data"
    },
    {
     "name": "stdout",
     "output_type": "stream",
     "text": [
      "\n"
     ]
    },
    {
     "data": {
      "text/plain": [
       "'data/clean/clean-comments-6075.txt'"
      ]
     },
     "metadata": {},
     "output_type": "display_data"
    },
    {
     "data": {
      "text/plain": [
       "[('work', 0.28899634045959427),\n",
       " ('tractor', 0.14202147020247408),\n",
       " ('recruitment', 0.1405240049225879),\n",
       " ('market-2', 0.093202297836593312),\n",
       " ('living-conditions', 0.074899963748205622),\n",
       " ('relationships', 0.074573041900140996),\n",
       " ('cashflow', 0.072450918484417648)]"
      ]
     },
     "metadata": {},
     "output_type": "display_data"
    },
    {
     "name": "stdout",
     "output_type": "stream",
     "text": [
      "\n"
     ]
    },
    {
     "data": {
      "text/plain": [
       "'data/clean/clean-comments-6172.txt'"
      ]
     },
     "metadata": {},
     "output_type": "display_data"
    },
    {
     "data": {
      "text/plain": [
       "[('work', 0.28860503386845199),\n",
       " ('recruitment', 0.13295343084046607),\n",
       " ('living-conditions', 0.10449194186221157),\n",
       " ('tractor', 0.083913219300288736),\n",
       " ('moral-rights', 0.066913055094916504),\n",
       " ('cashflow', 0.060585636421716001),\n",
       " ('market-2', 0.054660477563573194),\n",
       " ('relationships', 0.050633153271662859)]"
      ]
     },
     "metadata": {},
     "output_type": "display_data"
    },
    {
     "name": "stdout",
     "output_type": "stream",
     "text": [
      "\n"
     ]
    },
    {
     "data": {
      "text/plain": [
       "'data/clean/clean-comments-6829.txt'"
      ]
     },
     "metadata": {},
     "output_type": "display_data"
    },
    {
     "data": {
      "text/plain": [
       "[('work', 0.38181452054688408),\n",
       " ('living-conditions', 0.14341543299213402),\n",
       " ('tractor', 0.12920458565840814),\n",
       " ('market-2', 0.093827393904346426),\n",
       " ('moral-rights', 0.075429148501278742),\n",
       " ('cashflow', 0.050029075665028351)]"
      ]
     },
     "metadata": {},
     "output_type": "display_data"
    },
    {
     "name": "stdout",
     "output_type": "stream",
     "text": [
      "\n"
     ]
    },
    {
     "data": {
      "text/plain": [
       "'data/clean/clean-comments-6871.txt'"
      ]
     },
     "metadata": {},
     "output_type": "display_data"
    },
    {
     "data": {
      "text/plain": [
       "[('work', 0.26282004605993087),\n",
       " ('moral-rights', 0.16999411435039344),\n",
       " ('living-conditions', 0.15794484285458427),\n",
       " ('tractor', 0.079123495963621698),\n",
       " ('market-2', 0.070481269938970748),\n",
       " ('relationships', 0.068541264980874012)]"
      ]
     },
     "metadata": {},
     "output_type": "display_data"
    },
    {
     "name": "stdout",
     "output_type": "stream",
     "text": [
      "\n"
     ]
    },
    {
     "data": {
      "text/plain": [
       "'data/clean/clean-comments-6885.txt'"
      ]
     },
     "metadata": {},
     "output_type": "display_data"
    },
    {
     "data": {
      "text/plain": [
       "[('work', 0.46510037514165592),\n",
       " ('moral-rights', 0.17627086079352741),\n",
       " ('living-conditions', 0.095497034389906046),\n",
       " ('tractor', 0.074399795379011063)]"
      ]
     },
     "metadata": {},
     "output_type": "display_data"
    },
    {
     "name": "stdout",
     "output_type": "stream",
     "text": [
      "\n"
     ]
    },
    {
     "data": {
      "text/plain": [
       "'data/clean/clean-comments-7175.txt'"
      ]
     },
     "metadata": {},
     "output_type": "display_data"
    },
    {
     "data": {
      "text/plain": [
       "[('work', 0.31930762736489365),\n",
       " ('moral-rights', 0.14023452700820593),\n",
       " ('living-conditions', 0.10750071467189508),\n",
       " ('fraud', 0.07376378456130861),\n",
       " ('market-2', 0.063166567970133244),\n",
       " ('taxes', 0.052343052299678706),\n",
       " ('tractor', 0.05015091621008734)]"
      ]
     },
     "metadata": {},
     "output_type": "display_data"
    },
    {
     "name": "stdout",
     "output_type": "stream",
     "text": [
      "\n"
     ]
    },
    {
     "data": {
      "text/plain": [
       "'data/clean/clean-comments-7179.txt'"
      ]
     },
     "metadata": {},
     "output_type": "display_data"
    },
    {
     "data": {
      "text/plain": [
       "[('work', 0.42758413443885224),\n",
       " ('moral-rights', 0.14520905577610357),\n",
       " ('tractor', 0.13143330248899052),\n",
       " ('market-2', 0.0650269620494415),\n",
       " ('cashflow', 0.056326297004182145),\n",
       " ('living-conditions', 0.053364950823087953)]"
      ]
     },
     "metadata": {},
     "output_type": "display_data"
    },
    {
     "name": "stdout",
     "output_type": "stream",
     "text": [
      "\n"
     ]
    },
    {
     "data": {
      "text/plain": [
       "'data/clean/clean-comments-7206.txt'"
      ]
     },
     "metadata": {},
     "output_type": "display_data"
    },
    {
     "data": {
      "text/plain": [
       "[('work', 0.3385753862682121),\n",
       " ('moral-rights', 0.13014905230158819),\n",
       " ('living-conditions', 0.081201504008607428),\n",
       " ('tractor', 0.080832015515093072),\n",
       " ('market-2', 0.076716668101859356),\n",
       " ('cashflow', 0.064797424885533833),\n",
       " ('fraud', 0.051882970291581808),\n",
       " ('relationships', 0.051316816551981725)]"
      ]
     },
     "metadata": {},
     "output_type": "display_data"
    },
    {
     "name": "stdout",
     "output_type": "stream",
     "text": [
      "\n"
     ]
    },
    {
     "data": {
      "text/plain": [
       "'data/clean/clean-comments-7229.txt'"
      ]
     },
     "metadata": {},
     "output_type": "display_data"
    },
    {
     "data": {
      "text/plain": [
       "[('work', 0.30082929582857726),\n",
       " ('tractor', 0.17029540133477372),\n",
       " ('relationships', 0.13507109175997226),\n",
       " ('living-conditions', 0.12503077146106772),\n",
       " ('moral-rights', 0.05487495715842499)]"
      ]
     },
     "metadata": {},
     "output_type": "display_data"
    },
    {
     "name": "stdout",
     "output_type": "stream",
     "text": [
      "\n"
     ]
    },
    {
     "data": {
      "text/plain": [
       "'data/clean/clean-comments-7313.txt'"
      ]
     },
     "metadata": {},
     "output_type": "display_data"
    },
    {
     "data": {
      "text/plain": [
       "[('work', 0.31676339582682056),\n",
       " ('moral-rights', 0.1218662910570886),\n",
       " ('living-conditions', 0.10725835275257628),\n",
       " ('relationships', 0.1055380956944393),\n",
       " ('tractor', 0.068641758315887286)]"
      ]
     },
     "metadata": {},
     "output_type": "display_data"
    },
    {
     "name": "stdout",
     "output_type": "stream",
     "text": [
      "\n"
     ]
    },
    {
     "data": {
      "text/plain": [
       "'data/clean/clean-comments-7407.txt'"
      ]
     },
     "metadata": {},
     "output_type": "display_data"
    },
    {
     "data": {
      "text/plain": [
       "[('work', 0.36556372956922828),\n",
       " ('tractor', 0.14401722293130578),\n",
       " ('market-2', 0.097475303054776197),\n",
       " ('living-conditions', 0.096906085306671386),\n",
       " ('relationships', 0.07672077112474332),\n",
       " ('moral-rights', 0.057392894434411153),\n",
       " ('cashflow', 0.050428794606562792)]"
      ]
     },
     "metadata": {},
     "output_type": "display_data"
    },
    {
     "name": "stdout",
     "output_type": "stream",
     "text": [
      "\n"
     ]
    },
    {
     "data": {
      "text/plain": [
       "'data/clean/clean-comments-7607.txt'"
      ]
     },
     "metadata": {},
     "output_type": "display_data"
    },
    {
     "data": {
      "text/plain": [
       "[('work', 0.32005863904662291),\n",
       " ('relationships', 0.18250028069462129),\n",
       " ('moral-rights', 0.083419765831841158),\n",
       " ('living-conditions', 0.079679092256855932),\n",
       " ('tractor', 0.074736075394704379),\n",
       " ('cashflow', 0.054053993556344257)]"
      ]
     },
     "metadata": {},
     "output_type": "display_data"
    },
    {
     "name": "stdout",
     "output_type": "stream",
     "text": [
      "\n"
     ]
    },
    {
     "data": {
      "text/plain": [
       "'data/clean/clean-comments-7622.txt'"
      ]
     },
     "metadata": {},
     "output_type": "display_data"
    },
    {
     "data": {
      "text/plain": [
       "[('work', 0.36321736133714322),\n",
       " ('relationships', 0.12669044987566314),\n",
       " ('tractor', 0.1028532456199923),\n",
       " ('cashflow', 0.07922232983204687),\n",
       " ('living-conditions', 0.061727632973733786),\n",
       " ('mentor', 0.052016190169760723),\n",
       " ('moral-rights', 0.051727275518405239)]"
      ]
     },
     "metadata": {},
     "output_type": "display_data"
    },
    {
     "name": "stdout",
     "output_type": "stream",
     "text": [
      "\n"
     ]
    },
    {
     "data": {
      "text/plain": [
       "'data/clean/clean-comments-7880.txt'"
      ]
     },
     "metadata": {},
     "output_type": "display_data"
    },
    {
     "data": {
      "text/plain": [
       "[('work', 0.4258196206192737),\n",
       " ('relationships', 0.15508497961229661),\n",
       " ('tractor', 0.076754777700059118),\n",
       " ('moral-rights', 0.073526758227666092),\n",
       " ('cashflow', 0.055004683140343055)]"
      ]
     },
     "metadata": {},
     "output_type": "display_data"
    },
    {
     "name": "stdout",
     "output_type": "stream",
     "text": [
      "\n"
     ]
    },
    {
     "data": {
      "text/plain": [
       "'data/clean/clean-comments-7901.txt'"
      ]
     },
     "metadata": {},
     "output_type": "display_data"
    },
    {
     "data": {
      "text/plain": [
       "[('work', 0.26387937285695362),\n",
       " ('relationships', 0.18286238064246443),\n",
       " ('moral-rights', 0.11483685746048378),\n",
       " ('living-conditions', 0.10121592452269798),\n",
       " ('tractor', 0.079358117681857812),\n",
       " ('cashflow', 0.068409000708502241),\n",
       " ('market-2', 0.058966143593690221)]"
      ]
     },
     "metadata": {},
     "output_type": "display_data"
    },
    {
     "name": "stdout",
     "output_type": "stream",
     "text": [
      "\n"
     ]
    },
    {
     "data": {
      "text/plain": [
       "'data/clean/clean-comments-8090.txt'"
      ]
     },
     "metadata": {},
     "output_type": "display_data"
    },
    {
     "data": {
      "text/plain": [
       "[('work', 0.3324792182037879),\n",
       " ('relationships', 0.13881156281548684),\n",
       " ('tractor', 0.13501566591767605),\n",
       " ('living-conditions', 0.079201445328952499),\n",
       " ('moral-rights', 0.078244728432058971),\n",
       " ('market-2', 0.058642047035372007)]"
      ]
     },
     "metadata": {},
     "output_type": "display_data"
    },
    {
     "name": "stdout",
     "output_type": "stream",
     "text": [
      "\n"
     ]
    },
    {
     "data": {
      "text/plain": [
       "'data/clean/clean-comments-8208.txt'"
      ]
     },
     "metadata": {},
     "output_type": "display_data"
    },
    {
     "data": {
      "text/plain": [
       "[('work', 0.2876137297024976),\n",
       " ('relationships', 0.1587611511451763),\n",
       " ('tractor', 0.1158249665744914),\n",
       " ('living-conditions', 0.09305917000609934),\n",
       " ('moral-rights', 0.090995873510255357)]"
      ]
     },
     "metadata": {},
     "output_type": "display_data"
    },
    {
     "name": "stdout",
     "output_type": "stream",
     "text": [
      "\n"
     ]
    },
    {
     "data": {
      "text/plain": [
       "'data/clean/clean-comments-8244.txt'"
      ]
     },
     "metadata": {},
     "output_type": "display_data"
    },
    {
     "data": {
      "text/plain": [
       "[('work', 0.26989542723844329),\n",
       " ('relationships', 0.21500756448126723),\n",
       " ('living-conditions', 0.10613092893766897),\n",
       " ('tractor', 0.083599968507876571),\n",
       " ('moral-rights', 0.065565677116314974)]"
      ]
     },
     "metadata": {},
     "output_type": "display_data"
    },
    {
     "name": "stdout",
     "output_type": "stream",
     "text": [
      "\n"
     ]
    },
    {
     "data": {
      "text/plain": [
       "'data/clean/clean-comments-8638.txt'"
      ]
     },
     "metadata": {},
     "output_type": "display_data"
    },
    {
     "data": {
      "text/plain": [
       "[('work', 0.27854369633800619),\n",
       " ('relationships', 0.17359693762075015),\n",
       " ('living-conditions', 0.086544820274392226),\n",
       " ('cashflow', 0.071730392000231458),\n",
       " ('moral-rights', 0.067681999767548656),\n",
       " ('tractor', 0.065769433654038728),\n",
       " ('recruitment', 0.059875672236156099)]"
      ]
     },
     "metadata": {},
     "output_type": "display_data"
    },
    {
     "name": "stdout",
     "output_type": "stream",
     "text": [
      "\n"
     ]
    },
    {
     "data": {
      "text/plain": [
       "'data/clean/clean-comments-8681.txt'"
      ]
     },
     "metadata": {},
     "output_type": "display_data"
    },
    {
     "data": {
      "text/plain": [
       "[('work', 0.29583046463327611),\n",
       " ('living-conditions', 0.18246383294265001),\n",
       " ('tractor', 0.10045861045025223),\n",
       " ('moral-rights', 0.085426291175779615),\n",
       " ('cashflow', 0.066146354527088252),\n",
       " ('relationships', 0.063378921210043099),\n",
       " ('mentor', 0.051782241478026771)]"
      ]
     },
     "metadata": {},
     "output_type": "display_data"
    },
    {
     "name": "stdout",
     "output_type": "stream",
     "text": [
      "\n"
     ]
    },
    {
     "data": {
      "text/plain": [
       "'data/clean/clean-comments-8690.txt'"
      ]
     },
     "metadata": {},
     "output_type": "display_data"
    },
    {
     "data": {
      "text/plain": [
       "[('work', 0.34734611550322053),\n",
       " ('living-conditions', 0.17621010305244339),\n",
       " ('moral-rights', 0.17351554961506627),\n",
       " ('tractor', 0.099412351147990644),\n",
       " ('taxes', 0.068180798476750459)]"
      ]
     },
     "metadata": {},
     "output_type": "display_data"
    },
    {
     "name": "stdout",
     "output_type": "stream",
     "text": [
      "\n"
     ]
    },
    {
     "data": {
      "text/plain": [
       "'data/clean/clean-comments-8883.txt'"
      ]
     },
     "metadata": {},
     "output_type": "display_data"
    },
    {
     "data": {
      "text/plain": [
       "[('work', 0.34558505105222903),\n",
       " ('living-conditions', 0.12589233141150497),\n",
       " ('moral-rights', 0.11123403809574063),\n",
       " ('relationships', 0.075352834559505047),\n",
       " ('tractor', 0.069277528341510422)]"
      ]
     },
     "metadata": {},
     "output_type": "display_data"
    },
    {
     "name": "stdout",
     "output_type": "stream",
     "text": [
      "\n"
     ]
    },
    {
     "data": {
      "text/plain": [
       "'data/clean/clean-comments-9165.txt'"
      ]
     },
     "metadata": {},
     "output_type": "display_data"
    },
    {
     "data": {
      "text/plain": [
       "[('work', 0.36493943075897528),\n",
       " ('living-conditions', 0.1950207968523765),\n",
       " ('moral-rights', 0.11420107687500786),\n",
       " ('tractor', 0.088757208209680971),\n",
       " ('cashflow', 0.068165833471915543)]"
      ]
     },
     "metadata": {},
     "output_type": "display_data"
    },
    {
     "name": "stdout",
     "output_type": "stream",
     "text": [
      "\n"
     ]
    },
    {
     "data": {
      "text/plain": [
       "'data/clean/clean-comments-9223.txt'"
      ]
     },
     "metadata": {},
     "output_type": "display_data"
    },
    {
     "data": {
      "text/plain": [
       "[('work', 0.32739300961385015),\n",
       " ('living-conditions', 0.11336662913801369),\n",
       " ('relationships', 0.09676439978825932),\n",
       " ('cashflow', 0.094198436930771373),\n",
       " ('moral-rights', 0.090824275217381858),\n",
       " ('tractor', 0.089419987179227847)]"
      ]
     },
     "metadata": {},
     "output_type": "display_data"
    },
    {
     "name": "stdout",
     "output_type": "stream",
     "text": [
      "\n"
     ]
    },
    {
     "data": {
      "text/plain": [
       "'data/clean/clean-comments-9253.txt'"
      ]
     },
     "metadata": {},
     "output_type": "display_data"
    },
    {
     "data": {
      "text/plain": [
       "[('work', 0.36803046942243128),\n",
       " ('living-conditions', 0.1386194586334033),\n",
       " ('tractor', 0.12014690050839268),\n",
       " ('cashflow', 0.066422531228269938),\n",
       " ('market-2', 0.064691171643312964),\n",
       " ('moral-rights', 0.063654718106147423)]"
      ]
     },
     "metadata": {},
     "output_type": "display_data"
    },
    {
     "name": "stdout",
     "output_type": "stream",
     "text": [
      "\n"
     ]
    },
    {
     "data": {
      "text/plain": [
       "'data/clean/clean-comments-9383.txt'"
      ]
     },
     "metadata": {},
     "output_type": "display_data"
    },
    {
     "data": {
      "text/plain": [
       "[('work', 0.333698420823626),\n",
       " ('market-2', 0.1819755632889416),\n",
       " ('relationships', 0.11210935925882093),\n",
       " ('moral-rights', 0.10885207977649335),\n",
       " ('cashflow', 0.082151637763404756),\n",
       " ('tractor', 0.073379626641782478),\n",
       " ('mentor', 0.050207580579601646)]"
      ]
     },
     "metadata": {},
     "output_type": "display_data"
    },
    {
     "name": "stdout",
     "output_type": "stream",
     "text": [
      "\n"
     ]
    },
    {
     "data": {
      "text/plain": [
       "'data/clean/clean-comments-9432.txt'"
      ]
     },
     "metadata": {},
     "output_type": "display_data"
    },
    {
     "data": {
      "text/plain": [
       "[('work', 0.3941334403564109),\n",
       " ('taxes', 0.086083568187609885),\n",
       " ('market-2', 0.079347734313480273),\n",
       " ('ukrainian', 0.066854872071093197),\n",
       " ('cashflow', 0.061105745938231204),\n",
       " ('tractor', 0.06074037369453425),\n",
       " ('moral-rights', 0.060630536978819788),\n",
       " ('politics', 0.055395881436090331),\n",
       " ('relationships', 0.051637666611765026)]"
      ]
     },
     "metadata": {},
     "output_type": "display_data"
    },
    {
     "name": "stdout",
     "output_type": "stream",
     "text": [
      "\n"
     ]
    },
    {
     "data": {
      "text/plain": [
       "'data/clean/clean-comments-9547.txt'"
      ]
     },
     "metadata": {},
     "output_type": "display_data"
    },
    {
     "data": {
      "text/plain": [
       "[('work', 0.42437864846432188),\n",
       " ('living-conditions', 0.089849831148310466),\n",
       " ('moral-rights', 0.087743425423914376),\n",
       " ('tractor', 0.067679853183306285),\n",
       " ('relationships', 0.061585440165531913),\n",
       " ('cashflow', 0.050602740946895979)]"
      ]
     },
     "metadata": {},
     "output_type": "display_data"
    },
    {
     "name": "stdout",
     "output_type": "stream",
     "text": [
      "\n"
     ]
    },
    {
     "data": {
      "text/plain": [
       "'data/clean/clean-comments-9603.txt'"
      ]
     },
     "metadata": {},
     "output_type": "display_data"
    },
    {
     "data": {
      "text/plain": [
       "[('work', 0.42687460822989065),\n",
       " ('living-conditions', 0.10222353612064707),\n",
       " ('moral-rights', 0.089279189398499256),\n",
       " ('tractor', 0.081655431824779967)]"
      ]
     },
     "metadata": {},
     "output_type": "display_data"
    },
    {
     "name": "stdout",
     "output_type": "stream",
     "text": [
      "\n"
     ]
    },
    {
     "data": {
      "text/plain": [
       "'data/clean/clean-comments-964.txt'"
      ]
     },
     "metadata": {},
     "output_type": "display_data"
    },
    {
     "data": {
      "text/plain": [
       "[('work', 0.45201045073717766),\n",
       " ('living-conditions', 0.0923311490959563),\n",
       " ('relationships', 0.089723535763445522),\n",
       " ('tractor', 0.056607020295901943)]"
      ]
     },
     "metadata": {},
     "output_type": "display_data"
    },
    {
     "name": "stdout",
     "output_type": "stream",
     "text": [
      "\n"
     ]
    },
    {
     "data": {
      "text/plain": [
       "'data/clean/clean-comments-9721.txt'"
      ]
     },
     "metadata": {},
     "output_type": "display_data"
    },
    {
     "data": {
      "text/plain": [
       "[('work', 0.41349009469699066),\n",
       " ('living-conditions', 0.15883312857456536),\n",
       " ('moral-rights', 0.087718971745750454),\n",
       " ('cashflow', 0.085011749168123957),\n",
       " ('tractor', 0.083288344358402433),\n",
       " ('market-2', 0.065760898325601183)]"
      ]
     },
     "metadata": {},
     "output_type": "display_data"
    },
    {
     "name": "stdout",
     "output_type": "stream",
     "text": [
      "\n"
     ]
    },
    {
     "data": {
      "text/plain": [
       "'data/clean/clean-comments-9793.txt'"
      ]
     },
     "metadata": {},
     "output_type": "display_data"
    },
    {
     "data": {
      "text/plain": [
       "[('work', 0.46677616101289027),\n",
       " ('fraud', 0.07693203302018177),\n",
       " ('tractor', 0.072360577863419165),\n",
       " ('living-conditions', 0.067962046627985662),\n",
       " ('moral-rights', 0.060768520111958581),\n",
       " ('market-2', 0.053575587003540828)]"
      ]
     },
     "metadata": {},
     "output_type": "display_data"
    },
    {
     "name": "stdout",
     "output_type": "stream",
     "text": [
      "\n"
     ]
    },
    {
     "data": {
      "text/plain": [
       "'data/clean/clean-comments-9824.txt'"
      ]
     },
     "metadata": {},
     "output_type": "display_data"
    },
    {
     "data": {
      "text/plain": [
       "[('work', 0.44142777952584755),\n",
       " ('living-conditions', 0.09624219925834783),\n",
       " ('moral-rights', 0.086611864200865585),\n",
       " ('tractor', 0.064576839954919446),\n",
       " ('relationships', 0.057260289788299536)]"
      ]
     },
     "metadata": {},
     "output_type": "display_data"
    },
    {
     "name": "stdout",
     "output_type": "stream",
     "text": [
      "\n"
     ]
    },
    {
     "data": {
      "text/plain": [
       "'data/clean/clean-comments-9931.txt'"
      ]
     },
     "metadata": {},
     "output_type": "display_data"
    },
    {
     "data": {
      "text/plain": [
       "[('work', 0.33456925297808249),\n",
       " ('tractor', 0.1127654902526536),\n",
       " ('moral-rights', 0.10078688681572651),\n",
       " ('living-conditions', 0.091470947795270735),\n",
       " ('mentor', 0.060603793810716108),\n",
       " ('market-2', 0.053131122219280763)]"
      ]
     },
     "metadata": {},
     "output_type": "display_data"
    },
    {
     "name": "stdout",
     "output_type": "stream",
     "text": [
      "\n"
     ]
    },
    {
     "data": {
      "text/plain": [
       "'data/clean/clean-comments-ai-ml-digest-0.txt'"
      ]
     },
     "metadata": {},
     "output_type": "display_data"
    },
    {
     "data": {
      "text/plain": [
       "[('work', 0.34713636033975254),\n",
       " ('moral-rights', 0.15055637471130265),\n",
       " ('taxes', 0.099664382806433749),\n",
       " ('living-conditions', 0.098482842240742649),\n",
       " ('tractor', 0.095131900363128907),\n",
       " ('cashflow', 0.094725427567203882)]"
      ]
     },
     "metadata": {},
     "output_type": "display_data"
    },
    {
     "name": "stdout",
     "output_type": "stream",
     "text": [
      "\n"
     ]
    },
    {
     "data": {
      "text/plain": [
       "'data/clean/clean-comments-ai-ml-digest-1.txt'"
      ]
     },
     "metadata": {},
     "output_type": "display_data"
    },
    {
     "data": {
      "text/plain": [
       "[('work', 0.6839669937306575),\n",
       " ('fraud', 0.15241295509460506),\n",
       " ('market-2', 0.094175598637122618)]"
      ]
     },
     "metadata": {},
     "output_type": "display_data"
    },
    {
     "name": "stdout",
     "output_type": "stream",
     "text": [
      "\n"
     ]
    },
    {
     "data": {
      "text/plain": [
       "'data/clean/clean-comments-android-digest-15.txt'"
      ]
     },
     "metadata": {},
     "output_type": "display_data"
    },
    {
     "data": {
      "text/plain": [
       "[('market-1', 0.055555555555555539),\n",
       " ('taxes', 0.055555555555555539),\n",
       " ('mentor', 0.055555555555555539),\n",
       " ('qa', 0.055555555555555539),\n",
       " ('fraud', 0.055555555555555539),\n",
       " ('ukrainian', 0.055555555555555539),\n",
       " ('courses', 0.055555555555555539),\n",
       " ('recruitment', 0.055555555555555539),\n",
       " ('edu-corruption', 0.055555555555555539),\n",
       " ('living-conditions', 0.055555555555555539),\n",
       " ('cashflow', 0.055555555555555539),\n",
       " ('knowledge', 0.055555555555555539),\n",
       " ('tractor', 0.055555555555555539),\n",
       " ('market-2', 0.055555555555555539),\n",
       " ('moral-rights', 0.055555555555555539),\n",
       " ('politics', 0.055555555555555539),\n",
       " ('work', 0.055555555555555539),\n",
       " ('relationships', 0.055555555555555539)]"
      ]
     },
     "metadata": {},
     "output_type": "display_data"
    },
    {
     "name": "stdout",
     "output_type": "stream",
     "text": [
      "\n"
     ]
    },
    {
     "data": {
      "text/plain": [
       "'data/clean/clean-comments-android-digest-16.txt'"
      ]
     },
     "metadata": {},
     "output_type": "display_data"
    },
    {
     "data": {
      "text/plain": [
       "[('work', 0.43788961737043575),\n",
       " ('living-conditions', 0.25472946162476567),\n",
       " ('taxes', 0.10176792913294522),\n",
       " ('moral-rights', 0.098111604606495192),\n",
       " ('market-2', 0.089886208934059797)]"
      ]
     },
     "metadata": {},
     "output_type": "display_data"
    },
    {
     "name": "stdout",
     "output_type": "stream",
     "text": [
      "\n"
     ]
    },
    {
     "data": {
      "text/plain": [
       "'data/clean/clean-comments-android-digest-17.txt'"
      ]
     },
     "metadata": {},
     "output_type": "display_data"
    },
    {
     "data": {
      "text/plain": [
       "[('taxes', 0.68518516206794766)]"
      ]
     },
     "metadata": {},
     "output_type": "display_data"
    },
    {
     "name": "stdout",
     "output_type": "stream",
     "text": [
      "\n"
     ]
    },
    {
     "data": {
      "text/plain": [
       "'data/clean/clean-comments-bears-bulls-swaps.txt'"
      ]
     },
     "metadata": {},
     "output_type": "display_data"
    },
    {
     "data": {
      "text/plain": [
       "[('work', 0.45669777347034685),\n",
       " ('living-conditions', 0.10693492198098391),\n",
       " ('moral-rights', 0.095283430473470765),\n",
       " ('tractor', 0.05345096324219914),\n",
       " ('cashflow', 0.051649421394915539)]"
      ]
     },
     "metadata": {},
     "output_type": "display_data"
    },
    {
     "name": "stdout",
     "output_type": "stream",
     "text": [
      "\n"
     ]
    },
    {
     "data": {
      "text/plain": [
       "'data/clean/clean-comments-canada.txt'"
      ]
     },
     "metadata": {},
     "output_type": "display_data"
    },
    {
     "data": {
      "text/plain": [
       "[('work', 0.42943959915674546),\n",
       " ('living-conditions', 0.10185660332522248),\n",
       " ('moral-rights', 0.093548320742724178),\n",
       " ('tractor', 0.085732717602350184),\n",
       " ('relationships', 0.071645630658230264)]"
      ]
     },
     "metadata": {},
     "output_type": "display_data"
    },
    {
     "name": "stdout",
     "output_type": "stream",
     "text": [
      "\n"
     ]
    },
    {
     "data": {
      "text/plain": [
       "'data/clean/clean-comments-cheese.txt'"
      ]
     },
     "metadata": {},
     "output_type": "display_data"
    },
    {
     "data": {
      "text/plain": [
       "[('work', 0.3548323245306092),\n",
       " ('relationships', 0.16415696939696406),\n",
       " ('living-conditions', 0.08262001354034279),\n",
       " ('tractor', 0.064037956329957443),\n",
       " ('moral-rights', 0.060621093107788807),\n",
       " ('ukrainian', 0.058503994832163078),\n",
       " ('mentor', 0.058142712940788183)]"
      ]
     },
     "metadata": {},
     "output_type": "display_data"
    },
    {
     "name": "stdout",
     "output_type": "stream",
     "text": [
      "\n"
     ]
    },
    {
     "data": {
      "text/plain": [
       "'data/clean/clean-comments-consumption-to-production.txt'"
      ]
     },
     "metadata": {},
     "output_type": "display_data"
    },
    {
     "data": {
      "text/plain": [
       "[('work', 0.3000415821955093),\n",
       " ('moral-rights', 0.17372718706206822),\n",
       " ('living-conditions', 0.11418058487686863),\n",
       " ('relationships', 0.092387695301848996),\n",
       " ('cashflow', 0.051174991270051103)]"
      ]
     },
     "metadata": {},
     "output_type": "display_data"
    },
    {
     "name": "stdout",
     "output_type": "stream",
     "text": [
      "\n"
     ]
    },
    {
     "data": {
      "text/plain": [
       "'data/clean/clean-comments-continuous-integration.txt'"
      ]
     },
     "metadata": {},
     "output_type": "display_data"
    },
    {
     "data": {
      "text/plain": [
       "[('work', 0.30743782207197923),\n",
       " ('mentor', 0.14936526948206186),\n",
       " ('moral-rights', 0.088812966488435244),\n",
       " ('tractor', 0.085384647049973977),\n",
       " ('living-conditions', 0.084900119669788721),\n",
       " ('recruitment', 0.081872780584876043)]"
      ]
     },
     "metadata": {},
     "output_type": "display_data"
    },
    {
     "name": "stdout",
     "output_type": "stream",
     "text": [
      "\n"
     ]
    },
    {
     "data": {
      "text/plain": [
       "'data/clean/clean-comments-corruption-in-universities.txt'"
      ]
     },
     "metadata": {},
     "output_type": "display_data"
    },
    {
     "data": {
      "text/plain": [
       "[('work', 0.34677523278911643),\n",
       " ('moral-rights', 0.095568622255569613),\n",
       " ('mentor', 0.094469010636861514),\n",
       " ('tractor', 0.086649762295221255),\n",
       " ('living-conditions', 0.071677123340520704),\n",
       " ('relationships', 0.07112984649459049),\n",
       " ('market-2', 0.052703809617399053)]"
      ]
     },
     "metadata": {},
     "output_type": "display_data"
    },
    {
     "name": "stdout",
     "output_type": "stream",
     "text": [
      "\n"
     ]
    },
    {
     "data": {
      "text/plain": [
       "'data/clean/clean-comments-critical-path.txt'"
      ]
     },
     "metadata": {},
     "output_type": "display_data"
    },
    {
     "data": {
      "text/plain": [
       "[('work', 0.41237389624722715),\n",
       " ('tractor', 0.11312102790715138),\n",
       " ('living-conditions', 0.11148911190013647),\n",
       " ('moral-rights', 0.075366781729965873),\n",
       " ('relationships', 0.059761562488103229)]"
      ]
     },
     "metadata": {},
     "output_type": "display_data"
    },
    {
     "name": "stdout",
     "output_type": "stream",
     "text": [
      "\n"
     ]
    },
    {
     "data": {
      "text/plain": [
       "'data/clean/clean-comments-dependency-inversion-principle.txt'"
      ]
     },
     "metadata": {},
     "output_type": "display_data"
    },
    {
     "data": {
      "text/plain": [
       "[('work', 0.26070654818071859),\n",
       " ('tractor', 0.16656071453460702),\n",
       " ('living-conditions', 0.14313261064914343),\n",
       " ('moral-rights', 0.089163499126988108),\n",
       " ('cashflow', 0.081643066910360731),\n",
       " ('market-2', 0.069323508534454403)]"
      ]
     },
     "metadata": {},
     "output_type": "display_data"
    },
    {
     "name": "stdout",
     "output_type": "stream",
     "text": [
      "\n"
     ]
    },
    {
     "data": {
      "text/plain": [
       "'data/clean/clean-comments-devops-digest-7.txt'"
      ]
     },
     "metadata": {},
     "output_type": "display_data"
    },
    {
     "data": {
      "text/plain": [
       "[('relationships', 0.26198576968437953),\n",
       " ('tractor', 0.21612682218372278),\n",
       " ('ukrainian', 0.16180152428660033),\n",
       " ('recruitment', 0.12174689915013916),\n",
       " ('moral-rights', 0.069759824773346218),\n",
       " ('work', 0.058823777506509002),\n",
       " ('taxes', 0.050366043744005114)]"
      ]
     },
     "metadata": {},
     "output_type": "display_data"
    },
    {
     "name": "stdout",
     "output_type": "stream",
     "text": [
      "\n"
     ]
    },
    {
     "data": {
      "text/plain": [
       "'data/clean/clean-comments-devops-digest-8.txt'"
      ]
     },
     "metadata": {},
     "output_type": "display_data"
    },
    {
     "data": {
      "text/plain": [
       "[('work', 0.30959038154450247),\n",
       " ('living-conditions', 0.14870057570706124),\n",
       " ('tractor', 0.12963302879426161),\n",
       " ('cashflow', 0.060124547015386429),\n",
       " ('fraud', 0.059595972635016675),\n",
       " ('recruitment', 0.055314092357850037),\n",
       " ('moral-rights', 0.052632007717978949),\n",
       " ('relationships', 0.05081447568028348)]"
      ]
     },
     "metadata": {},
     "output_type": "display_data"
    },
    {
     "name": "stdout",
     "output_type": "stream",
     "text": [
      "\n"
     ]
    },
    {
     "data": {
      "text/plain": [
       "'data/clean/clean-comments-devops-engineer-position.txt'"
      ]
     },
     "metadata": {},
     "output_type": "display_data"
    },
    {
     "data": {
      "text/plain": [
       "[('work', 0.28872750966514621),\n",
       " ('living-conditions', 0.13993078838913359),\n",
       " ('tractor', 0.11593927010218434),\n",
       " ('moral-rights', 0.10678547346022901),\n",
       " ('relationships', 0.071220696223722929)]"
      ]
     },
     "metadata": {},
     "output_type": "display_data"
    },
    {
     "name": "stdout",
     "output_type": "stream",
     "text": [
      "\n"
     ]
    },
    {
     "data": {
      "text/plain": [
       "'data/clean/clean-comments-digest-218.txt'"
      ]
     },
     "metadata": {},
     "output_type": "display_data"
    },
    {
     "data": {
      "text/plain": [
       "[('market-1', 0.055555555555555539),\n",
       " ('taxes', 0.055555555555555539),\n",
       " ('mentor', 0.055555555555555539),\n",
       " ('qa', 0.055555555555555539),\n",
       " ('fraud', 0.055555555555555539),\n",
       " ('ukrainian', 0.055555555555555539),\n",
       " ('courses', 0.055555555555555539),\n",
       " ('recruitment', 0.055555555555555539),\n",
       " ('edu-corruption', 0.055555555555555539),\n",
       " ('living-conditions', 0.055555555555555539),\n",
       " ('cashflow', 0.055555555555555539),\n",
       " ('knowledge', 0.055555555555555539),\n",
       " ('tractor', 0.055555555555555539),\n",
       " ('market-2', 0.055555555555555539),\n",
       " ('moral-rights', 0.055555555555555539),\n",
       " ('politics', 0.055555555555555539),\n",
       " ('work', 0.055555555555555539),\n",
       " ('relationships', 0.055555555555555539)]"
      ]
     },
     "metadata": {},
     "output_type": "display_data"
    },
    {
     "name": "stdout",
     "output_type": "stream",
     "text": [
      "\n"
     ]
    },
    {
     "data": {
      "text/plain": [
       "'data/clean/clean-comments-digest-219.txt'"
      ]
     },
     "metadata": {},
     "output_type": "display_data"
    },
    {
     "data": {
      "text/plain": [
       "[('market-1', 0.055555555555555539),\n",
       " ('taxes', 0.055555555555555539),\n",
       " ('mentor', 0.055555555555555539),\n",
       " ('qa', 0.055555555555555539),\n",
       " ('fraud', 0.055555555555555539),\n",
       " ('ukrainian', 0.055555555555555539),\n",
       " ('courses', 0.055555555555555539),\n",
       " ('recruitment', 0.055555555555555539),\n",
       " ('edu-corruption', 0.055555555555555539),\n",
       " ('living-conditions', 0.055555555555555539),\n",
       " ('cashflow', 0.055555555555555539),\n",
       " ('knowledge', 0.055555555555555539),\n",
       " ('tractor', 0.055555555555555539),\n",
       " ('market-2', 0.055555555555555539),\n",
       " ('moral-rights', 0.055555555555555539),\n",
       " ('politics', 0.055555555555555539),\n",
       " ('work', 0.055555555555555539),\n",
       " ('relationships', 0.055555555555555539)]"
      ]
     },
     "metadata": {},
     "output_type": "display_data"
    },
    {
     "name": "stdout",
     "output_type": "stream",
     "text": [
      "\n"
     ]
    },
    {
     "data": {
      "text/plain": [
       "'data/clean/clean-comments-digest-220.txt'"
      ]
     },
     "metadata": {},
     "output_type": "display_data"
    },
    {
     "data": {
      "text/plain": [
       "[('relationships', 0.38059037181304789),\n",
       " ('moral-rights', 0.20129370719288897),\n",
       " ('fraud', 0.17838453496068388),\n",
       " ('cashflow', 0.15331162872347767)]"
      ]
     },
     "metadata": {},
     "output_type": "display_data"
    },
    {
     "name": "stdout",
     "output_type": "stream",
     "text": [
      "\n"
     ]
    },
    {
     "data": {
      "text/plain": [
       "'data/clean/clean-comments-digest-221.txt'"
      ]
     },
     "metadata": {},
     "output_type": "display_data"
    },
    {
     "data": {
      "text/plain": [
       "[('market-1', 0.055555555555555539),\n",
       " ('taxes', 0.055555555555555539),\n",
       " ('mentor', 0.055555555555555539),\n",
       " ('qa', 0.055555555555555539),\n",
       " ('fraud', 0.055555555555555539),\n",
       " ('ukrainian', 0.055555555555555539),\n",
       " ('courses', 0.055555555555555539),\n",
       " ('recruitment', 0.055555555555555539),\n",
       " ('edu-corruption', 0.055555555555555539),\n",
       " ('living-conditions', 0.055555555555555539),\n",
       " ('cashflow', 0.055555555555555539),\n",
       " ('knowledge', 0.055555555555555539),\n",
       " ('tractor', 0.055555555555555539),\n",
       " ('market-2', 0.055555555555555539),\n",
       " ('moral-rights', 0.055555555555555539),\n",
       " ('politics', 0.055555555555555539),\n",
       " ('work', 0.055555555555555539),\n",
       " ('relationships', 0.055555555555555539)]"
      ]
     },
     "metadata": {},
     "output_type": "display_data"
    },
    {
     "name": "stdout",
     "output_type": "stream",
     "text": [
      "\n"
     ]
    },
    {
     "data": {
      "text/plain": [
       "'data/clean/clean-comments-digital-lenin.txt'"
      ]
     },
     "metadata": {},
     "output_type": "display_data"
    },
    {
     "data": {
      "text/plain": [
       "[('work', 0.33762218395008431),\n",
       " ('moral-rights', 0.1971091658157039),\n",
       " ('living-conditions', 0.092398478551207253),\n",
       " ('mentor', 0.061194955758262927),\n",
       " ('tractor', 0.054141806173437251),\n",
       " ('cashflow', 0.052531365926221825)]"
      ]
     },
     "metadata": {},
     "output_type": "display_data"
    },
    {
     "name": "stdout",
     "output_type": "stream",
     "text": [
      "\n"
     ]
    },
    {
     "data": {
      "text/plain": [
       "'data/clean/clean-comments-djinni-rating-mar-2016.txt'"
      ]
     },
     "metadata": {},
     "output_type": "display_data"
    },
    {
     "data": {
      "text/plain": [
       "[('work', 0.34390216808179253),\n",
       " ('moral-rights', 0.14266404965616011),\n",
       " ('tractor', 0.11770225905601389),\n",
       " ('living-conditions', 0.10083497430118207),\n",
       " ('market-2', 0.078777554657053314)]"
      ]
     },
     "metadata": {},
     "output_type": "display_data"
    },
    {
     "name": "stdout",
     "output_type": "stream",
     "text": [
      "\n"
     ]
    },
    {
     "data": {
      "text/plain": [
       "'data/clean/clean-comments-dou-projector-cluise.txt'"
      ]
     },
     "metadata": {},
     "output_type": "display_data"
    },
    {
     "data": {
      "text/plain": [
       "[('work', 0.30123038005242808),\n",
       " ('moral-rights', 0.24252819887889498),\n",
       " ('living-conditions', 0.1216494207012517),\n",
       " ('cashflow', 0.05620511343598085),\n",
       " ('market-2', 0.050450999848632064)]"
      ]
     },
     "metadata": {},
     "output_type": "display_data"
    },
    {
     "name": "stdout",
     "output_type": "stream",
     "text": [
      "\n"
     ]
    },
    {
     "data": {
      "text/plain": [
       "'data/clean/clean-comments-dou-projector-dede.txt'"
      ]
     },
     "metadata": {},
     "output_type": "display_data"
    },
    {
     "data": {
      "text/plain": [
       "[('work', 0.29677925754794332),\n",
       " ('moral-rights', 0.17368691571546346),\n",
       " ('living-conditions', 0.11701229865821558),\n",
       " ('fraud', 0.062412345673307591),\n",
       " ('cashflow', 0.061954811951237032),\n",
       " ('market-2', 0.053794784722376719)]"
      ]
     },
     "metadata": {},
     "output_type": "display_data"
    },
    {
     "name": "stdout",
     "output_type": "stream",
     "text": [
      "\n"
     ]
    },
    {
     "data": {
      "text/plain": [
       "'data/clean/clean-comments-dou-projector-easy2go.txt'"
      ]
     },
     "metadata": {},
     "output_type": "display_data"
    },
    {
     "data": {
      "text/plain": [
       "[('work', 0.29956404143719689),\n",
       " ('moral-rights', 0.177213128202446),\n",
       " ('living-conditions', 0.13474182849720795),\n",
       " ('relationships', 0.072391390339948944),\n",
       " ('market-2', 0.060776225887682299),\n",
       " ('tractor', 0.054977563961196185),\n",
       " ('mentor', 0.051540022844814716)]"
      ]
     },
     "metadata": {},
     "output_type": "display_data"
    },
    {
     "name": "stdout",
     "output_type": "stream",
     "text": [
      "\n"
     ]
    },
    {
     "data": {
      "text/plain": [
       "'data/clean/clean-comments-dou-projector-faciemo.txt'"
      ]
     },
     "metadata": {},
     "output_type": "display_data"
    },
    {
     "data": {
      "text/plain": [
       "[('work', 0.40388134395643832),\n",
       " ('relationships', 0.11267693646790521),\n",
       " ('living-conditions', 0.10320629385465936),\n",
       " ('moral-rights', 0.091793475107196473),\n",
       " ('market-2', 0.060430930425134317)]"
      ]
     },
     "metadata": {},
     "output_type": "display_data"
    },
    {
     "name": "stdout",
     "output_type": "stream",
     "text": [
      "\n"
     ]
    },
    {
     "data": {
      "text/plain": [
       "'data/clean/clean-comments-dou-projector-free-mind-today.txt'"
      ]
     },
     "metadata": {},
     "output_type": "display_data"
    },
    {
     "data": {
      "text/plain": [
       "[('work', 0.36611917903201269),\n",
       " ('moral-rights', 0.25637569073379407),\n",
       " ('living-conditions', 0.12832384380621023),\n",
       " ('tractor', 0.11015466989986746),\n",
       " ('cashflow', 0.071539242020409871)]"
      ]
     },
     "metadata": {},
     "output_type": "display_data"
    },
    {
     "name": "stdout",
     "output_type": "stream",
     "text": [
      "\n"
     ]
    },
    {
     "data": {
      "text/plain": [
       "'data/clean/clean-comments-dou-projector-healthcontroller.txt'"
      ]
     },
     "metadata": {},
     "output_type": "display_data"
    },
    {
     "data": {
      "text/plain": [
       "[('moral-rights', 0.38314489384618006),\n",
       " ('work', 0.26892380617634004),\n",
       " ('living-conditions', 0.058745949764752871),\n",
       " ('cashflow', 0.05083096758513167)]"
      ]
     },
     "metadata": {},
     "output_type": "display_data"
    },
    {
     "name": "stdout",
     "output_type": "stream",
     "text": [
      "\n"
     ]
    },
    {
     "data": {
      "text/plain": [
       "'data/clean/clean-comments-dou-projector-hryvna-today.txt'"
      ]
     },
     "metadata": {},
     "output_type": "display_data"
    },
    {
     "data": {
      "text/plain": [
       "[('work', 0.34898358688547138),\n",
       " ('moral-rights', 0.22189070693400884),\n",
       " ('living-conditions', 0.093011787967992823),\n",
       " ('tractor', 0.080971340505826217)]"
      ]
     },
     "metadata": {},
     "output_type": "display_data"
    },
    {
     "name": "stdout",
     "output_type": "stream",
     "text": [
      "\n"
     ]
    },
    {
     "data": {
      "text/plain": [
       "'data/clean/clean-comments-dou-projector-kuoll.txt'"
      ]
     },
     "metadata": {},
     "output_type": "display_data"
    },
    {
     "data": {
      "text/plain": [
       "[('relationships', 0.37407974114306058),\n",
       " ('cashflow', 0.2255789559215241),\n",
       " ('moral-rights', 0.16779518134896496),\n",
       " ('work', 0.13682008072659321),\n",
       " ('ukrainian', 0.062897754205398684)]"
      ]
     },
     "metadata": {},
     "output_type": "display_data"
    },
    {
     "name": "stdout",
     "output_type": "stream",
     "text": [
      "\n"
     ]
    },
    {
     "data": {
      "text/plain": [
       "'data/clean/clean-comments-dou-projector-kupitprodat.txt'"
      ]
     },
     "metadata": {},
     "output_type": "display_data"
    },
    {
     "data": {
      "text/plain": [
       "[('work', 0.32268265760029508),\n",
       " ('living-conditions', 0.14194158663345796),\n",
       " ('market-2', 0.10527084564083698),\n",
       " ('moral-rights', 0.10521359800639081),\n",
       " ('fraud', 0.078768174465245783),\n",
       " ('tractor', 0.056191054685427254),\n",
       " ('relationships', 0.052787679711953354)]"
      ]
     },
     "metadata": {},
     "output_type": "display_data"
    },
    {
     "name": "stdout",
     "output_type": "stream",
     "text": [
      "\n"
     ]
    },
    {
     "data": {
      "text/plain": [
       "'data/clean/clean-comments-dou-projector-mozaic.txt'"
      ]
     },
     "metadata": {},
     "output_type": "display_data"
    },
    {
     "data": {
      "text/plain": [
       "[('work', 0.52577470042551477),\n",
       " ('moral-rights', 0.19383444390613744),\n",
       " ('tractor', 0.081289375137170855),\n",
       " ('fraud', 0.066644903849728668),\n",
       " ('cashflow', 0.064602140877015754)]"
      ]
     },
     "metadata": {},
     "output_type": "display_data"
    },
    {
     "name": "stdout",
     "output_type": "stream",
     "text": [
      "\n"
     ]
    },
    {
     "data": {
      "text/plain": [
       "'data/clean/clean-comments-dou-projector-obd-car-doctor.txt'"
      ]
     },
     "metadata": {},
     "output_type": "display_data"
    },
    {
     "data": {
      "text/plain": [
       "[('work', 0.30701504163914128),\n",
       " ('moral-rights', 0.19856703530110481),\n",
       " ('living-conditions', 0.12778644805990313),\n",
       " ('tractor', 0.11258756504206961)]"
      ]
     },
     "metadata": {},
     "output_type": "display_data"
    },
    {
     "name": "stdout",
     "output_type": "stream",
     "text": [
      "\n"
     ]
    },
    {
     "data": {
      "text/plain": [
       "'data/clean/clean-comments-dou-projector-payment-ninja.txt'"
      ]
     },
     "metadata": {},
     "output_type": "display_data"
    },
    {
     "data": {
      "text/plain": [
       "[('work', 0.41001376062830103),\n",
       " ('living-conditions', 0.13505620866161197),\n",
       " ('moral-rights', 0.1327573919857071),\n",
       " ('tractor', 0.058639505671639607),\n",
       " ('market-2', 0.050203255333292326)]"
      ]
     },
     "metadata": {},
     "output_type": "display_data"
    },
    {
     "name": "stdout",
     "output_type": "stream",
     "text": [
      "\n"
     ]
    },
    {
     "data": {
      "text/plain": [
       "'data/clean/clean-comments-dou-projector-settory.txt'"
      ]
     },
     "metadata": {},
     "output_type": "display_data"
    },
    {
     "data": {
      "text/plain": [
       "[('work', 0.39039856739847723),\n",
       " ('moral-rights', 0.11801520008409123),\n",
       " ('living-conditions', 0.099308382035214693),\n",
       " ('tractor', 0.07484319367529986)]"
      ]
     },
     "metadata": {},
     "output_type": "display_data"
    },
    {
     "name": "stdout",
     "output_type": "stream",
     "text": [
      "\n"
     ]
    },
    {
     "data": {
      "text/plain": [
       "'data/clean/clean-comments-dou-projector-subscript.txt'"
      ]
     },
     "metadata": {},
     "output_type": "display_data"
    },
    {
     "data": {
      "text/plain": [
       "[('work', 0.55527273628232399),\n",
       " ('moral-rights', 0.19280874472802451),\n",
       " ('living-conditions', 0.063718106732129895),\n",
       " ('tractor', 0.060354665960142793)]"
      ]
     },
     "metadata": {},
     "output_type": "display_data"
    },
    {
     "name": "stdout",
     "output_type": "stream",
     "text": [
      "\n"
     ]
    },
    {
     "data": {
      "text/plain": [
       "'data/clean/clean-comments-dou-projector-svitmolodi.txt'"
      ]
     },
     "metadata": {},
     "output_type": "display_data"
    },
    {
     "data": {
      "text/plain": [
       "[('work', 0.37127003635994266),\n",
       " ('moral-rights', 0.2140169406795342),\n",
       " ('living-conditions', 0.19568141730656585),\n",
       " ('market-2', 0.10331038256196562),\n",
       " ('cashflow', 0.067059185593952866)]"
      ]
     },
     "metadata": {},
     "output_type": "display_data"
    },
    {
     "name": "stdout",
     "output_type": "stream",
     "text": [
      "\n"
     ]
    },
    {
     "data": {
      "text/plain": [
       "'data/clean/clean-comments-dou-projector-testcaselab.txt'"
      ]
     },
     "metadata": {},
     "output_type": "display_data"
    },
    {
     "data": {
      "text/plain": [
       "[('work', 0.31907846499001685),\n",
       " ('moral-rights', 0.1362227065908149),\n",
       " ('living-conditions', 0.11067566154280875),\n",
       " ('tractor', 0.083570739132232924),\n",
       " ('relationships', 0.07794436729871293),\n",
       " ('market-2', 0.064985823627494346)]"
      ]
     },
     "metadata": {},
     "output_type": "display_data"
    },
    {
     "name": "stdout",
     "output_type": "stream",
     "text": [
      "\n"
     ]
    },
    {
     "data": {
      "text/plain": [
       "'data/clean/clean-comments-edu-survey-2016.txt'"
      ]
     },
     "metadata": {},
     "output_type": "display_data"
    },
    {
     "data": {
      "text/plain": [
       "[('work', 0.30988768368179098),\n",
       " ('moral-rights', 0.18206951742786751),\n",
       " ('living-conditions', 0.09365673027202441),\n",
       " ('tractor', 0.089755663268322128),\n",
       " ('cashflow', 0.058989651806957831),\n",
       " ('relationships', 0.053661282098808126),\n",
       " ('mentor', 0.051114535401704464)]"
      ]
     },
     "metadata": {},
     "output_type": "display_data"
    },
    {
     "name": "stdout",
     "output_type": "stream",
     "text": [
      "\n"
     ]
    },
    {
     "data": {
      "text/plain": [
       "'data/clean/clean-comments-frontend-digest-13.txt'"
      ]
     },
     "metadata": {},
     "output_type": "display_data"
    },
    {
     "data": {
      "text/plain": [
       "[('work', 0.32916820244402761),\n",
       " ('moral-rights', 0.21898193734090463),\n",
       " ('living-conditions', 0.14870601838674322),\n",
       " ('recruitment', 0.073593701790428429),\n",
       " ('taxes', 0.058792828105604981),\n",
       " ('cashflow', 0.058211000871313749),\n",
       " ('tractor', 0.050525915502416856)]"
      ]
     },
     "metadata": {},
     "output_type": "display_data"
    },
    {
     "name": "stdout",
     "output_type": "stream",
     "text": [
      "\n"
     ]
    },
    {
     "data": {
      "text/plain": [
       "'data/clean/clean-comments-frontend-digest-14.txt'"
      ]
     },
     "metadata": {},
     "output_type": "display_data"
    },
    {
     "data": {
      "text/plain": [
       "[('relationships', 0.62840782651816751),\n",
       " ('recruitment', 0.21250718059348078),\n",
       " ('work', 0.10352943377665601)]"
      ]
     },
     "metadata": {},
     "output_type": "display_data"
    },
    {
     "name": "stdout",
     "output_type": "stream",
     "text": [
      "\n"
     ]
    },
    {
     "data": {
      "text/plain": [
       "'data/clean/clean-comments-frontend-digest-15.txt'"
      ]
     },
     "metadata": {},
     "output_type": "display_data"
    },
    {
     "data": {
      "text/plain": [
       "[('moral-rights', 0.41652259500666244),\n",
       " ('work', 0.33645932105498477),\n",
       " ('living-conditions', 0.09264045333289285),\n",
       " ('politics', 0.060354653766170212),\n",
       " ('mentor', 0.059631440132680978)]"
      ]
     },
     "metadata": {},
     "output_type": "display_data"
    },
    {
     "name": "stdout",
     "output_type": "stream",
     "text": [
      "\n"
     ]
    },
    {
     "data": {
      "text/plain": [
       "'data/clean/clean-comments-geohash.txt'"
      ]
     },
     "metadata": {},
     "output_type": "display_data"
    },
    {
     "data": {
      "text/plain": [
       "[('moral-rights', 0.33848536619971908),\n",
       " ('work', 0.26469409205946626),\n",
       " ('living-conditions', 0.097086784723383127),\n",
       " ('tractor', 0.079538033512362591)]"
      ]
     },
     "metadata": {},
     "output_type": "display_data"
    },
    {
     "name": "stdout",
     "output_type": "stream",
     "text": [
      "\n"
     ]
    },
    {
     "data": {
      "text/plain": [
       "'data/clean/clean-comments-hr-need.txt'"
      ]
     },
     "metadata": {},
     "output_type": "display_data"
    },
    {
     "data": {
      "text/plain": [
       "[('work', 0.35585089849754786),\n",
       " ('moral-rights', 0.14530692126813138),\n",
       " ('tractor', 0.11521218197073416),\n",
       " ('market-2', 0.088749919016444745),\n",
       " ('living-conditions', 0.086022472302639874),\n",
       " ('cashflow', 0.061244187071564586)]"
      ]
     },
     "metadata": {},
     "output_type": "display_data"
    },
    {
     "name": "stdout",
     "output_type": "stream",
     "text": [
      "\n"
     ]
    },
    {
     "data": {
      "text/plain": [
       "'data/clean/clean-comments-il-principe-2.txt'"
      ]
     },
     "metadata": {},
     "output_type": "display_data"
    },
    {
     "data": {
      "text/plain": [
       "[('work', 0.38846371315789124),\n",
       " ('moral-rights', 0.18040177712506936),\n",
       " ('living-conditions', 0.07311415193039765),\n",
       " ('cashflow', 0.069600875589751837),\n",
       " ('market-2', 0.065723220315997241),\n",
       " ('relationships', 0.062616653152538573),\n",
       " ('taxes', 0.053926468325014763)]"
      ]
     },
     "metadata": {},
     "output_type": "display_data"
    },
    {
     "name": "stdout",
     "output_type": "stream",
     "text": [
      "\n"
     ]
    },
    {
     "data": {
      "text/plain": [
       "'data/clean/clean-comments-il-principe.txt'"
      ]
     },
     "metadata": {},
     "output_type": "display_data"
    },
    {
     "data": {
      "text/plain": [
       "[('work', 0.34133050998873782),\n",
       " ('moral-rights', 0.20125430190868909),\n",
       " ('tractor', 0.12395760388388717),\n",
       " ('living-conditions', 0.11067745152755183)]"
      ]
     },
     "metadata": {},
     "output_type": "display_data"
    },
    {
     "name": "stdout",
     "output_type": "stream",
     "text": [
      "\n"
     ]
    },
    {
     "data": {
      "text/plain": [
       "'data/clean/clean-comments-it-career-249.txt'"
      ]
     },
     "metadata": {},
     "output_type": "display_data"
    },
    {
     "data": {
      "text/plain": [
       "[('work', 0.27456050827786399),\n",
       " ('moral-rights', 0.19134821515859932),\n",
       " ('relationships', 0.12843208535625172),\n",
       " ('tractor', 0.093590745573839923),\n",
       " ('living-conditions', 0.073866197077421661),\n",
       " ('market-2', 0.071444915559273792)]"
      ]
     },
     "metadata": {},
     "output_type": "display_data"
    },
    {
     "name": "stdout",
     "output_type": "stream",
     "text": [
      "\n"
     ]
    },
    {
     "data": {
      "text/plain": [
       "'data/clean/clean-comments-it-career-250.txt'"
      ]
     },
     "metadata": {},
     "output_type": "display_data"
    },
    {
     "data": {
      "text/plain": [
       "[('work', 0.3642625225054052),\n",
       " ('moral-rights', 0.26276974345626281),\n",
       " ('relationships', 0.081838085706117072),\n",
       " ('taxes', 0.07262666629178835),\n",
       " ('tractor', 0.065179867511723111),\n",
       " ('ukrainian', 0.053828441244061602)]"
      ]
     },
     "metadata": {},
     "output_type": "display_data"
    },
    {
     "name": "stdout",
     "output_type": "stream",
     "text": [
      "\n"
     ]
    },
    {
     "data": {
      "text/plain": [
       "'data/clean/clean-comments-it-career-252.txt'"
      ]
     },
     "metadata": {},
     "output_type": "display_data"
    },
    {
     "data": {
      "text/plain": [
       "[('work', 0.27280185937639284),\n",
       " ('moral-rights', 0.17191160070635905),\n",
       " ('tractor', 0.1429069769794534),\n",
       " ('living-conditions', 0.086601846274931379),\n",
       " ('cashflow', 0.066831368687667814),\n",
       " ('market-2', 0.06627081384991633),\n",
       " ('relationships', 0.055572226736923233)]"
      ]
     },
     "metadata": {},
     "output_type": "display_data"
    },
    {
     "name": "stdout",
     "output_type": "stream",
     "text": [
      "\n"
     ]
    },
    {
     "data": {
      "text/plain": [
       "'data/clean/clean-comments-it-career-254.txt'"
      ]
     },
     "metadata": {},
     "output_type": "display_data"
    },
    {
     "data": {
      "text/plain": [
       "[('work', 0.36977351572313061),\n",
       " ('moral-rights', 0.20518495185489138),\n",
       " ('relationships', 0.13823252748554166),\n",
       " ('tractor', 0.091983235250240908),\n",
       " ('market-2', 0.083912961580276765)]"
      ]
     },
     "metadata": {},
     "output_type": "display_data"
    },
    {
     "name": "stdout",
     "output_type": "stream",
     "text": [
      "\n"
     ]
    },
    {
     "data": {
      "text/plain": [
       "'data/clean/clean-comments-it-career-255.txt'"
      ]
     },
     "metadata": {},
     "output_type": "display_data"
    },
    {
     "data": {
      "text/plain": [
       "[('work', 0.33921971098562415),\n",
       " ('living-conditions', 0.17124661762046839),\n",
       " ('cashflow', 0.10467583341558054),\n",
       " ('market-2', 0.081833240161917564),\n",
       " ('moral-rights', 0.064909388348631178),\n",
       " ('ukrainian', 0.064389126865891613),\n",
       " ('taxes', 0.059553486640194934)]"
      ]
     },
     "metadata": {},
     "output_type": "display_data"
    },
    {
     "name": "stdout",
     "output_type": "stream",
     "text": [
      "\n"
     ]
    },
    {
     "data": {
      "text/plain": [
       "'data/clean/clean-comments-it-career-256.txt'"
      ]
     },
     "metadata": {},
     "output_type": "display_data"
    },
    {
     "data": {
      "text/plain": [
       "[('living-conditions', 0.27187004418426286),\n",
       " ('market-2', 0.15135401734949175),\n",
       " ('cashflow', 0.13756310468108704),\n",
       " ('politics', 0.13540983412219493),\n",
       " ('ukrainian', 0.10712643641381675),\n",
       " ('fraud', 0.095538410210023905),\n",
       " ('mentor', 0.062943705089172616)]"
      ]
     },
     "metadata": {},
     "output_type": "display_data"
    },
    {
     "name": "stdout",
     "output_type": "stream",
     "text": [
      "\n"
     ]
    },
    {
     "data": {
      "text/plain": [
       "'data/clean/clean-comments-it-career-257.txt'"
      ]
     },
     "metadata": {},
     "output_type": "display_data"
    },
    {
     "data": {
      "text/plain": [
       "[('work', 0.26663353357417485),\n",
       " ('relationships', 0.16739676761048061),\n",
       " ('moral-rights', 0.16230031942448916),\n",
       " ('tractor', 0.11077006313782169),\n",
       " ('ukrainian', 0.064804249711431089),\n",
       " ('fraud', 0.063977698978372133),\n",
       " ('living-conditions', 0.061910068223350635),\n",
       " ('cashflow', 0.055626911903228819)]"
      ]
     },
     "metadata": {},
     "output_type": "display_data"
    },
    {
     "name": "stdout",
     "output_type": "stream",
     "text": [
      "\n"
     ]
    },
    {
     "data": {
      "text/plain": [
       "'data/clean/clean-comments-it-career-258.txt'"
      ]
     },
     "metadata": {},
     "output_type": "display_data"
    },
    {
     "data": {
      "text/plain": [
       "[('moral-rights', 0.25299803680677352),\n",
       " ('work', 0.20148881950945177),\n",
       " ('market-2', 0.19571639485705666),\n",
       " ('tractor', 0.1777106221495762),\n",
       " ('mentor', 0.070778922349755552),\n",
       " ('qa', 0.062091514138608209)]"
      ]
     },
     "metadata": {},
     "output_type": "display_data"
    },
    {
     "name": "stdout",
     "output_type": "stream",
     "text": [
      "\n"
     ]
    },
    {
     "data": {
      "text/plain": [
       "'data/clean/clean-comments-it-career-259.txt'"
      ]
     },
     "metadata": {},
     "output_type": "display_data"
    },
    {
     "data": {
      "text/plain": [
       "[('tractor', 0.2491439796418054),\n",
       " ('work', 0.22890374424831511),\n",
       " ('market-2', 0.10828473377979911),\n",
       " ('cashflow', 0.10539280751561933),\n",
       " ('relationships', 0.094843256973569531),\n",
       " ('moral-rights', 0.094314179237349319),\n",
       " ('knowledge', 0.069142854090625344)]"
      ]
     },
     "metadata": {},
     "output_type": "display_data"
    },
    {
     "name": "stdout",
     "output_type": "stream",
     "text": [
      "\n"
     ]
    },
    {
     "data": {
      "text/plain": [
       "'data/clean/clean-comments-it-career-260.txt'"
      ]
     },
     "metadata": {},
     "output_type": "display_data"
    },
    {
     "data": {
      "text/plain": [
       "[('work', 0.40867032078880411),\n",
       " ('ukrainian', 0.15243115047957204),\n",
       " ('market-2', 0.14607541028253465),\n",
       " ('mentor', 0.11607212985393181),\n",
       " ('cashflow', 0.072346348546530381),\n",
       " ('knowledge', 0.067367597605814983)]"
      ]
     },
     "metadata": {},
     "output_type": "display_data"
    },
    {
     "name": "stdout",
     "output_type": "stream",
     "text": [
      "\n"
     ]
    },
    {
     "data": {
      "text/plain": [
       "'data/clean/clean-comments-it-career-261.txt'"
      ]
     },
     "metadata": {},
     "output_type": "display_data"
    },
    {
     "data": {
      "text/plain": [
       "[('moral-rights', 0.2594713262359345),\n",
       " ('work', 0.23529685084934421),\n",
       " ('relationships', 0.15865622799936063),\n",
       " ('living-conditions', 0.12229196880430898),\n",
       " ('mentor', 0.088260071135217028),\n",
       " ('cashflow', 0.056590495017587637)]"
      ]
     },
     "metadata": {},
     "output_type": "display_data"
    },
    {
     "name": "stdout",
     "output_type": "stream",
     "text": [
      "\n"
     ]
    },
    {
     "data": {
      "text/plain": [
       "'data/clean/clean-comments-it-career-262.txt'"
      ]
     },
     "metadata": {},
     "output_type": "display_data"
    },
    {
     "data": {
      "text/plain": [
       "[('work', 0.27318135803428312),\n",
       " ('living-conditions', 0.17136883837843511),\n",
       " ('moral-rights', 0.15175993848342809),\n",
       " ('tractor', 0.10377189472319562),\n",
       " ('market-2', 0.097150993482813697),\n",
       " ('mentor', 0.069166176594735118)]"
      ]
     },
     "metadata": {},
     "output_type": "display_data"
    },
    {
     "name": "stdout",
     "output_type": "stream",
     "text": [
      "\n"
     ]
    },
    {
     "data": {
      "text/plain": [
       "'data/clean/clean-comments-it-career-263.txt'"
      ]
     },
     "metadata": {},
     "output_type": "display_data"
    },
    {
     "data": {
      "text/plain": [
       "[('living-conditions', 0.28267785017154484),\n",
       " ('moral-rights', 0.23512982581798605),\n",
       " ('taxes', 0.14966128750706875),\n",
       " ('ukrainian', 0.10686842256266266),\n",
       " ('work', 0.083395362793121638),\n",
       " ('mentor', 0.072582179859092821)]"
      ]
     },
     "metadata": {},
     "output_type": "display_data"
    },
    {
     "name": "stdout",
     "output_type": "stream",
     "text": [
      "\n"
     ]
    },
    {
     "data": {
      "text/plain": [
       "'data/clean/clean-comments-it-career-264.txt'"
      ]
     },
     "metadata": {},
     "output_type": "display_data"
    },
    {
     "data": {
      "text/plain": [
       "[('work', 0.26007287010485991),\n",
       " ('living-conditions', 0.24803836271822452),\n",
       " ('moral-rights', 0.11677600327441841),\n",
       " ('market-2', 0.086491020598684437),\n",
       " ('cashflow', 0.062306731413694666),\n",
       " ('taxes', 0.054030258417476107)]"
      ]
     },
     "metadata": {},
     "output_type": "display_data"
    },
    {
     "name": "stdout",
     "output_type": "stream",
     "text": [
      "\n"
     ]
    },
    {
     "data": {
      "text/plain": [
       "'data/clean/clean-comments-it-career-265.txt'"
      ]
     },
     "metadata": {},
     "output_type": "display_data"
    },
    {
     "data": {
      "text/plain": [
       "[('market-1', 0.055555555555555539),\n",
       " ('taxes', 0.055555555555555539),\n",
       " ('mentor', 0.055555555555555539),\n",
       " ('qa', 0.055555555555555539),\n",
       " ('fraud', 0.055555555555555539),\n",
       " ('ukrainian', 0.055555555555555539),\n",
       " ('courses', 0.055555555555555539),\n",
       " ('recruitment', 0.055555555555555539),\n",
       " ('edu-corruption', 0.055555555555555539),\n",
       " ('living-conditions', 0.055555555555555539),\n",
       " ('cashflow', 0.055555555555555539),\n",
       " ('knowledge', 0.055555555555555539),\n",
       " ('tractor', 0.055555555555555539),\n",
       " ('market-2', 0.055555555555555539),\n",
       " ('moral-rights', 0.055555555555555539),\n",
       " ('politics', 0.055555555555555539),\n",
       " ('work', 0.055555555555555539),\n",
       " ('relationships', 0.055555555555555539)]"
      ]
     },
     "metadata": {},
     "output_type": "display_data"
    },
    {
     "name": "stdout",
     "output_type": "stream",
     "text": [
      "\n"
     ]
    },
    {
     "data": {
      "text/plain": [
       "'data/clean/clean-comments-it-events.txt'"
      ]
     },
     "metadata": {},
     "output_type": "display_data"
    },
    {
     "data": {
      "text/plain": [
       "[('work', 0.32646113353198475),\n",
       " ('moral-rights', 0.13125989531420604),\n",
       " ('tractor', 0.10858168328676525),\n",
       " ('living-conditions', 0.10746265834566154),\n",
       " ('market-2', 0.061015648149132205)]"
      ]
     },
     "metadata": {},
     "output_type": "display_data"
    },
    {
     "name": "stdout",
     "output_type": "stream",
     "text": [
      "\n"
     ]
    },
    {
     "data": {
      "text/plain": [
       "'data/clean/clean-comments-it-for-economy-lifting.txt'"
      ]
     },
     "metadata": {},
     "output_type": "display_data"
    },
    {
     "data": {
      "text/plain": [
       "[('work', 0.34128656062041107),\n",
       " ('moral-rights', 0.18625878868646689),\n",
       " ('living-conditions', 0.10766757755142903),\n",
       " ('tractor', 0.061429926198739819),\n",
       " ('relationships', 0.059739666911107776)]"
      ]
     },
     "metadata": {},
     "output_type": "display_data"
    },
    {
     "name": "stdout",
     "output_type": "stream",
     "text": [
      "\n"
     ]
    },
    {
     "data": {
      "text/plain": [
       "'data/clean/clean-comments-it-recruit.txt'"
      ]
     },
     "metadata": {},
     "output_type": "display_data"
    },
    {
     "data": {
      "text/plain": [
       "[('work', 0.3651883319463532),\n",
       " ('moral-rights', 0.18010372054786636),\n",
       " ('tractor', 0.086106465191519543),\n",
       " ('mentor', 0.069761917726652814),\n",
       " ('market-2', 0.059510202275152795),\n",
       " ('living-conditions', 0.050360966938330962),\n",
       " ('cashflow', 0.050035813230980469)]"
      ]
     },
     "metadata": {},
     "output_type": "display_data"
    },
    {
     "name": "stdout",
     "output_type": "stream",
     "text": [
      "\n"
     ]
    },
    {
     "data": {
      "text/plain": [
       "'data/clean/clean-comments-java-digest-23.txt'"
      ]
     },
     "metadata": {},
     "output_type": "display_data"
    },
    {
     "data": {
      "text/plain": [
       "[('work', 0.30188106419585647),\n",
       " ('tractor', 0.14233645159618766),\n",
       " ('moral-rights', 0.14167767267439094),\n",
       " ('relationships', 0.11665006800944069),\n",
       " ('living-conditions', 0.056027872294639042)]"
      ]
     },
     "metadata": {},
     "output_type": "display_data"
    },
    {
     "name": "stdout",
     "output_type": "stream",
     "text": [
      "\n"
     ]
    },
    {
     "data": {
      "text/plain": [
       "'data/clean/clean-comments-java-digest-24.txt'"
      ]
     },
     "metadata": {},
     "output_type": "display_data"
    },
    {
     "data": {
      "text/plain": [
       "[('work', 0.32126034760397165),\n",
       " ('cashflow', 0.18796929540100646),\n",
       " ('taxes', 0.12337074797519705),\n",
       " ('relationships', 0.088364367247968076),\n",
       " ('tractor', 0.082528081682810187),\n",
       " ('market-2', 0.067864596590241036),\n",
       " ('moral-rights', 0.064031540824219801),\n",
       " ('fraud', 0.052265342361603476)]"
      ]
     },
     "metadata": {},
     "output_type": "display_data"
    },
    {
     "name": "stdout",
     "output_type": "stream",
     "text": [
      "\n"
     ]
    },
    {
     "data": {
      "text/plain": [
       "'data/clean/clean-comments-java-digest-25.txt'"
      ]
     },
     "metadata": {},
     "output_type": "display_data"
    },
    {
     "data": {
      "text/plain": [
       "[('work', 0.37236296549051151),\n",
       " ('taxes', 0.21303443637548081),\n",
       " ('relationships', 0.14948678477158167),\n",
       " ('market-2', 0.12192993757085988),\n",
       " ('recruitment', 0.10070220808469346)]"
      ]
     },
     "metadata": {},
     "output_type": "display_data"
    },
    {
     "name": "stdout",
     "output_type": "stream",
     "text": [
      "\n"
     ]
    },
    {
     "data": {
      "text/plain": [
       "'data/clean/clean-comments-java-serialization.txt'"
      ]
     },
     "metadata": {},
     "output_type": "display_data"
    },
    {
     "data": {
      "text/plain": [
       "[('taxes', 0.23489591971415541),\n",
       " ('work', 0.23251253265522021),\n",
       " ('recruitment', 0.093245892315801993),\n",
       " ('tractor', 0.084654519074166851),\n",
       " ('living-conditions', 0.07446063442738364),\n",
       " ('moral-rights', 0.053416731024719374)]"
      ]
     },
     "metadata": {},
     "output_type": "display_data"
    },
    {
     "name": "stdout",
     "output_type": "stream",
     "text": [
      "\n"
     ]
    },
    {
     "data": {
      "text/plain": [
       "'data/clean/clean-comments-junior-digest-4.txt'"
      ]
     },
     "metadata": {},
     "output_type": "display_data"
    },
    {
     "data": {
      "text/plain": [
       "[('work', 0.33913324624955177),\n",
       " ('taxes', 0.17961741954462285),\n",
       " ('living-conditions', 0.080565907252254904),\n",
       " ('tractor', 0.075270400125726528),\n",
       " ('cashflow', 0.069831601855083955),\n",
       " ('moral-rights', 0.068012861505132666),\n",
       " ('relationships', 0.053169412135162429)]"
      ]
     },
     "metadata": {},
     "output_type": "display_data"
    },
    {
     "name": "stdout",
     "output_type": "stream",
     "text": [
      "\n"
     ]
    },
    {
     "data": {
      "text/plain": [
       "'data/clean/clean-comments-junior-digest-5.txt'"
      ]
     },
     "metadata": {},
     "output_type": "display_data"
    },
    {
     "data": {
      "text/plain": [
       "[('work', 0.3557573777232898),\n",
       " ('tractor', 0.18157558951040112),\n",
       " ('living-conditions', 0.12036122968744456),\n",
       " ('taxes', 0.074740064121692984),\n",
       " ('cashflow', 0.055004822832269595),\n",
       " ('fraud', 0.051702573432212628)]"
      ]
     },
     "metadata": {},
     "output_type": "display_data"
    },
    {
     "name": "stdout",
     "output_type": "stream",
     "text": [
      "\n"
     ]
    },
    {
     "data": {
      "text/plain": [
       "'data/clean/clean-comments-junior-digest-6.txt'"
      ]
     },
     "metadata": {},
     "output_type": "display_data"
    },
    {
     "data": {
      "text/plain": [
       "[('work', 0.35977234078277232),\n",
       " ('taxes', 0.11809209259672297),\n",
       " ('tractor', 0.094480896809834916),\n",
       " ('moral-rights', 0.077678907964109173),\n",
       " ('market-2', 0.066980184556863859),\n",
       " ('cashflow', 0.06307973537285573),\n",
       " ('living-conditions', 0.054490368202356358)]"
      ]
     },
     "metadata": {},
     "output_type": "display_data"
    },
    {
     "name": "stdout",
     "output_type": "stream",
     "text": [
      "\n"
     ]
    },
    {
     "data": {
      "text/plain": [
       "'data/clean/clean-comments-junior-digest-7.txt'"
      ]
     },
     "metadata": {},
     "output_type": "display_data"
    },
    {
     "data": {
      "text/plain": [
       "[('work', 0.35079208472052142),\n",
       " ('taxes', 0.13450302081766116),\n",
       " ('tractor', 0.11686009345650496),\n",
       " ('living-conditions', 0.11231048316202123),\n",
       " ('moral-rights', 0.058646141609871472),\n",
       " ('market-2', 0.051820717199520104)]"
      ]
     },
     "metadata": {},
     "output_type": "display_data"
    },
    {
     "name": "stdout",
     "output_type": "stream",
     "text": [
      "\n"
     ]
    },
    {
     "data": {
      "text/plain": [
       "'data/clean/clean-comments-juniors-2015.txt'"
      ]
     },
     "metadata": {},
     "output_type": "display_data"
    },
    {
     "data": {
      "text/plain": [
       "[('work', 0.37576329159784122),\n",
       " ('tractor', 0.13172964508974111),\n",
       " ('living-conditions', 0.085412043196361337),\n",
       " ('market-2', 0.074536525940322104),\n",
       " ('taxes', 0.069003453184343561),\n",
       " ('moral-rights', 0.059882045669423123),\n",
       " ('relationships', 0.05444628080377531)]"
      ]
     },
     "metadata": {},
     "output_type": "display_data"
    },
    {
     "name": "stdout",
     "output_type": "stream",
     "text": [
      "\n"
     ]
    },
    {
     "data": {
      "text/plain": [
       "'data/clean/clean-comments-lang-uk.txt'"
      ]
     },
     "metadata": {},
     "output_type": "display_data"
    },
    {
     "data": {
      "text/plain": [
       "[('work', 0.46588106803945067),\n",
       " ('living-conditions', 0.088459698109191423),\n",
       " ('taxes', 0.069940737658587465),\n",
       " ('moral-rights', 0.063991124492472143),\n",
       " ('relationships', 0.058007456580016263),\n",
       " ('cashflow', 0.054913934169383942)]"
      ]
     },
     "metadata": {},
     "output_type": "display_data"
    },
    {
     "name": "stdout",
     "output_type": "stream",
     "text": [
      "\n"
     ]
    },
    {
     "data": {
      "text/plain": [
       "'data/clean/clean-comments-level-of-abstraction.txt'"
      ]
     },
     "metadata": {},
     "output_type": "display_data"
    },
    {
     "data": {
      "text/plain": [
       "[('work', 0.40640450698686198),\n",
       " ('tractor', 0.10744403620929138),\n",
       " ('moral-rights', 0.095869208908422349),\n",
       " ('cashflow', 0.083630820036070599),\n",
       " ('living-conditions', 0.068935804539574527),\n",
       " ('relationships', 0.063852147146896049),\n",
       " ('market-2', 0.055643612993432838)]"
      ]
     },
     "metadata": {},
     "output_type": "display_data"
    },
    {
     "name": "stdout",
     "output_type": "stream",
     "text": [
      "\n"
     ]
    },
    {
     "data": {
      "text/plain": [
       "'data/clean/clean-comments-liskov-substitution-principle.txt'"
      ]
     },
     "metadata": {},
     "output_type": "display_data"
    },
    {
     "data": {
      "text/plain": [
       "[('work', 0.39142889781900225),\n",
       " ('tractor', 0.10753584559137827),\n",
       " ('living-conditions', 0.099927229625272437),\n",
       " ('moral-rights', 0.084271835055830094),\n",
       " ('cashflow', 0.073614871381692579)]"
      ]
     },
     "metadata": {},
     "output_type": "display_data"
    },
    {
     "name": "stdout",
     "output_type": "stream",
     "text": [
      "\n"
     ]
    },
    {
     "data": {
      "text/plain": [
       "'data/clean/clean-comments-mars-hopper.txt'"
      ]
     },
     "metadata": {},
     "output_type": "display_data"
    },
    {
     "data": {
      "text/plain": [
       "[('work', 0.42175019639125938),\n",
       " ('living-conditions', 0.14462420178852034),\n",
       " ('tractor', 0.12235822438622487),\n",
       " ('cashflow', 0.069646024340448698),\n",
       " ('relationships', 0.055228380063869022)]"
      ]
     },
     "metadata": {},
     "output_type": "display_data"
    },
    {
     "name": "stdout",
     "output_type": "stream",
     "text": [
      "\n"
     ]
    },
    {
     "data": {
      "text/plain": [
       "'data/clean/clean-comments-net-digest-10.txt'"
      ]
     },
     "metadata": {},
     "output_type": "display_data"
    },
    {
     "data": {
      "text/plain": [
       "[('work', 0.3143064895429995),\n",
       " ('tractor', 0.10954946359860036),\n",
       " ('moral-rights', 0.10542709466064057),\n",
       " ('living-conditions', 0.096016484616197162),\n",
       " ('taxes', 0.074787162118755066),\n",
       " ('cashflow', 0.074226725536145857),\n",
       " ('market-2', 0.055098320667704898),\n",
       " ('relationships', 0.05472907996911542)]"
      ]
     },
     "metadata": {},
     "output_type": "display_data"
    },
    {
     "name": "stdout",
     "output_type": "stream",
     "text": [
      "\n"
     ]
    },
    {
     "data": {
      "text/plain": [
       "'data/clean/clean-comments-net-digest-11.txt'"
      ]
     },
     "metadata": {},
     "output_type": "display_data"
    },
    {
     "data": {
      "text/plain": [
       "[('work', 0.37925932363871584),\n",
       " ('tractor', 0.11518608901250325),\n",
       " ('moral-rights', 0.093358718875196423),\n",
       " ('living-conditions', 0.080482642331491619),\n",
       " ('cashflow', 0.07312213899298016),\n",
       " ('market-2', 0.053319550011658133)]"
      ]
     },
     "metadata": {},
     "output_type": "display_data"
    },
    {
     "name": "stdout",
     "output_type": "stream",
     "text": [
      "\n"
     ]
    },
    {
     "data": {
      "text/plain": [
       "'data/clean/clean-comments-new-ceo-luxoft-ukraine.txt'"
      ]
     },
     "metadata": {},
     "output_type": "display_data"
    },
    {
     "data": {
      "text/plain": [
       "[('work', 0.35360550086036546),\n",
       " ('living-conditions', 0.099916008546193757),\n",
       " ('moral-rights', 0.078545473201111118),\n",
       " ('relationships', 0.069136455569472482),\n",
       " ('cashflow', 0.065659104241656691),\n",
       " ('tractor', 0.064172223426156125),\n",
       " ('market-2', 0.058564058026933888),\n",
       " ('taxes', 0.057145833373344043),\n",
       " ('ukrainian', 0.05354507585795832)]"
      ]
     },
     "metadata": {},
     "output_type": "display_data"
    },
    {
     "name": "stdout",
     "output_type": "stream",
     "text": [
      "\n"
     ]
    },
    {
     "data": {
      "text/plain": [
       "'data/clean/clean-comments-new-it-specializations.txt'"
      ]
     },
     "metadata": {},
     "output_type": "display_data"
    },
    {
     "data": {
      "text/plain": [
       "[('work', 0.37927060838888793),\n",
       " ('tractor', 0.10897098943351663),\n",
       " ('living-conditions', 0.097011702100505984),\n",
       " ('moral-rights', 0.074432530855986223),\n",
       " ('relationships', 0.07264802612536643),\n",
       " ('cashflow', 0.056366380959982476),\n",
       " ('market-2', 0.052811795056056085)]"
      ]
     },
     "metadata": {},
     "output_type": "display_data"
    },
    {
     "name": "stdout",
     "output_type": "stream",
     "text": [
      "\n"
     ]
    },
    {
     "data": {
      "text/plain": [
       "'data/clean/clean-comments-norway.txt'"
      ]
     },
     "metadata": {},
     "output_type": "display_data"
    },
    {
     "data": {
      "text/plain": [
       "[('work', 0.3995692389644856),\n",
       " ('living-conditions', 0.090210120296263296),\n",
       " ('tractor', 0.085953801391519327),\n",
       " ('cashflow', 0.064079573378312382),\n",
       " ('taxes', 0.062644981733703642),\n",
       " ('relationships', 0.052632714086124542)]"
      ]
     },
     "metadata": {},
     "output_type": "display_data"
    },
    {
     "name": "stdout",
     "output_type": "stream",
     "text": [
      "\n"
     ]
    },
    {
     "data": {
      "text/plain": [
       "'data/clean/clean-comments-online-vs-offline-education.txt'"
      ]
     },
     "metadata": {},
     "output_type": "display_data"
    },
    {
     "data": {
      "text/plain": [
       "[('work', 0.43283268521419055),\n",
       " ('living-conditions', 0.093008891856044953),\n",
       " ('moral-rights', 0.077916530943091006),\n",
       " ('tractor', 0.066545097976611928),\n",
       " ('market-2', 0.054205295481471988),\n",
       " ('cashflow', 0.053121659596818666),\n",
       " ('relationships', 0.050359986035836218)]"
      ]
     },
     "metadata": {},
     "output_type": "display_data"
    },
    {
     "name": "stdout",
     "output_type": "stream",
     "text": [
      "\n"
     ]
    },
    {
     "data": {
      "text/plain": [
       "'data/clean/clean-comments-oracle-jpa.txt'"
      ]
     },
     "metadata": {},
     "output_type": "display_data"
    },
    {
     "data": {
      "text/plain": [
       "[('work', 0.42058820323634932),\n",
       " ('living-conditions', 0.19965708857951428),\n",
       " ('mentor', 0.075212806685876127),\n",
       " ('recruitment', 0.063103609983056988),\n",
       " ('tractor', 0.05611429313482779)]"
      ]
     },
     "metadata": {},
     "output_type": "display_data"
    },
    {
     "name": "stdout",
     "output_type": "stream",
     "text": [
      "\n"
     ]
    },
    {
     "data": {
      "text/plain": [
       "'data/clean/clean-comments-orwell-vs-huxley.txt'"
      ]
     },
     "metadata": {},
     "output_type": "display_data"
    },
    {
     "data": {
      "text/plain": [
       "[('work', 0.49933270843133526),\n",
       " ('living-conditions', 0.099070425322202213),\n",
       " ('moral-rights', 0.089229158999962338)]"
      ]
     },
     "metadata": {},
     "output_type": "display_data"
    },
    {
     "name": "stdout",
     "output_type": "stream",
     "text": [
      "\n"
     ]
    },
    {
     "data": {
      "text/plain": [
       "'data/clean/clean-comments-outsourcing.txt'"
      ]
     },
     "metadata": {},
     "output_type": "display_data"
    },
    {
     "data": {
      "text/plain": [
       "[('work', 0.41156573833290139),\n",
       " ('living-conditions', 0.10791013309192016),\n",
       " ('moral-rights', 0.091074260816425584),\n",
       " ('tractor', 0.078785502351543885),\n",
       " ('cashflow', 0.058914440494931705),\n",
       " ('market-2', 0.050601269515731406)]"
      ]
     },
     "metadata": {},
     "output_type": "display_data"
    },
    {
     "name": "stdout",
     "output_type": "stream",
     "text": [
      "\n"
     ]
    },
    {
     "data": {
      "text/plain": [
       "'data/clean/clean-comments-portrait-2016.txt'"
      ]
     },
     "metadata": {},
     "output_type": "display_data"
    },
    {
     "data": {
      "text/plain": [
       "[('work', 0.40056212578311512),\n",
       " ('living-conditions', 0.11227583204676883),\n",
       " ('relationships', 0.089477633938489912),\n",
       " ('moral-rights', 0.081344356995395523),\n",
       " ('mentor', 0.078150453006180814),\n",
       " ('market-2', 0.05432856911140227),\n",
       " ('tractor', 0.050146365281731296)]"
      ]
     },
     "metadata": {},
     "output_type": "display_data"
    },
    {
     "name": "stdout",
     "output_type": "stream",
     "text": [
      "\n"
     ]
    },
    {
     "data": {
      "text/plain": [
       "'data/clean/clean-comments-postindustrial-education.txt'"
      ]
     },
     "metadata": {},
     "output_type": "display_data"
    },
    {
     "data": {
      "text/plain": [
       "[('work', 0.33439608106510194),\n",
       " ('living-conditions', 0.11180306736010234),\n",
       " ('moral-rights', 0.10354069962495652),\n",
       " ('relationships', 0.082780768864835014),\n",
       " ('mentor', 0.069497861842321096),\n",
       " ('cashflow', 0.067629508193913793),\n",
       " ('tractor', 0.064120363270910946),\n",
       " ('market-2', 0.05309620551698313)]"
      ]
     },
     "metadata": {},
     "output_type": "display_data"
    },
    {
     "name": "stdout",
     "output_type": "stream",
     "text": [
      "\n"
     ]
    },
    {
     "data": {
      "text/plain": [
       "'data/clean/clean-comments-product-in-outsourcing.txt'"
      ]
     },
     "metadata": {},
     "output_type": "display_data"
    },
    {
     "data": {
      "text/plain": [
       "[('work', 0.36083686746126709),\n",
       " ('living-conditions', 0.24619284527889523),\n",
       " ('moral-rights', 0.078194953447905405),\n",
       " ('cashflow', 0.055435224572954175)]"
      ]
     },
     "metadata": {},
     "output_type": "display_data"
    },
    {
     "name": "stdout",
     "output_type": "stream",
     "text": [
      "\n"
     ]
    },
    {
     "data": {
      "text/plain": [
       "'data/clean/clean-comments-product-inside-service.txt'"
      ]
     },
     "metadata": {},
     "output_type": "display_data"
    },
    {
     "data": {
      "text/plain": [
       "[('work', 0.31909868630916388),\n",
       " ('living-conditions', 0.17136830013828114),\n",
       " ('cashflow', 0.096071146162383714),\n",
       " ('fraud', 0.064464568722020318),\n",
       " ('moral-rights', 0.062944911872603038),\n",
       " ('tractor', 0.058255775772748951),\n",
       " ('market-2', 0.05769092998532744),\n",
       " ('politics', 0.050181466760614399)]"
      ]
     },
     "metadata": {},
     "output_type": "display_data"
    },
    {
     "name": "stdout",
     "output_type": "stream",
     "text": [
      "\n"
     ]
    },
    {
     "data": {
      "text/plain": [
       "'data/clean/clean-comments-prof-it.txt'"
      ]
     },
     "metadata": {},
     "output_type": "display_data"
    },
    {
     "data": {
      "text/plain": [
       "[('work', 0.33847551314828139),\n",
       " ('living-conditions', 0.16450645283733945),\n",
       " ('tractor', 0.093398317456461738),\n",
       " ('relationships', 0.06781750436581814),\n",
       " ('market-2', 0.064488163006609797),\n",
       " ('cashflow', 0.063290422946884597),\n",
       " ('moral-rights', 0.062474895238605548)]"
      ]
     },
     "metadata": {},
     "output_type": "display_data"
    },
    {
     "name": "stdout",
     "output_type": "stream",
     "text": [
      "\n"
     ]
    },
    {
     "data": {
      "text/plain": [
       "'data/clean/clean-comments-python-digest-7.txt'"
      ]
     },
     "metadata": {},
     "output_type": "display_data"
    },
    {
     "data": {
      "text/plain": [
       "[('market-1', 0.055555555555555539),\n",
       " ('taxes', 0.055555555555555539),\n",
       " ('mentor', 0.055555555555555539),\n",
       " ('qa', 0.055555555555555539),\n",
       " ('fraud', 0.055555555555555539),\n",
       " ('ukrainian', 0.055555555555555539),\n",
       " ('courses', 0.055555555555555539),\n",
       " ('recruitment', 0.055555555555555539),\n",
       " ('edu-corruption', 0.055555555555555539),\n",
       " ('living-conditions', 0.055555555555555539),\n",
       " ('cashflow', 0.055555555555555539),\n",
       " ('knowledge', 0.055555555555555539),\n",
       " ('tractor', 0.055555555555555539),\n",
       " ('market-2', 0.055555555555555539),\n",
       " ('moral-rights', 0.055555555555555539),\n",
       " ('politics', 0.055555555555555539),\n",
       " ('work', 0.055555555555555539),\n",
       " ('relationships', 0.055555555555555539)]"
      ]
     },
     "metadata": {},
     "output_type": "display_data"
    },
    {
     "name": "stdout",
     "output_type": "stream",
     "text": [
      "\n"
     ]
    },
    {
     "data": {
      "text/plain": [
       "'data/clean/clean-comments-qa-digest-17.txt'"
      ]
     },
     "metadata": {},
     "output_type": "display_data"
    },
    {
     "data": {
      "text/plain": [
       "[('work', 0.20196101943369674),\n",
       " ('living-conditions', 0.16501230398430047),\n",
       " ('taxes', 0.14899625720420753),\n",
       " ('mentor', 0.11844719738098257),\n",
       " ('recruitment', 0.095137066561994596),\n",
       " ('tractor', 0.068701989906843675),\n",
       " ('moral-rights', 0.065190650720825763),\n",
       " ('cashflow', 0.056882111793644996)]"
      ]
     },
     "metadata": {},
     "output_type": "display_data"
    },
    {
     "name": "stdout",
     "output_type": "stream",
     "text": [
      "\n"
     ]
    },
    {
     "data": {
      "text/plain": [
       "'data/clean/clean-comments-qa-digest-18.txt'"
      ]
     },
     "metadata": {},
     "output_type": "display_data"
    },
    {
     "data": {
      "text/plain": [
       "[('work', 0.50871783692057138),\n",
       " ('cashflow', 0.1615162226508618),\n",
       " ('taxes', 0.10954186432390479),\n",
       " ('ukrainian', 0.1022914402339969),\n",
       " ('living-conditions', 0.083541098183484569)]"
      ]
     },
     "metadata": {},
     "output_type": "display_data"
    },
    {
     "name": "stdout",
     "output_type": "stream",
     "text": [
      "\n"
     ]
    },
    {
     "data": {
      "text/plain": [
       "'data/clean/clean-comments-qa-digest-19.txt'"
      ]
     },
     "metadata": {},
     "output_type": "display_data"
    },
    {
     "data": {
      "text/plain": [
       "[('work', 0.49167521785008927),\n",
       " ('living-conditions', 0.24917516604333556),\n",
       " ('taxes', 0.13481897353455558)]"
      ]
     },
     "metadata": {},
     "output_type": "display_data"
    },
    {
     "name": "stdout",
     "output_type": "stream",
     "text": [
      "\n"
     ]
    },
    {
     "data": {
      "text/plain": [
       "'data/clean/clean-comments-refactor-ua.txt'"
      ]
     },
     "metadata": {},
     "output_type": "display_data"
    },
    {
     "data": {
      "text/plain": [
       "[('work', 0.31685287680224022),\n",
       " ('living-conditions', 0.14242801112174822),\n",
       " ('moral-rights', 0.099975225897512746),\n",
       " ('tractor', 0.062068368014402103),\n",
       " ('recruitment', 0.053201510041177742),\n",
       " ('fraud', 0.051525192975931465)]"
      ]
     },
     "metadata": {},
     "output_type": "display_data"
    },
    {
     "name": "stdout",
     "output_type": "stream",
     "text": [
      "\n"
     ]
    },
    {
     "data": {
      "text/plain": [
       "'data/clean/clean-comments-remote-job.txt'"
      ]
     },
     "metadata": {},
     "output_type": "display_data"
    },
    {
     "data": {
      "text/plain": [
       "[('work', 0.30560474447509112),\n",
       " ('tractor', 0.1284917341316229),\n",
       " ('living-conditions', 0.10679193903210146),\n",
       " ('cashflow', 0.067890536605872617),\n",
       " ('recruitment', 0.061160163526668289),\n",
       " ('mentor', 0.057377533095718858),\n",
       " ('market-2', 0.051725120787786086),\n",
       " ('moral-rights', 0.050871436086932384)]"
      ]
     },
     "metadata": {},
     "output_type": "display_data"
    },
    {
     "name": "stdout",
     "output_type": "stream",
     "text": [
      "\n"
     ]
    },
    {
     "data": {
      "text/plain": [
       "'data/clean/clean-comments-report-support.txt'"
      ]
     },
     "metadata": {},
     "output_type": "display_data"
    },
    {
     "data": {
      "text/plain": [
       "[('work', 0.3677140631380143),\n",
       " ('living-conditions', 0.13123961890650954),\n",
       " ('tractor', 0.097694869360702249),\n",
       " ('mentor', 0.080331235785466762),\n",
       " ('cashflow', 0.071063616240521835),\n",
       " ('moral-rights', 0.060604870539395776),\n",
       " ('relationships', 0.051652319714729486)]"
      ]
     },
     "metadata": {},
     "output_type": "display_data"
    },
    {
     "name": "stdout",
     "output_type": "stream",
     "text": [
      "\n"
     ]
    },
    {
     "data": {
      "text/plain": [
       "'data/clean/clean-comments-rest-conception.txt'"
      ]
     },
     "metadata": {},
     "output_type": "display_data"
    },
    {
     "data": {
      "text/plain": [
       "[('work', 0.33269390835250706),\n",
       " ('living-conditions', 0.11370242334877877),\n",
       " ('mentor', 0.10457251009271618),\n",
       " ('tractor', 0.083093590676880255),\n",
       " ('relationships', 0.081126253536857137),\n",
       " ('moral-rights', 0.078327388205808091),\n",
       " ('market-2', 0.057433410690812758)]"
      ]
     },
     "metadata": {},
     "output_type": "display_data"
    },
    {
     "name": "stdout",
     "output_type": "stream",
     "text": [
      "\n"
     ]
    },
    {
     "data": {
      "text/plain": [
       "'data/clean/clean-comments-resume-failures.txt'"
      ]
     },
     "metadata": {},
     "output_type": "display_data"
    },
    {
     "data": {
      "text/plain": [
       "[('work', 0.32853506577163782),\n",
       " ('mentor', 0.12519604165848161),\n",
       " ('tractor', 0.1090205368850993),\n",
       " ('living-conditions', 0.10226770840541141),\n",
       " ('moral-rights', 0.072674444387584858),\n",
       " ('relationships', 0.055516402288561854)]"
      ]
     },
     "metadata": {},
     "output_type": "display_data"
    },
    {
     "name": "stdout",
     "output_type": "stream",
     "text": [
      "\n"
     ]
    },
    {
     "data": {
      "text/plain": [
       "'data/clean/clean-comments-salary-survey-may-2016.txt'"
      ]
     },
     "metadata": {},
     "output_type": "display_data"
    },
    {
     "data": {
      "text/plain": [
       "[('work', 0.32180420149587424),\n",
       " ('tractor', 0.14202535093149979),\n",
       " ('living-conditions', 0.12412274362275469),\n",
       " ('mentor', 0.086360325862057136),\n",
       " ('taxes', 0.061159455896175045),\n",
       " ('moral-rights', 0.053790797792599501)]"
      ]
     },
     "metadata": {},
     "output_type": "display_data"
    },
    {
     "name": "stdout",
     "output_type": "stream",
     "text": [
      "\n"
     ]
    },
    {
     "data": {
      "text/plain": [
       "'data/clean/clean-comments-scalable-project-management.txt'"
      ]
     },
     "metadata": {},
     "output_type": "display_data"
    },
    {
     "data": {
      "text/plain": [
       "[('work', 0.28108293563227366),\n",
       " ('mentor', 0.1150613254817915),\n",
       " ('living-conditions', 0.10832903046683591),\n",
       " ('moral-rights', 0.094595213944353759),\n",
       " ('tractor', 0.091617348540449797),\n",
       " ('cashflow', 0.071724745753381211),\n",
       " ('market-2', 0.064720046906526732),\n",
       " ('relationships', 0.060894256468792207)]"
      ]
     },
     "metadata": {},
     "output_type": "display_data"
    },
    {
     "name": "stdout",
     "output_type": "stream",
     "text": [
      "\n"
     ]
    },
    {
     "data": {
      "text/plain": [
       "'data/clean/clean-comments-seniority-n-salary.txt'"
      ]
     },
     "metadata": {},
     "output_type": "display_data"
    },
    {
     "data": {
      "text/plain": [
       "[('work', 0.35354837284361307),\n",
       " ('tractor', 0.10919972037398774),\n",
       " ('moral-rights', 0.085072766764290167),\n",
       " ('mentor', 0.071287658482747471),\n",
       " ('living-conditions', 0.065919979487510369),\n",
       " ('market-2', 0.063974764859747915),\n",
       " ('relationships', 0.06239027013411641)]"
      ]
     },
     "metadata": {},
     "output_type": "display_data"
    },
    {
     "name": "stdout",
     "output_type": "stream",
     "text": [
      "\n"
     ]
    },
    {
     "data": {
      "text/plain": [
       "'data/clean/clean-comments-seniority.txt'"
      ]
     },
     "metadata": {},
     "output_type": "display_data"
    },
    {
     "data": {
      "text/plain": [
       "[('work', 0.3187249835599294),\n",
       " ('living-conditions', 0.11011855652170056),\n",
       " ('tractor', 0.10454204210762526),\n",
       " ('mentor', 0.080382623833881811),\n",
       " ('moral-rights', 0.075265645138895151),\n",
       " ('market-2', 0.072460509724043123),\n",
       " ('cashflow', 0.067396764002132306),\n",
       " ('relationships', 0.053926546092122218)]"
      ]
     },
     "metadata": {},
     "output_type": "display_data"
    },
    {
     "name": "stdout",
     "output_type": "stream",
     "text": [
      "\n"
     ]
    },
    {
     "data": {
      "text/plain": [
       "'data/clean/clean-comments-soft-launch.txt'"
      ]
     },
     "metadata": {},
     "output_type": "display_data"
    },
    {
     "data": {
      "text/plain": [
       "[('work', 0.76661908696557757), ('politics', 0.14992746372997698)]"
      ]
     },
     "metadata": {},
     "output_type": "display_data"
    },
    {
     "name": "stdout",
     "output_type": "stream",
     "text": [
      "\n"
     ]
    },
    {
     "data": {
      "text/plain": [
       "'data/clean/clean-comments-specialization.txt'"
      ]
     },
     "metadata": {},
     "output_type": "display_data"
    },
    {
     "data": {
      "text/plain": [
       "[('work', 0.3582977760012932),\n",
       " ('tractor', 0.11690854553959146),\n",
       " ('living-conditions', 0.11462165297549248),\n",
       " ('moral-rights', 0.070079350761220391),\n",
       " ('mentor', 0.063940458436244657),\n",
       " ('cashflow', 0.057383175759186882),\n",
       " ('market-2', 0.055381545712788402)]"
      ]
     },
     "metadata": {},
     "output_type": "display_data"
    },
    {
     "name": "stdout",
     "output_type": "stream",
     "text": [
      "\n"
     ]
    },
    {
     "data": {
      "text/plain": [
       "'data/clean/clean-comments-sql-server-digest-10.txt'"
      ]
     },
     "metadata": {},
     "output_type": "display_data"
    },
    {
     "data": {
      "text/plain": [
       "[('taxes', 0.6093829108825608),\n",
       " ('cashflow', 0.14994923011113986),\n",
       " ('tractor', 0.13650117815135179)]"
      ]
     },
     "metadata": {},
     "output_type": "display_data"
    },
    {
     "name": "stdout",
     "output_type": "stream",
     "text": [
      "\n"
     ]
    },
    {
     "data": {
      "text/plain": [
       "'data/clean/clean-comments-to-win-hackathon.txt'"
      ]
     },
     "metadata": {},
     "output_type": "display_data"
    },
    {
     "data": {
      "text/plain": [
       "[('work', 0.38873673280855364),\n",
       " ('moral-rights', 0.15181971112467296),\n",
       " ('living-conditions', 0.11655793065060849),\n",
       " ('cashflow', 0.064435822170246806),\n",
       " ('tractor', 0.060088757890256597)]"
      ]
     },
     "metadata": {},
     "output_type": "display_data"
    },
    {
     "name": "stdout",
     "output_type": "stream",
     "text": [
      "\n"
     ]
    },
    {
     "data": {
      "text/plain": [
       "'data/clean/clean-comments-typescript-1.txt'"
      ]
     },
     "metadata": {},
     "output_type": "display_data"
    },
    {
     "data": {
      "text/plain": [
       "[('work', 0.33130544706473702),\n",
       " ('moral-rights', 0.12020120987767639),\n",
       " ('living-conditions', 0.10896329965923351),\n",
       " ('tractor', 0.087055742813400283),\n",
       " ('cashflow', 0.067627039969896816),\n",
       " ('relationships', 0.058291309076973156)]"
      ]
     },
     "metadata": {},
     "output_type": "display_data"
    },
    {
     "name": "stdout",
     "output_type": "stream",
     "text": [
      "\n"
     ]
    },
    {
     "data": {
      "text/plain": [
       "'data/clean/clean-comments-typescript-2.txt'"
      ]
     },
     "metadata": {},
     "output_type": "display_data"
    },
    {
     "data": {
      "text/plain": [
       "[('work', 0.2765074366337642),\n",
       " ('living-conditions', 0.18936520450872082),\n",
       " ('moral-rights', 0.10013737486291928),\n",
       " ('mentor', 0.071904279480799943),\n",
       " ('cashflow', 0.071197766710699439),\n",
       " ('market-2', 0.068534309534560439),\n",
       " ('tractor', 0.063281772363661767)]"
      ]
     },
     "metadata": {},
     "output_type": "display_data"
    },
    {
     "name": "stdout",
     "output_type": "stream",
     "text": [
      "\n"
     ]
    },
    {
     "data": {
      "text/plain": [
       "'data/clean/clean-comments-ukrainian-universities-2016.txt'"
      ]
     },
     "metadata": {},
     "output_type": "display_data"
    },
    {
     "data": {
      "text/plain": [
       "[('work', 0.33988644985732686),\n",
       " ('market-2', 0.087328191609687744),\n",
       " ('living-conditions', 0.085413124828686654),\n",
       " ('tractor', 0.080295159441522698),\n",
       " ('relationships', 0.07704093235437838),\n",
       " ('moral-rights', 0.070693015077703272),\n",
       " ('mentor', 0.057290743592553491),\n",
       " ('cashflow', 0.05549430009936248)]"
      ]
     },
     "metadata": {},
     "output_type": "display_data"
    },
    {
     "name": "stdout",
     "output_type": "stream",
     "text": [
      "\n"
     ]
    },
    {
     "data": {
      "text/plain": [
       "'data/clean/clean-comments-vyshyvanka-2016.txt'"
      ]
     },
     "metadata": {},
     "output_type": "display_data"
    },
    {
     "data": {
      "text/plain": [
       "[('work', 0.29227142434114461),\n",
       " ('market-2', 0.21529403325412372),\n",
       " ('moral-rights', 0.081582179391489679),\n",
       " ('taxes', 0.080861613309022862),\n",
       " ('cashflow', 0.058627507044047976),\n",
       " ('mentor', 0.052243406241948356),\n",
       " ('living-conditions', 0.051275223729761718),\n",
       " ('tractor', 0.051206924376233837)]"
      ]
     },
     "metadata": {},
     "output_type": "display_data"
    },
    {
     "name": "stdout",
     "output_type": "stream",
     "text": [
      "\n"
     ]
    },
    {
     "data": {
      "text/plain": [
       "'data/clean/clean-comments-wearables-technology-show-2016.txt'"
      ]
     },
     "metadata": {},
     "output_type": "display_data"
    },
    {
     "data": {
      "text/plain": [
       "[('work', 0.31632183449691975),\n",
       " ('living-conditions', 0.18537901679521002),\n",
       " ('market-2', 0.17302452249549061),\n",
       " ('relationships', 0.069681174279410049),\n",
       " ('moral-rights', 0.066741202342613812),\n",
       " ('tractor', 0.055503823306666811)]"
      ]
     },
     "metadata": {},
     "output_type": "display_data"
    },
    {
     "name": "stdout",
     "output_type": "stream",
     "text": [
      "\n"
     ]
    },
    {
     "data": {
      "text/plain": [
       "'data/clean/clean-comments-web-ar.txt'"
      ]
     },
     "metadata": {},
     "output_type": "display_data"
    },
    {
     "data": {
      "text/plain": [
       "[('work', 0.24869157071614734),\n",
       " ('market-2', 0.20384029461986741),\n",
       " ('living-conditions', 0.11049878110998622),\n",
       " ('mentor', 0.074197743345369813),\n",
       " ('moral-rights', 0.071071892521276436),\n",
       " ('tractor', 0.053862318796063166)]"
      ]
     },
     "metadata": {},
     "output_type": "display_data"
    },
    {
     "name": "stdout",
     "output_type": "stream",
     "text": [
      "\n"
     ]
    },
    {
     "data": {
      "text/plain": [
       "'data/clean/clean-comments-what-is-kanban.txt'"
      ]
     },
     "metadata": {},
     "output_type": "display_data"
    },
    {
     "data": {
      "text/plain": [
       "[('work', 0.31156690129159686),\n",
       " ('living-conditions', 0.18658275172953573),\n",
       " ('market-2', 0.12241784642468173),\n",
       " ('relationships', 0.091034377068602207),\n",
       " ('moral-rights', 0.052655699777372),\n",
       " ('taxes', 0.051694515907828496)]"
      ]
     },
     "metadata": {},
     "output_type": "display_data"
    },
    {
     "name": "stdout",
     "output_type": "stream",
     "text": [
      "\n"
     ]
    },
    {
     "data": {
      "text/plain": [
       "'data/clean/clean-comments-why-startup-fails.txt'"
      ]
     },
     "metadata": {},
     "output_type": "display_data"
    },
    {
     "data": {
      "text/plain": [
       "[('work', 0.34656295507677354),\n",
       " ('moral-rights', 0.095513841915271819),\n",
       " ('taxes', 0.090452773728544142),\n",
       " ('living-conditions', 0.085649635855798253),\n",
       " ('tractor', 0.083342000213370848),\n",
       " ('cashflow', 0.066166601435532324),\n",
       " ('market-2', 0.063872238842958728)]"
      ]
     },
     "metadata": {},
     "output_type": "display_data"
    },
    {
     "name": "stdout",
     "output_type": "stream",
     "text": [
      "\n"
     ]
    },
    {
     "data": {
      "text/plain": [
       "'data/clean/clean-comments-young-generation.txt'"
      ]
     },
     "metadata": {},
     "output_type": "display_data"
    },
    {
     "data": {
      "text/plain": [
       "[('work', 0.31990740155439301),\n",
       " ('tractor', 0.11976099283894727),\n",
       " ('moral-rights', 0.10426778270678023),\n",
       " ('living-conditions', 0.092855259023336814),\n",
       " ('cashflow', 0.079670751024984457),\n",
       " ('taxes', 0.059590769289490045),\n",
       " ('market-2', 0.059325136627937501),\n",
       " ('relationships', 0.058931334056858055)]"
      ]
     },
     "metadata": {},
     "output_type": "display_data"
    },
    {
     "name": "stdout",
     "output_type": "stream",
     "text": [
      "\n"
     ]
    }
   ],
   "source": [
    "for i, text in enumerate(texts):\n",
    "    display(filenames[i])\n",
    "    \n",
    "    # Print topics ordered by presence strength\n",
    "    topics_in_this_document = sorted(\n",
    "        [\n",
    "            (topic_names[idx], presence_strength)\n",
    "            for idx, presence_strength in ldamodel[dictionary.doc2bow(texts[i])]\n",
    "            if presence_strength >= 0.05\n",
    "        ],\n",
    "        key=lambda pair: pair[1],\n",
    "        reverse=True\n",
    "    )\n",
    "    display(topics_in_this_document)\n",
    "    \n",
    "    print()"
   ]
  }
 ],
 "metadata": {
  "kernelspec": {
   "display_name": "Python 3",
   "language": "python",
   "name": "python3"
  },
  "language_info": {
   "codemirror_mode": {
    "name": "ipython",
    "version": 3
   },
   "file_extension": ".py",
   "mimetype": "text/x-python",
   "name": "python",
   "nbconvert_exporter": "python",
   "pygments_lexer": "ipython3",
   "version": "3.5.1"
  }
 },
 "nbformat": 4,
 "nbformat_minor": 0
}
